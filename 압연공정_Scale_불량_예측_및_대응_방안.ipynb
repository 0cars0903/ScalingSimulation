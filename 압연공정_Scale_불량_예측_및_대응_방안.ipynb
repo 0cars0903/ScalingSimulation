{
  "cells": [
    {
      "cell_type": "code",
      "execution_count": 1,
      "id": "16075355",
      "metadata": {
        "id": "16075355"
      },
      "outputs": [],
      "source": [
        "import pandas as pd\n",
        "import numpy as np\n",
        "\n",
        "# data 시각화\n",
        "import matplotlib as mpl\n",
        "import matplotlib.pyplot as plt\n",
        "%matplotlib inline \n",
        "import seaborn as sns\n",
        "\n",
        "# data split\n",
        "from sklearn.model_selection import train_test_split\n",
        "# Scale 변환\n",
        "from sklearn.preprocessing import StandardScaler\n",
        "\n",
        "# 평가 함수\n",
        "from sklearn.metrics import accuracy_score, f1_score\n",
        "from sklearn.metrics import confusion_matrix, classification_report\n",
        "from sklearn.model_selection import GridSearchCV\n",
        "\n",
        "# 경고문 제거\n",
        "import warnings\n",
        "warnings.filterwarnings('ignore')"
      ]
    },
    {
      "cell_type": "code",
      "execution_count": 2,
      "id": "215ae699",
      "metadata": {
        "colab": {
          "base_uri": "https://localhost:8080/"
        },
        "id": "215ae699",
        "outputId": "a7a1f025-32f7-4320-999c-1a49f1a9973d"
      },
      "outputs": [
        {
          "output_type": "stream",
          "name": "stdout",
          "text": [
            "/usr/share/fonts: caching, new cache contents: 0 fonts, 1 dirs\n",
            "/usr/share/fonts/truetype: caching, new cache contents: 0 fonts, 2 dirs\n",
            "/usr/share/fonts/truetype/humor-sans: caching, new cache contents: 1 fonts, 0 dirs\n",
            "/usr/share/fonts/truetype/liberation: caching, new cache contents: 16 fonts, 0 dirs\n",
            "/usr/local/share/fonts: caching, new cache contents: 0 fonts, 0 dirs\n",
            "/root/.local/share/fonts: skipping, no such directory\n",
            "/root/.fonts: skipping, no such directory\n",
            "/usr/share/fonts/truetype: skipping, looped directory detected\n",
            "/usr/share/fonts/truetype/humor-sans: skipping, looped directory detected\n",
            "/usr/share/fonts/truetype/liberation: skipping, looped directory detected\n",
            "/var/cache/fontconfig: cleaning cache directory\n",
            "/root/.cache/fontconfig: not cleaning non-existent cache directory\n",
            "/root/.fontconfig: not cleaning non-existent cache directory\n",
            "fc-cache: succeeded\n"
          ]
        }
      ],
      "source": [
        "# 한글 폰트 설정\n",
        "# !ls -l /usr/share/fonts/truetype/\n",
        "!rm -rf ~/.cache/matplotlib/*\n",
        "!fc-cache -fv\n",
        "\n",
        "import matplotlib    \n",
        "import matplotlib.font_manager\n",
        "\n",
        "[f.name for f in matplotlib.font_manager.fontManager.ttflist if 'Nanum' in f.name]\n",
        "# 유니코드 깨짐현상 해결\n",
        "mpl.rcParams['axes.unicode_minus'] = False\n",
        "\n",
        "# 나눔고딕 폰트 전체 적용\n",
        "plt.rcParams[\"font.family\"] = 'NanumMyeongjo'"
      ]
    },
    {
      "cell_type": "code",
      "source": [
        "from google.colab import drive\n",
        "drive.mount('/content/drive')"
      ],
      "metadata": {
        "colab": {
          "base_uri": "https://localhost:8080/"
        },
        "id": "twVSf_04hTgi",
        "outputId": "6569d1b7-731e-492b-eada-6b399e132d60"
      },
      "id": "twVSf_04hTgi",
      "execution_count": 3,
      "outputs": [
        {
          "output_type": "stream",
          "name": "stdout",
          "text": [
            "Mounted at /content/drive\n"
          ]
        }
      ]
    },
    {
      "cell_type": "markdown",
      "id": "ba6ca2f4",
      "metadata": {
        "id": "ba6ca2f4"
      },
      "source": [
        "# 데이터 수집"
      ]
    },
    {
      "cell_type": "code",
      "execution_count": 4,
      "id": "6c4c2455",
      "metadata": {
        "colab": {
          "base_uri": "https://localhost:8080/",
          "height": 386
        },
        "id": "6c4c2455",
        "outputId": "0ab6fe11-d252-47b8-a38e-0d1b1b6dd322"
      },
      "outputs": [
        {
          "output_type": "execute_result",
          "data": {
            "text/plain": [
              "   PLATE_NO         ROLLING_DATE SCALE        SPEC STEEL_KIND  PT_THICK  \\\n",
              "0  PB562774  2021-08-01:08:00:01    양품  AB/EH32-TM         T1     32.25   \n",
              "1  PB562775  2021-08-01:08:07:11    양품  AB/EH32-TM         T1     32.25   \n",
              "2  PB562776  2021-08-01:08:14:21    양품   NV-E36-TM         T8     33.27   \n",
              "3  PB562777  2021-08-01:08:21:31    양품   NV-E36-TM         T8     33.27   \n",
              "4  PB562778  2021-08-01:08:28:41    양품  BV-EH36-TM         T8     38.33   \n",
              "\n",
              "   PT_WIDTH  PT_LENGTH  PT_WEIGHT FUR_NO  ... FUR_HZ_TEMP  FUR_HZ_TIME  \\\n",
              "0      3707      15109      14180    1호기  ...        1144          116   \n",
              "1      3707      15109      14180    1호기  ...        1144          122   \n",
              "2      3619      19181      18130    2호기  ...        1129          116   \n",
              "3      3619      19181      18130    2호기  ...        1152          125   \n",
              "4      3098      13334      12430    3호기  ...        1140          134   \n",
              "\n",
              "   FUR_SZ_TEMP  FUR_SZ_TIME  FUR_TIME  FUR_EXTEMP  ROLLING_TEMP_T5  HSB  \\\n",
              "0         1133           59       282        1125              934   적용   \n",
              "1         1135           53       283        1120              937   적용   \n",
              "2         1121           55       282        1106              889   적용   \n",
              "3         1127           68       316        1113              885   적용   \n",
              "4         1128           48       314        1118              873   적용   \n",
              "\n",
              "  ROLLING_DESCALING  WORK_GR  \n",
              "0                 8       2조  \n",
              "1                 8       2조  \n",
              "2                 8       3조  \n",
              "3                 8       3조  \n",
              "4                 8       1조  \n",
              "\n",
              "[5 rows x 21 columns]"
            ],
            "text/html": [
              "\n",
              "  <div id=\"df-9669473c-72d1-4d22-91a9-5c7cb87eabe3\">\n",
              "    <div class=\"colab-df-container\">\n",
              "      <div>\n",
              "<style scoped>\n",
              "    .dataframe tbody tr th:only-of-type {\n",
              "        vertical-align: middle;\n",
              "    }\n",
              "\n",
              "    .dataframe tbody tr th {\n",
              "        vertical-align: top;\n",
              "    }\n",
              "\n",
              "    .dataframe thead th {\n",
              "        text-align: right;\n",
              "    }\n",
              "</style>\n",
              "<table border=\"1\" class=\"dataframe\">\n",
              "  <thead>\n",
              "    <tr style=\"text-align: right;\">\n",
              "      <th></th>\n",
              "      <th>PLATE_NO</th>\n",
              "      <th>ROLLING_DATE</th>\n",
              "      <th>SCALE</th>\n",
              "      <th>SPEC</th>\n",
              "      <th>STEEL_KIND</th>\n",
              "      <th>PT_THICK</th>\n",
              "      <th>PT_WIDTH</th>\n",
              "      <th>PT_LENGTH</th>\n",
              "      <th>PT_WEIGHT</th>\n",
              "      <th>FUR_NO</th>\n",
              "      <th>...</th>\n",
              "      <th>FUR_HZ_TEMP</th>\n",
              "      <th>FUR_HZ_TIME</th>\n",
              "      <th>FUR_SZ_TEMP</th>\n",
              "      <th>FUR_SZ_TIME</th>\n",
              "      <th>FUR_TIME</th>\n",
              "      <th>FUR_EXTEMP</th>\n",
              "      <th>ROLLING_TEMP_T5</th>\n",
              "      <th>HSB</th>\n",
              "      <th>ROLLING_DESCALING</th>\n",
              "      <th>WORK_GR</th>\n",
              "    </tr>\n",
              "  </thead>\n",
              "  <tbody>\n",
              "    <tr>\n",
              "      <th>0</th>\n",
              "      <td>PB562774</td>\n",
              "      <td>2021-08-01:08:00:01</td>\n",
              "      <td>양품</td>\n",
              "      <td>AB/EH32-TM</td>\n",
              "      <td>T1</td>\n",
              "      <td>32.25</td>\n",
              "      <td>3707</td>\n",
              "      <td>15109</td>\n",
              "      <td>14180</td>\n",
              "      <td>1호기</td>\n",
              "      <td>...</td>\n",
              "      <td>1144</td>\n",
              "      <td>116</td>\n",
              "      <td>1133</td>\n",
              "      <td>59</td>\n",
              "      <td>282</td>\n",
              "      <td>1125</td>\n",
              "      <td>934</td>\n",
              "      <td>적용</td>\n",
              "      <td>8</td>\n",
              "      <td>2조</td>\n",
              "    </tr>\n",
              "    <tr>\n",
              "      <th>1</th>\n",
              "      <td>PB562775</td>\n",
              "      <td>2021-08-01:08:07:11</td>\n",
              "      <td>양품</td>\n",
              "      <td>AB/EH32-TM</td>\n",
              "      <td>T1</td>\n",
              "      <td>32.25</td>\n",
              "      <td>3707</td>\n",
              "      <td>15109</td>\n",
              "      <td>14180</td>\n",
              "      <td>1호기</td>\n",
              "      <td>...</td>\n",
              "      <td>1144</td>\n",
              "      <td>122</td>\n",
              "      <td>1135</td>\n",
              "      <td>53</td>\n",
              "      <td>283</td>\n",
              "      <td>1120</td>\n",
              "      <td>937</td>\n",
              "      <td>적용</td>\n",
              "      <td>8</td>\n",
              "      <td>2조</td>\n",
              "    </tr>\n",
              "    <tr>\n",
              "      <th>2</th>\n",
              "      <td>PB562776</td>\n",
              "      <td>2021-08-01:08:14:21</td>\n",
              "      <td>양품</td>\n",
              "      <td>NV-E36-TM</td>\n",
              "      <td>T8</td>\n",
              "      <td>33.27</td>\n",
              "      <td>3619</td>\n",
              "      <td>19181</td>\n",
              "      <td>18130</td>\n",
              "      <td>2호기</td>\n",
              "      <td>...</td>\n",
              "      <td>1129</td>\n",
              "      <td>116</td>\n",
              "      <td>1121</td>\n",
              "      <td>55</td>\n",
              "      <td>282</td>\n",
              "      <td>1106</td>\n",
              "      <td>889</td>\n",
              "      <td>적용</td>\n",
              "      <td>8</td>\n",
              "      <td>3조</td>\n",
              "    </tr>\n",
              "    <tr>\n",
              "      <th>3</th>\n",
              "      <td>PB562777</td>\n",
              "      <td>2021-08-01:08:21:31</td>\n",
              "      <td>양품</td>\n",
              "      <td>NV-E36-TM</td>\n",
              "      <td>T8</td>\n",
              "      <td>33.27</td>\n",
              "      <td>3619</td>\n",
              "      <td>19181</td>\n",
              "      <td>18130</td>\n",
              "      <td>2호기</td>\n",
              "      <td>...</td>\n",
              "      <td>1152</td>\n",
              "      <td>125</td>\n",
              "      <td>1127</td>\n",
              "      <td>68</td>\n",
              "      <td>316</td>\n",
              "      <td>1113</td>\n",
              "      <td>885</td>\n",
              "      <td>적용</td>\n",
              "      <td>8</td>\n",
              "      <td>3조</td>\n",
              "    </tr>\n",
              "    <tr>\n",
              "      <th>4</th>\n",
              "      <td>PB562778</td>\n",
              "      <td>2021-08-01:08:28:41</td>\n",
              "      <td>양품</td>\n",
              "      <td>BV-EH36-TM</td>\n",
              "      <td>T8</td>\n",
              "      <td>38.33</td>\n",
              "      <td>3098</td>\n",
              "      <td>13334</td>\n",
              "      <td>12430</td>\n",
              "      <td>3호기</td>\n",
              "      <td>...</td>\n",
              "      <td>1140</td>\n",
              "      <td>134</td>\n",
              "      <td>1128</td>\n",
              "      <td>48</td>\n",
              "      <td>314</td>\n",
              "      <td>1118</td>\n",
              "      <td>873</td>\n",
              "      <td>적용</td>\n",
              "      <td>8</td>\n",
              "      <td>1조</td>\n",
              "    </tr>\n",
              "  </tbody>\n",
              "</table>\n",
              "<p>5 rows × 21 columns</p>\n",
              "</div>\n",
              "      <button class=\"colab-df-convert\" onclick=\"convertToInteractive('df-9669473c-72d1-4d22-91a9-5c7cb87eabe3')\"\n",
              "              title=\"Convert this dataframe to an interactive table.\"\n",
              "              style=\"display:none;\">\n",
              "        \n",
              "  <svg xmlns=\"http://www.w3.org/2000/svg\" height=\"24px\"viewBox=\"0 0 24 24\"\n",
              "       width=\"24px\">\n",
              "    <path d=\"M0 0h24v24H0V0z\" fill=\"none\"/>\n",
              "    <path d=\"M18.56 5.44l.94 2.06.94-2.06 2.06-.94-2.06-.94-.94-2.06-.94 2.06-2.06.94zm-11 1L8.5 8.5l.94-2.06 2.06-.94-2.06-.94L8.5 2.5l-.94 2.06-2.06.94zm10 10l.94 2.06.94-2.06 2.06-.94-2.06-.94-.94-2.06-.94 2.06-2.06.94z\"/><path d=\"M17.41 7.96l-1.37-1.37c-.4-.4-.92-.59-1.43-.59-.52 0-1.04.2-1.43.59L10.3 9.45l-7.72 7.72c-.78.78-.78 2.05 0 2.83L4 21.41c.39.39.9.59 1.41.59.51 0 1.02-.2 1.41-.59l7.78-7.78 2.81-2.81c.8-.78.8-2.07 0-2.86zM5.41 20L4 18.59l7.72-7.72 1.47 1.35L5.41 20z\"/>\n",
              "  </svg>\n",
              "      </button>\n",
              "      \n",
              "  <style>\n",
              "    .colab-df-container {\n",
              "      display:flex;\n",
              "      flex-wrap:wrap;\n",
              "      gap: 12px;\n",
              "    }\n",
              "\n",
              "    .colab-df-convert {\n",
              "      background-color: #E8F0FE;\n",
              "      border: none;\n",
              "      border-radius: 50%;\n",
              "      cursor: pointer;\n",
              "      display: none;\n",
              "      fill: #1967D2;\n",
              "      height: 32px;\n",
              "      padding: 0 0 0 0;\n",
              "      width: 32px;\n",
              "    }\n",
              "\n",
              "    .colab-df-convert:hover {\n",
              "      background-color: #E2EBFA;\n",
              "      box-shadow: 0px 1px 2px rgba(60, 64, 67, 0.3), 0px 1px 3px 1px rgba(60, 64, 67, 0.15);\n",
              "      fill: #174EA6;\n",
              "    }\n",
              "\n",
              "    [theme=dark] .colab-df-convert {\n",
              "      background-color: #3B4455;\n",
              "      fill: #D2E3FC;\n",
              "    }\n",
              "\n",
              "    [theme=dark] .colab-df-convert:hover {\n",
              "      background-color: #434B5C;\n",
              "      box-shadow: 0px 1px 3px 1px rgba(0, 0, 0, 0.15);\n",
              "      filter: drop-shadow(0px 1px 2px rgba(0, 0, 0, 0.3));\n",
              "      fill: #FFFFFF;\n",
              "    }\n",
              "  </style>\n",
              "\n",
              "      <script>\n",
              "        const buttonEl =\n",
              "          document.querySelector('#df-9669473c-72d1-4d22-91a9-5c7cb87eabe3 button.colab-df-convert');\n",
              "        buttonEl.style.display =\n",
              "          google.colab.kernel.accessAllowed ? 'block' : 'none';\n",
              "\n",
              "        async function convertToInteractive(key) {\n",
              "          const element = document.querySelector('#df-9669473c-72d1-4d22-91a9-5c7cb87eabe3');\n",
              "          const dataTable =\n",
              "            await google.colab.kernel.invokeFunction('convertToInteractive',\n",
              "                                                     [key], {});\n",
              "          if (!dataTable) return;\n",
              "\n",
              "          const docLinkHtml = 'Like what you see? Visit the ' +\n",
              "            '<a target=\"_blank\" href=https://colab.research.google.com/notebooks/data_table.ipynb>data table notebook</a>'\n",
              "            + ' to learn more about interactive tables.';\n",
              "          element.innerHTML = '';\n",
              "          dataTable['output_type'] = 'display_data';\n",
              "          await google.colab.output.renderOutput(dataTable, element);\n",
              "          const docLink = document.createElement('div');\n",
              "          docLink.innerHTML = docLinkHtml;\n",
              "          element.appendChild(docLink);\n",
              "        }\n",
              "      </script>\n",
              "    </div>\n",
              "  </div>\n",
              "  "
            ]
          },
          "metadata": {},
          "execution_count": 4
        }
      ],
      "source": [
        "df_raw = pd.read_csv('/content/drive/MyDrive/Colab Notebooks/SCALE불량.csv', encoding = 'euc-kr')\n",
        "df_raw.head()"
      ]
    },
    {
      "cell_type": "code",
      "execution_count": 5,
      "id": "285111ee",
      "metadata": {
        "colab": {
          "base_uri": "https://localhost:8080/",
          "height": 426
        },
        "id": "285111ee",
        "outputId": "cd0c4111-7826-49a3-c70f-c40c3ebed360"
      },
      "outputs": [
        {
          "output_type": "execute_result",
          "data": {
            "text/plain": [
              "                   count          mean           std      min       25%  \\\n",
              "PT_THICK           720.0     29.267857     19.152651    12.03     16.09   \n",
              "PT_WIDTH           720.0   2807.127778    517.839690  1800.00   2466.00   \n",
              "PT_LENGTH          720.0  34323.269444  13828.434837  7893.00  22663.00   \n",
              "PT_WEIGHT          720.0  41481.777778  24751.322015  7820.00  17757.50   \n",
              "FUR_HZ_TEMP        720.0   1155.338889     20.866398  1103.00   1139.00   \n",
              "FUR_HZ_TIME        720.0     88.204167     36.248696    43.00     65.00   \n",
              "FUR_SZ_TEMP        720.0   1149.666667     17.571788  1113.00   1132.00   \n",
              "FUR_SZ_TIME        720.0     75.330556     26.086390    35.00     57.75   \n",
              "FUR_TIME           720.0    300.563889     45.390303   221.00    257.00   \n",
              "FUR_EXTEMP         720.0   1139.570833     17.857121  1102.00   1122.75   \n",
              "ROLLING_TEMP_T5    720.0    933.920833    107.863887     0.00    889.75   \n",
              "ROLLING_DESCALING  720.0      8.319444      1.623252     5.00      6.00   \n",
              "\n",
              "                        50%       75%        max  \n",
              "PT_THICK              20.13     40.00     100.34  \n",
              "PT_WIDTH            2725.00   3125.00    4575.00  \n",
              "PT_LENGTH          37380.00  43735.00   54917.00  \n",
              "PT_WEIGHT          36120.00  61120.00  115080.00  \n",
              "FUR_HZ_TEMP         1158.00   1171.00    1206.00  \n",
              "FUR_HZ_TIME           75.00    101.00     251.00  \n",
              "FUR_SZ_TEMP         1155.00   1164.00    1185.00  \n",
              "FUR_SZ_TIME           67.50     85.25     194.00  \n",
              "FUR_TIME             304.00    342.00     398.00  \n",
              "FUR_EXTEMP          1144.00   1154.00    1175.00  \n",
              "ROLLING_TEMP_T5      951.00    994.25    1078.00  \n",
              "ROLLING_DESCALING      8.00     10.00      10.00  "
            ],
            "text/html": [
              "\n",
              "  <div id=\"df-7c394bcd-4e96-4fe9-8808-87ea46801fe8\">\n",
              "    <div class=\"colab-df-container\">\n",
              "      <div>\n",
              "<style scoped>\n",
              "    .dataframe tbody tr th:only-of-type {\n",
              "        vertical-align: middle;\n",
              "    }\n",
              "\n",
              "    .dataframe tbody tr th {\n",
              "        vertical-align: top;\n",
              "    }\n",
              "\n",
              "    .dataframe thead th {\n",
              "        text-align: right;\n",
              "    }\n",
              "</style>\n",
              "<table border=\"1\" class=\"dataframe\">\n",
              "  <thead>\n",
              "    <tr style=\"text-align: right;\">\n",
              "      <th></th>\n",
              "      <th>count</th>\n",
              "      <th>mean</th>\n",
              "      <th>std</th>\n",
              "      <th>min</th>\n",
              "      <th>25%</th>\n",
              "      <th>50%</th>\n",
              "      <th>75%</th>\n",
              "      <th>max</th>\n",
              "    </tr>\n",
              "  </thead>\n",
              "  <tbody>\n",
              "    <tr>\n",
              "      <th>PT_THICK</th>\n",
              "      <td>720.0</td>\n",
              "      <td>29.267857</td>\n",
              "      <td>19.152651</td>\n",
              "      <td>12.03</td>\n",
              "      <td>16.09</td>\n",
              "      <td>20.13</td>\n",
              "      <td>40.00</td>\n",
              "      <td>100.34</td>\n",
              "    </tr>\n",
              "    <tr>\n",
              "      <th>PT_WIDTH</th>\n",
              "      <td>720.0</td>\n",
              "      <td>2807.127778</td>\n",
              "      <td>517.839690</td>\n",
              "      <td>1800.00</td>\n",
              "      <td>2466.00</td>\n",
              "      <td>2725.00</td>\n",
              "      <td>3125.00</td>\n",
              "      <td>4575.00</td>\n",
              "    </tr>\n",
              "    <tr>\n",
              "      <th>PT_LENGTH</th>\n",
              "      <td>720.0</td>\n",
              "      <td>34323.269444</td>\n",
              "      <td>13828.434837</td>\n",
              "      <td>7893.00</td>\n",
              "      <td>22663.00</td>\n",
              "      <td>37380.00</td>\n",
              "      <td>43735.00</td>\n",
              "      <td>54917.00</td>\n",
              "    </tr>\n",
              "    <tr>\n",
              "      <th>PT_WEIGHT</th>\n",
              "      <td>720.0</td>\n",
              "      <td>41481.777778</td>\n",
              "      <td>24751.322015</td>\n",
              "      <td>7820.00</td>\n",
              "      <td>17757.50</td>\n",
              "      <td>36120.00</td>\n",
              "      <td>61120.00</td>\n",
              "      <td>115080.00</td>\n",
              "    </tr>\n",
              "    <tr>\n",
              "      <th>FUR_HZ_TEMP</th>\n",
              "      <td>720.0</td>\n",
              "      <td>1155.338889</td>\n",
              "      <td>20.866398</td>\n",
              "      <td>1103.00</td>\n",
              "      <td>1139.00</td>\n",
              "      <td>1158.00</td>\n",
              "      <td>1171.00</td>\n",
              "      <td>1206.00</td>\n",
              "    </tr>\n",
              "    <tr>\n",
              "      <th>FUR_HZ_TIME</th>\n",
              "      <td>720.0</td>\n",
              "      <td>88.204167</td>\n",
              "      <td>36.248696</td>\n",
              "      <td>43.00</td>\n",
              "      <td>65.00</td>\n",
              "      <td>75.00</td>\n",
              "      <td>101.00</td>\n",
              "      <td>251.00</td>\n",
              "    </tr>\n",
              "    <tr>\n",
              "      <th>FUR_SZ_TEMP</th>\n",
              "      <td>720.0</td>\n",
              "      <td>1149.666667</td>\n",
              "      <td>17.571788</td>\n",
              "      <td>1113.00</td>\n",
              "      <td>1132.00</td>\n",
              "      <td>1155.00</td>\n",
              "      <td>1164.00</td>\n",
              "      <td>1185.00</td>\n",
              "    </tr>\n",
              "    <tr>\n",
              "      <th>FUR_SZ_TIME</th>\n",
              "      <td>720.0</td>\n",
              "      <td>75.330556</td>\n",
              "      <td>26.086390</td>\n",
              "      <td>35.00</td>\n",
              "      <td>57.75</td>\n",
              "      <td>67.50</td>\n",
              "      <td>85.25</td>\n",
              "      <td>194.00</td>\n",
              "    </tr>\n",
              "    <tr>\n",
              "      <th>FUR_TIME</th>\n",
              "      <td>720.0</td>\n",
              "      <td>300.563889</td>\n",
              "      <td>45.390303</td>\n",
              "      <td>221.00</td>\n",
              "      <td>257.00</td>\n",
              "      <td>304.00</td>\n",
              "      <td>342.00</td>\n",
              "      <td>398.00</td>\n",
              "    </tr>\n",
              "    <tr>\n",
              "      <th>FUR_EXTEMP</th>\n",
              "      <td>720.0</td>\n",
              "      <td>1139.570833</td>\n",
              "      <td>17.857121</td>\n",
              "      <td>1102.00</td>\n",
              "      <td>1122.75</td>\n",
              "      <td>1144.00</td>\n",
              "      <td>1154.00</td>\n",
              "      <td>1175.00</td>\n",
              "    </tr>\n",
              "    <tr>\n",
              "      <th>ROLLING_TEMP_T5</th>\n",
              "      <td>720.0</td>\n",
              "      <td>933.920833</td>\n",
              "      <td>107.863887</td>\n",
              "      <td>0.00</td>\n",
              "      <td>889.75</td>\n",
              "      <td>951.00</td>\n",
              "      <td>994.25</td>\n",
              "      <td>1078.00</td>\n",
              "    </tr>\n",
              "    <tr>\n",
              "      <th>ROLLING_DESCALING</th>\n",
              "      <td>720.0</td>\n",
              "      <td>8.319444</td>\n",
              "      <td>1.623252</td>\n",
              "      <td>5.00</td>\n",
              "      <td>6.00</td>\n",
              "      <td>8.00</td>\n",
              "      <td>10.00</td>\n",
              "      <td>10.00</td>\n",
              "    </tr>\n",
              "  </tbody>\n",
              "</table>\n",
              "</div>\n",
              "      <button class=\"colab-df-convert\" onclick=\"convertToInteractive('df-7c394bcd-4e96-4fe9-8808-87ea46801fe8')\"\n",
              "              title=\"Convert this dataframe to an interactive table.\"\n",
              "              style=\"display:none;\">\n",
              "        \n",
              "  <svg xmlns=\"http://www.w3.org/2000/svg\" height=\"24px\"viewBox=\"0 0 24 24\"\n",
              "       width=\"24px\">\n",
              "    <path d=\"M0 0h24v24H0V0z\" fill=\"none\"/>\n",
              "    <path d=\"M18.56 5.44l.94 2.06.94-2.06 2.06-.94-2.06-.94-.94-2.06-.94 2.06-2.06.94zm-11 1L8.5 8.5l.94-2.06 2.06-.94-2.06-.94L8.5 2.5l-.94 2.06-2.06.94zm10 10l.94 2.06.94-2.06 2.06-.94-2.06-.94-.94-2.06-.94 2.06-2.06.94z\"/><path d=\"M17.41 7.96l-1.37-1.37c-.4-.4-.92-.59-1.43-.59-.52 0-1.04.2-1.43.59L10.3 9.45l-7.72 7.72c-.78.78-.78 2.05 0 2.83L4 21.41c.39.39.9.59 1.41.59.51 0 1.02-.2 1.41-.59l7.78-7.78 2.81-2.81c.8-.78.8-2.07 0-2.86zM5.41 20L4 18.59l7.72-7.72 1.47 1.35L5.41 20z\"/>\n",
              "  </svg>\n",
              "      </button>\n",
              "      \n",
              "  <style>\n",
              "    .colab-df-container {\n",
              "      display:flex;\n",
              "      flex-wrap:wrap;\n",
              "      gap: 12px;\n",
              "    }\n",
              "\n",
              "    .colab-df-convert {\n",
              "      background-color: #E8F0FE;\n",
              "      border: none;\n",
              "      border-radius: 50%;\n",
              "      cursor: pointer;\n",
              "      display: none;\n",
              "      fill: #1967D2;\n",
              "      height: 32px;\n",
              "      padding: 0 0 0 0;\n",
              "      width: 32px;\n",
              "    }\n",
              "\n",
              "    .colab-df-convert:hover {\n",
              "      background-color: #E2EBFA;\n",
              "      box-shadow: 0px 1px 2px rgba(60, 64, 67, 0.3), 0px 1px 3px 1px rgba(60, 64, 67, 0.15);\n",
              "      fill: #174EA6;\n",
              "    }\n",
              "\n",
              "    [theme=dark] .colab-df-convert {\n",
              "      background-color: #3B4455;\n",
              "      fill: #D2E3FC;\n",
              "    }\n",
              "\n",
              "    [theme=dark] .colab-df-convert:hover {\n",
              "      background-color: #434B5C;\n",
              "      box-shadow: 0px 1px 3px 1px rgba(0, 0, 0, 0.15);\n",
              "      filter: drop-shadow(0px 1px 2px rgba(0, 0, 0, 0.3));\n",
              "      fill: #FFFFFF;\n",
              "    }\n",
              "  </style>\n",
              "\n",
              "      <script>\n",
              "        const buttonEl =\n",
              "          document.querySelector('#df-7c394bcd-4e96-4fe9-8808-87ea46801fe8 button.colab-df-convert');\n",
              "        buttonEl.style.display =\n",
              "          google.colab.kernel.accessAllowed ? 'block' : 'none';\n",
              "\n",
              "        async function convertToInteractive(key) {\n",
              "          const element = document.querySelector('#df-7c394bcd-4e96-4fe9-8808-87ea46801fe8');\n",
              "          const dataTable =\n",
              "            await google.colab.kernel.invokeFunction('convertToInteractive',\n",
              "                                                     [key], {});\n",
              "          if (!dataTable) return;\n",
              "\n",
              "          const docLinkHtml = 'Like what you see? Visit the ' +\n",
              "            '<a target=\"_blank\" href=https://colab.research.google.com/notebooks/data_table.ipynb>data table notebook</a>'\n",
              "            + ' to learn more about interactive tables.';\n",
              "          element.innerHTML = '';\n",
              "          dataTable['output_type'] = 'display_data';\n",
              "          await google.colab.output.renderOutput(dataTable, element);\n",
              "          const docLink = document.createElement('div');\n",
              "          docLink.innerHTML = docLinkHtml;\n",
              "          element.appendChild(docLink);\n",
              "        }\n",
              "      </script>\n",
              "    </div>\n",
              "  </div>\n",
              "  "
            ]
          },
          "metadata": {},
          "execution_count": 5
        }
      ],
      "source": [
        "df_raw.describe().T"
      ]
    },
    {
      "cell_type": "markdown",
      "id": "69082e18",
      "metadata": {
        "id": "69082e18"
      },
      "source": [
        "압연온도 최소값이 0인 것은 이상치일 확률이 높다."
      ]
    },
    {
      "cell_type": "markdown",
      "id": "429eaa4d",
      "metadata": {
        "id": "429eaa4d"
      },
      "source": [
        "연속형 변수가 아닌 범주형 변수의 0,1은 object로 정의"
      ]
    },
    {
      "cell_type": "code",
      "execution_count": 6,
      "id": "5d071ce7",
      "metadata": {
        "id": "5d071ce7"
      },
      "outputs": [],
      "source": [
        "df_raw['FUR_NO_ROW'] = df_raw['FUR_NO_ROW'].astype('object')\n",
        "df_raw['WORK_GR'] = df_raw['WORK_GR'].astype('object')\n",
        "df_raw['HSB'] = df_raw['HSB'].astype('object')\n",
        "df_raw['SCALE'] = np.where(df_raw['SCALE'] == '양품', 0, 1) # 불량:1 양품:0으로 변환\n",
        "df_raw['SCALE'] = df_raw['SCALE'].astype('object')"
      ]
    },
    {
      "cell_type": "markdown",
      "id": "29c85894",
      "metadata": {
        "id": "29c85894"
      },
      "source": [
        "# 데이터 정제"
      ]
    },
    {
      "cell_type": "markdown",
      "id": "0b8650ec",
      "metadata": {
        "id": "0b8650ec"
      },
      "source": [
        "## 결측치"
      ]
    },
    {
      "cell_type": "markdown",
      "id": "02c12842",
      "metadata": {
        "id": "02c12842"
      },
      "source": [
        "## 이상치"
      ]
    },
    {
      "cell_type": "markdown",
      "id": "757f173c",
      "metadata": {
        "id": "757f173c"
      },
      "source": [
        "### 압연온도 이상치 처리"
      ]
    },
    {
      "cell_type": "code",
      "execution_count": 7,
      "id": "0ae18590",
      "metadata": {
        "id": "0ae18590"
      },
      "outputs": [],
      "source": [
        "from sklearn.impute import SimpleImputer"
      ]
    },
    {
      "cell_type": "code",
      "execution_count": 8,
      "id": "90109f8b",
      "metadata": {
        "colab": {
          "base_uri": "https://localhost:8080/",
          "height": 284
        },
        "id": "90109f8b",
        "outputId": "f26cbd6a-ac69-4f6b-8ad3-5777f8e173b9"
      },
      "outputs": [
        {
          "output_type": "execute_result",
          "data": {
            "text/plain": [
              "<AxesSubplot:>"
            ]
          },
          "metadata": {},
          "execution_count": 8
        },
        {
          "output_type": "stream",
          "name": "stderr",
          "text": [
            "WARNING:matplotlib.font_manager:findfont: Font family ['NanumMyeongjo'] not found. Falling back to DejaVu Sans.\n"
          ]
        },
        {
          "output_type": "display_data",
          "data": {
            "text/plain": [
              "<Figure size 432x288 with 1 Axes>"
            ],
            "image/png": "[encoded data removed]"
          },
          "metadata": {
            "needs_background": "light"
          }
        }
      ],
      "source": [
        "df_raw[['ROLLING_TEMP_T5']].boxplot()"
      ]
    },
    {
      "cell_type": "code",
      "execution_count": 9,
      "id": "1185d2f9",
      "metadata": {
        "id": "1185d2f9"
      },
      "outputs": [],
      "source": [
        "df_raw.sort_values(by='ROLLING_TEMP_T5', ascending=False).tail(6)\n",
        "df_raw.drop(df_raw[df_raw['ROLLING_TEMP_T5'] == 0].index, inplace=True)"
      ]
    },
    {
      "cell_type": "code",
      "execution_count": 10,
      "id": "be8b3808",
      "metadata": {
        "colab": {
          "base_uri": "https://localhost:8080/",
          "height": 284
        },
        "id": "be8b3808",
        "outputId": "7bec2a56-f2c6-47fb-9e69-361e338a66c2"
      },
      "outputs": [
        {
          "output_type": "execute_result",
          "data": {
            "text/plain": [
              "<AxesSubplot:>"
            ]
          },
          "metadata": {},
          "execution_count": 10
        },
        {
          "output_type": "display_data",
          "data": {
            "text/plain": [
              "<Figure size 432x288 with 1 Axes>"
            ],
            "image/png": "[encoded data removed]"
          },
          "metadata": {
            "needs_background": "light"
          }
        }
      ],
      "source": [
        "df_raw[['ROLLING_TEMP_T5']].boxplot()"
      ]
    },
    {
      "cell_type": "code",
      "execution_count": 11,
      "id": "d169d3a6",
      "metadata": {
        "colab": {
          "base_uri": "https://localhost:8080/",
          "height": 284
        },
        "id": "d169d3a6",
        "outputId": "247bc9a1-d0d3-4fc0-ca1e-58d244daf509"
      },
      "outputs": [
        {
          "output_type": "execute_result",
          "data": {
            "text/plain": [
              "<AxesSubplot:>"
            ]
          },
          "metadata": {},
          "execution_count": 11
        },
        {
          "output_type": "display_data",
          "data": {
            "text/plain": [
              "<Figure size 432x288 with 1 Axes>"
            ],
            "image/png": "[encoded data removed]"
          },
          "metadata": {
            "needs_background": "light"
          }
        }
      ],
      "source": [
        "# FUR_HZ_TIME\n",
        "IQR = df_raw['ROLLING_TEMP_T5'].quantile(0.75) - df_raw['ROLLING_TEMP_T5'].quantile(0.25)\n",
        "line_down = df_raw['ROLLING_TEMP_T5'].quantile(0.25) - IQR*1.5\n",
        "line_up = df_raw['ROLLING_TEMP_T5'].quantile(0.75) + IQR*1.5\n",
        "\n",
        "winsoried = df_raw['ROLLING_TEMP_T5'].clip(line_down, line_up)\n",
        "df_raw['ROLLING_TEMP_T5'] = winsoried \n",
        "df_raw[['ROLLING_TEMP_T5']].boxplot()"
      ]
    },
    {
      "cell_type": "markdown",
      "id": "a0e23ed0",
      "metadata": {
        "id": "a0e23ed0"
      },
      "source": [
        "### 이상치 처리 : IQR 상한값 하한값 처리"
      ]
    },
    {
      "cell_type": "code",
      "execution_count": 12,
      "id": "729935b5",
      "metadata": {
        "id": "729935b5"
      },
      "outputs": [],
      "source": [
        "# FUR_HZ_TIME\n",
        "IQR = df_raw['FUR_HZ_TIME'].quantile(0.75) - df_raw['FUR_HZ_TIME'].quantile(0.25)\n",
        "line_down = df_raw['FUR_HZ_TIME'].quantile(0.25) - IQR*1.5\n",
        "line_up = df_raw['FUR_HZ_TIME'].quantile(0.75) + IQR*1.5\n",
        "\n",
        "winsoried = df_raw['FUR_HZ_TIME'].clip(line_down, line_up)\n",
        "df_raw['FUR_HZ_TIME'] = winsoried \n",
        "# FUR_SZ_TIME\n",
        "IQR = df_raw['FUR_SZ_TIME'].quantile(0.75) - df_raw['FUR_SZ_TIME'].quantile(0.25)\n",
        "line_down = df_raw['FUR_SZ_TIME'].quantile(0.25) - IQR*1.5\n",
        "line_up = df_raw['FUR_SZ_TIME'].quantile(0.75) + IQR*1.5\n",
        "\n",
        "winsoried = df_raw['FUR_SZ_TIME'].clip(line_down, line_up)\n",
        "df_raw['FUR_SZ_TIME'] = winsoried \n",
        "# & PT_THICK\n",
        "IQR = df_raw['PT_THICK'].quantile(0.75) - df_raw['PT_THICK'].quantile(0.25)\n",
        "line_down = df_raw['PT_THICK'].quantile(0.25) - IQR*1.5\n",
        "line_up = df_raw['PT_THICK'].quantile(0.75) + IQR*1.5\n",
        "\n",
        "winsoried = df_raw['PT_THICK'].clip(line_down, line_up)\n",
        "df_raw['PT_THICK'] = winsoried \n",
        "# PT_WIDTH \n",
        "IQR = df_raw['PT_WIDTH'].quantile(0.75) - df_raw['PT_WIDTH'].quantile(0.25)\n",
        "line_down = df_raw['PT_WIDTH'].quantile(0.25) - IQR*1.5\n",
        "line_up = df_raw['PT_WIDTH'].quantile(0.75) + IQR*1.5\n",
        "\n",
        "winsoried = df_raw['PT_WIDTH'].clip(line_down, line_up)\n",
        "df_raw['PT_WIDTH'] = winsoried "
      ]
    },
    {
      "cell_type": "code",
      "execution_count": 13,
      "id": "fba747b8",
      "metadata": {
        "colab": {
          "base_uri": "https://localhost:8080/",
          "height": 287
        },
        "id": "fba747b8",
        "outputId": "d1f06438-aaf0-4b6c-bf34-59467fffbbae"
      },
      "outputs": [
        {
          "output_type": "execute_result",
          "data": {
            "text/plain": [
              "<AxesSubplot:>"
            ]
          },
          "metadata": {},
          "execution_count": 13
        },
        {
          "output_type": "display_data",
          "data": {
            "text/plain": [
              "<Figure size 432x288 with 1 Axes>"
            ],
            "image/png": "[encoded data removed]"
          },
          "metadata": {
            "needs_background": "light"
          }
        }
      ],
      "source": [
        "df_raw[['FUR_SZ_TIME', 'FUR_HZ_TIME']].boxplot()"
      ]
    },
    {
      "cell_type": "code",
      "execution_count": 14,
      "id": "fafb54dc",
      "metadata": {
        "colab": {
          "base_uri": "https://localhost:8080/",
          "height": 284
        },
        "id": "fafb54dc",
        "outputId": "44d7f120-b65f-4e5c-9929-e65c436b7cd0"
      },
      "outputs": [
        {
          "output_type": "execute_result",
          "data": {
            "text/plain": [
              "<AxesSubplot:>"
            ]
          },
          "metadata": {},
          "execution_count": 14
        },
        {
          "output_type": "display_data",
          "data": {
            "text/plain": [
              "<Figure size 432x288 with 1 Axes>"
            ],
            "image/png": "[encoded data removed]"
          },
          "metadata": {
            "needs_background": "light"
          }
        }
      ],
      "source": [
        "df_raw[['PT_THICK']].boxplot()"
      ]
    },
    {
      "cell_type": "code",
      "execution_count": 15,
      "id": "2ac4f8d2",
      "metadata": {
        "colab": {
          "base_uri": "https://localhost:8080/",
          "height": 284
        },
        "id": "2ac4f8d2",
        "outputId": "4a86b64f-f541-4338-f927-e38dadf2b4ea"
      },
      "outputs": [
        {
          "output_type": "execute_result",
          "data": {
            "text/plain": [
              "<AxesSubplot:>"
            ]
          },
          "metadata": {},
          "execution_count": 15
        },
        {
          "output_type": "display_data",
          "data": {
            "text/plain": [
              "<Figure size 432x288 with 1 Axes>"
            ],
            "image/png": "[encoded data removed]"
          },
          "metadata": {
            "needs_background": "light"
          }
        }
      ],
      "source": [
        "df_raw[['PT_WIDTH']].boxplot()"
      ]
    },
    {
      "cell_type": "code",
      "execution_count": 16,
      "id": "4d4c234c",
      "metadata": {
        "id": "4d4c234c"
      },
      "outputs": [],
      "source": [
        "IQR = df_raw['ROLLING_TEMP_T5'].quantile(0.75) - df_raw['ROLLING_TEMP_T5'].quantile(0.25)\n",
        "line_down = df_raw['ROLLING_TEMP_T5'].quantile(0.25) - IQR*1.5\n",
        "line_up = df_raw['ROLLING_TEMP_T5'].quantile(0.75) + IQR*1.5\n",
        "\n",
        "winsoried = df_raw['ROLLING_TEMP_T5'].clip(line_down, line_up)\n",
        "df_raw['ROLLING_TEMP_T5'] = winsoried "
      ]
    },
    {
      "cell_type": "code",
      "execution_count": 17,
      "id": "8f767524",
      "metadata": {
        "colab": {
          "base_uri": "https://localhost:8080/",
          "height": 284
        },
        "id": "8f767524",
        "outputId": "30b8e8c0-f4f3-453a-cc9d-fe549c90dc44"
      },
      "outputs": [
        {
          "output_type": "execute_result",
          "data": {
            "text/plain": [
              "<AxesSubplot:>"
            ]
          },
          "metadata": {},
          "execution_count": 17
        },
        {
          "output_type": "display_data",
          "data": {
            "text/plain": [
              "<Figure size 432x288 with 1 Axes>"
            ],
            "image/png": "[encoded data removed]"
          },
          "metadata": {
            "needs_background": "light"
          }
        }
      ],
      "source": [
        "df_raw[['ROLLING_TEMP_T5']].boxplot()"
      ]
    },
    {
      "cell_type": "markdown",
      "id": "98896909",
      "metadata": {
        "id": "98896909"
      },
      "source": [
        "# 탐색적 분석"
      ]
    },
    {
      "cell_type": "markdown",
      "id": "fb3b26d9",
      "metadata": {
        "id": "fb3b26d9"
      },
      "source": [
        "## Histogam"
      ]
    },
    {
      "cell_type": "markdown",
      "id": "21dcafef",
      "metadata": {
        "id": "21dcafef"
      },
      "source": [
        "불량품이 전체의 32%를 차지\n"
      ]
    },
    {
      "cell_type": "code",
      "execution_count": 18,
      "id": "bcec3c47",
      "metadata": {
        "id": "bcec3c47"
      },
      "outputs": [],
      "source": [
        "def fun_plot_his(data, var):\n",
        "    plt.figure(figsize = (3,3))\n",
        "    plt.hist(data[data[\"SCALE\"] == 0][var], label = \"양품\", alpha = 0.5)\n",
        "    plt.hist(data[data[\"SCALE\"] == 1][var], label = \"불량\", alpha = 0.5)\n",
        "    plt.legend()"
      ]
    },
    {
      "cell_type": "markdown",
      "id": "65d99e59",
      "metadata": {
        "id": "65d99e59"
      },
      "source": [
        "PT_THICK"
      ]
    },
    {
      "cell_type": "markdown",
      "id": "f72bf78e",
      "metadata": {
        "id": "f72bf78e"
      },
      "source": [
        "1. 두께가 앏을 수록 scale이 증가한다."
      ]
    },
    {
      "cell_type": "code",
      "execution_count": 19,
      "id": "5d2d735f",
      "metadata": {
        "colab": {
          "base_uri": "https://localhost:8080/",
          "height": 244
        },
        "id": "5d2d735f",
        "outputId": "d4f13bc6-61df-4e90-a801-676fe799c7c7"
      },
      "outputs": [
        {
          "output_type": "execute_result",
          "data": {
            "text/plain": [
              "Text(0.5, 0, 'PT_THICK')"
            ]
          },
          "metadata": {},
          "execution_count": 19
        },
        {
          "output_type": "display_data",
          "data": {
            "text/plain": [
              "<Figure size 216x216 with 1 Axes>"
            ],
            "image/png": "[encoded data removed]"
          },
          "metadata": {
            "needs_background": "light"
          }
        }
      ],
      "source": [
        "fun_plot_his(df_raw, 'PT_THICK')\n",
        "plt.xlabel('PT_THICK')"
      ]
    },
    {
      "cell_type": "code",
      "execution_count": 20,
      "id": "c472d64b",
      "metadata": {
        "colab": {
          "base_uri": "https://localhost:8080/",
          "height": 244
        },
        "id": "c472d64b",
        "outputId": "0d543135-d65e-49e0-ba0b-e85d9ee76539"
      },
      "outputs": [
        {
          "output_type": "execute_result",
          "data": {
            "text/plain": [
              "Text(0.5, 0, 'PT_WIDTH')"
            ]
          },
          "metadata": {},
          "execution_count": 20
        },
        {
          "output_type": "display_data",
          "data": {
            "text/plain": [
              "<Figure size 216x216 with 1 Axes>"
            ],
            "image/png": "[encoded data removed]"
          },
          "metadata": {
            "needs_background": "light"
          }
        }
      ],
      "source": [
        "fun_plot_his(df_raw, 'PT_WIDTH')\n",
        "plt.xlabel('PT_WIDTH')"
      ]
    },
    {
      "cell_type": "markdown",
      "id": "1b03eb39",
      "metadata": {
        "id": "1b03eb39"
      },
      "source": [
        "2. 너비가 좁을 수록 scale이 증가한다.  "
      ]
    },
    {
      "cell_type": "code",
      "execution_count": 21,
      "id": "502854f0",
      "metadata": {
        "colab": {
          "base_uri": "https://localhost:8080/",
          "height": 244
        },
        "id": "502854f0",
        "outputId": "df8f11c2-d2d8-4cf6-96f3-74f55b22be59"
      },
      "outputs": [
        {
          "output_type": "execute_result",
          "data": {
            "text/plain": [
              "Text(0.5, 0, 'PT_LENGTH')"
            ]
          },
          "metadata": {},
          "execution_count": 21
        },
        {
          "output_type": "display_data",
          "data": {
            "text/plain": [
              "<Figure size 216x216 with 1 Axes>"
            ],
            "image/png": "[encoded data removed]"
          },
          "metadata": {
            "needs_background": "light"
          }
        }
      ],
      "source": [
        "fun_plot_his(df_raw, 'PT_LENGTH')\n",
        "plt.xlabel('PT_LENGTH')"
      ]
    },
    {
      "cell_type": "markdown",
      "id": "0ed33897",
      "metadata": {
        "id": "0ed33897"
      },
      "source": [
        "3. 길이가 30000~40000까지는 scale의 비율 50%, 그 이상은 다시 양품의 비율이 증가한다.   "
      ]
    },
    {
      "cell_type": "code",
      "execution_count": 22,
      "id": "fa6350e2",
      "metadata": {
        "colab": {
          "base_uri": "https://localhost:8080/",
          "height": 244
        },
        "id": "fa6350e2",
        "outputId": "4eded117-f8d9-4c9e-d959-76a6c0c751c6"
      },
      "outputs": [
        {
          "output_type": "execute_result",
          "data": {
            "text/plain": [
              "Text(0.5, 0, 'PT_WEIGHT')"
            ]
          },
          "metadata": {},
          "execution_count": 22
        },
        {
          "output_type": "display_data",
          "data": {
            "text/plain": [
              "<Figure size 216x216 with 1 Axes>"
            ],
            "image/png": "[encoded data removed]"
          },
          "metadata": {
            "needs_background": "light"
          }
        }
      ],
      "source": [
        "fun_plot_his(df_raw, 'PT_WEIGHT')\n",
        "plt.xlabel('PT_WEIGHT')"
      ]
    },
    {
      "cell_type": "markdown",
      "id": "c0b27d3f",
      "metadata": {
        "id": "c0b27d3f"
      },
      "source": [
        "  \n",
        "\n",
        "\n",
        "\n",
        "\n",
        "\n",
        "\n",
        "\n",
        "\n"
      ]
    },
    {
      "cell_type": "code",
      "execution_count": 23,
      "id": "7d4a9403",
      "metadata": {
        "colab": {
          "base_uri": "https://localhost:8080/",
          "height": 244
        },
        "id": "7d4a9403",
        "outputId": "78e4db44-7a46-4408-abf8-7457698a877c"
      },
      "outputs": [
        {
          "output_type": "execute_result",
          "data": {
            "text/plain": [
              "Text(0.5, 0, 'FUR_HZ_TEMP')"
            ]
          },
          "metadata": {},
          "execution_count": 23
        },
        {
          "output_type": "display_data",
          "data": {
            "text/plain": [
              "<Figure size 216x216 with 1 Axes>"
            ],
            "image/png": "[encoded data removed]"
          },
          "metadata": {
            "needs_background": "light"
          }
        }
      ],
      "source": [
        "fun_plot_his(df_raw, 'FUR_HZ_TEMP')\n",
        "plt.xlabel('FUR_HZ_TEMP')"
      ]
    },
    {
      "cell_type": "markdown",
      "id": "1c2cfd48",
      "metadata": {
        "id": "1c2cfd48"
      },
      "source": [
        "4. 가열대 내부 온도가 1150 ~ 1175인 경우 scale의 비율이 증가하였다.  \n",
        "- 온도의 구간별 설정(5등분) : / 1125 / 1150 / 1175 / 1200 /"
      ]
    },
    {
      "cell_type": "code",
      "execution_count": 24,
      "id": "085b7e85",
      "metadata": {
        "colab": {
          "base_uri": "https://localhost:8080/",
          "height": 244
        },
        "id": "085b7e85",
        "outputId": "b9bc0c48-ce69-4f17-c2fc-6c13b37685d9"
      },
      "outputs": [
        {
          "output_type": "execute_result",
          "data": {
            "text/plain": [
              "Text(0.5, 0, 'FUR_SZ_TEMP')"
            ]
          },
          "metadata": {},
          "execution_count": 24
        },
        {
          "output_type": "display_data",
          "data": {
            "text/plain": [
              "<Figure size 216x216 with 1 Axes>"
            ],
            "image/png": "[encoded data removed]"
          },
          "metadata": {
            "needs_background": "light"
          }
        }
      ],
      "source": [
        "fun_plot_his(df_raw, 'FUR_SZ_TEMP')\n",
        "plt.xlabel('FUR_SZ_TEMP')"
      ]
    },
    {
      "cell_type": "code",
      "execution_count": 25,
      "id": "57696fd9",
      "metadata": {
        "colab": {
          "base_uri": "https://localhost:8080/",
          "height": 244
        },
        "id": "57696fd9",
        "outputId": "283a67e0-646d-4603-d1bd-986af173ded1"
      },
      "outputs": [
        {
          "output_type": "execute_result",
          "data": {
            "text/plain": [
              "Text(0.5, 0, 'FUR_HZ_TIME')"
            ]
          },
          "metadata": {},
          "execution_count": 25
        },
        {
          "output_type": "display_data",
          "data": {
            "text/plain": [
              "<Figure size 216x216 with 1 Axes>"
            ],
            "image/png": "[encoded data removed]"
          },
          "metadata": {
            "needs_background": "light"
          }
        }
      ],
      "source": [
        "fun_plot_his(df_raw, 'FUR_HZ_TIME')\n",
        "plt.xlabel('FUR_HZ_TIME')"
      ]
    },
    {
      "cell_type": "markdown",
      "id": "3e67e47c",
      "metadata": {
        "id": "3e67e47c"
      },
      "source": [
        "6. 균열대 내부 온도가 1150도 이상인 경우 불량률이 증가한다.  "
      ]
    },
    {
      "cell_type": "code",
      "execution_count": 26,
      "id": "80cff4af",
      "metadata": {
        "colab": {
          "base_uri": "https://localhost:8080/",
          "height": 244
        },
        "id": "80cff4af",
        "outputId": "fdc38aa0-bbc7-4d35-b57b-8fd7b7de4b94"
      },
      "outputs": [
        {
          "output_type": "execute_result",
          "data": {
            "text/plain": [
              "Text(0.5, 0, 'FUR_SZ_TIME')"
            ]
          },
          "metadata": {},
          "execution_count": 26
        },
        {
          "output_type": "display_data",
          "data": {
            "text/plain": [
              "<Figure size 216x216 with 1 Axes>"
            ],
            "image/png": "[encoded data removed]"
          },
          "metadata": {
            "needs_background": "light"
          }
        }
      ],
      "source": [
        "fun_plot_his(df_raw, 'FUR_SZ_TIME')\n",
        "plt.xlabel('FUR_SZ_TIME')"
      ]
    },
    {
      "cell_type": "code",
      "execution_count": 27,
      "id": "c0f3f7af",
      "metadata": {
        "colab": {
          "base_uri": "https://localhost:8080/",
          "height": 244
        },
        "id": "c0f3f7af",
        "outputId": "3542c678-4189-4e21-e47b-310aad24bd3d"
      },
      "outputs": [
        {
          "output_type": "execute_result",
          "data": {
            "text/plain": [
              "Text(0.5, 0, 'FUR_EXTEMP')"
            ]
          },
          "metadata": {},
          "execution_count": 27
        },
        {
          "output_type": "display_data",
          "data": {
            "text/plain": [
              "<Figure size 216x216 with 1 Axes>"
            ],
            "image/png": "[encoded data removed]"
          },
          "metadata": {
            "needs_background": "light"
          }
        }
      ],
      "source": [
        "fun_plot_his(df_raw, 'FUR_EXTEMP')\n",
        "plt.xlabel('FUR_EXTEMP')"
      ]
    },
    {
      "cell_type": "markdown",
      "id": "811f51e0",
      "metadata": {
        "id": "811f51e0"
      },
      "source": [
        "9. 가열로 추출온도가 1140 이상에서 대부분의 scale이 분포하고 있다.   "
      ]
    },
    {
      "cell_type": "code",
      "execution_count": 28,
      "id": "a163d750",
      "metadata": {
        "colab": {
          "base_uri": "https://localhost:8080/",
          "height": 244
        },
        "id": "a163d750",
        "outputId": "7ec35e66-5474-4ee3-f72a-4a4e9689215c"
      },
      "outputs": [
        {
          "output_type": "execute_result",
          "data": {
            "text/plain": [
              "Text(0.5, 0, 'ROLLING_TEMP_T5')"
            ]
          },
          "metadata": {},
          "execution_count": 28
        },
        {
          "output_type": "display_data",
          "data": {
            "text/plain": [
              "<Figure size 216x216 with 1 Axes>"
            ],
            "image/png": "[encoded data removed]"
          },
          "metadata": {
            "needs_background": "light"
          }
        }
      ],
      "source": [
        "fun_plot_his(df_raw, 'ROLLING_TEMP_T5')\n",
        "plt.xlabel('ROLLING_TEMP_T5')"
      ]
    },
    {
      "cell_type": "markdown",
      "id": "2667670a",
      "metadata": {
        "id": "2667670a"
      },
      "source": [
        "강종별 불량률 비교"
      ]
    },
    {
      "cell_type": "code",
      "execution_count": 29,
      "id": "4fa55d42",
      "metadata": {
        "colab": {
          "base_uri": "https://localhost:8080/",
          "height": 211
        },
        "id": "4fa55d42",
        "outputId": "83de672a-ae0d-46ee-942b-94d5ccecf197"
      },
      "outputs": [
        {
          "output_type": "display_data",
          "data": {
            "text/plain": [
              "<Figure size 216x216 with 1 Axes>"
            ],
            "image/png": "[encoded data removed]"
          },
          "metadata": {
            "needs_background": "light"
          }
        }
      ],
      "source": [
        "df_kind = df_raw.sort_values(['STEEL_KIND'], ascending = False)\n",
        "df_T = df_kind.iloc[180:209,0:-1]\n",
        "df_C1 = df_kind.iloc[0:180,0:-1]\n",
        "df_C2 = df_kind.iloc[209:-1,0:-1]\n",
        "df_C = pd.concat([df_C1, df_C2], ignore_index = True)\n",
        "df_C['STEEL_KIND'] = 'C'\n",
        "df_T['STEEL_KIND'] = 'T'\n",
        "df_raw = pd.concat([df_C, df_T], ignore_index = True)\n",
        "fun_plot_his(df_raw, 'STEEL_KIND')"
      ]
    },
    {
      "cell_type": "markdown",
      "id": "465e2bd6",
      "metadata": {
        "id": "465e2bd6"
      },
      "source": [
        "탄소강에서 scale의 불량률이 높게 분석되었다."
      ]
    },
    {
      "cell_type": "code",
      "execution_count": 30,
      "id": "828349f7",
      "metadata": {
        "colab": {
          "base_uri": "https://localhost:8080/",
          "height": 213
        },
        "id": "828349f7",
        "outputId": "d6fe1fd5-f500-4de8-adea-3c8197b1bd7a"
      },
      "outputs": [
        {
          "output_type": "display_data",
          "data": {
            "text/plain": [
              "<Figure size 216x216 with 1 Axes>"
            ],
            "image/png": "[encoded data removed]"
          },
          "metadata": {
            "needs_background": "light"
          }
        }
      ],
      "source": [
        "fun_plot_his(df_raw, 'HSB')"
      ]
    },
    {
      "cell_type": "markdown",
      "id": "d46a7044",
      "metadata": {
        "id": "d46a7044"
      },
      "source": [
        "HSB를 처리하지 않은 경우, scale 불량이 100%이다."
      ]
    },
    {
      "cell_type": "code",
      "execution_count": 31,
      "id": "68e1a64b",
      "metadata": {
        "colab": {
          "base_uri": "https://localhost:8080/",
          "height": 211
        },
        "id": "68e1a64b",
        "outputId": "1d9172d3-c5de-4064-a8c8-1ccc68c38348"
      },
      "outputs": [
        {
          "output_type": "display_data",
          "data": {
            "text/plain": [
              "<Figure size 216x216 with 1 Axes>"
            ],
            "image/png": "[encoded data removed]"
          },
          "metadata": {
            "needs_background": "light"
          }
        }
      ],
      "source": [
        "fun_plot_his(df_raw, 'ROLLING_DESCALING')"
      ]
    },
    {
      "cell_type": "markdown",
      "id": "7c3d9a26",
      "metadata": {
        "id": "7c3d9a26"
      },
      "source": [
        "Descaling 횟수가 증가하더라도 scale 불량이 개선되지는 않는다."
      ]
    },
    {
      "cell_type": "code",
      "execution_count": 32,
      "id": "dfcec273",
      "metadata": {
        "colab": {
          "base_uri": "https://localhost:8080/",
          "height": 315
        },
        "id": "dfcec273",
        "outputId": "c94a41e3-2784-4108-fd58-955cb719a363"
      },
      "outputs": [
        {
          "output_type": "execute_result",
          "data": {
            "text/plain": [
              "<seaborn.axisgrid.FacetGrid at 0x7f52e6868850>"
            ]
          },
          "metadata": {},
          "execution_count": 32
        },
        {
          "output_type": "display_data",
          "data": {
            "text/plain": [
              "<Figure size 288x288 with 1 Axes>"
            ],
            "image/png": "[encoded data removed]"
          },
          "metadata": {
            "needs_background": "light"
          }
        }
      ],
      "source": [
        "sns.catplot(x='FUR_NO', y='SCALE', data = df_raw, kind='bar', height = 4, palette = 'muted')"
      ]
    },
    {
      "cell_type": "markdown",
      "id": "d49021c2",
      "metadata": {
        "id": "d49021c2"
      },
      "source": [
        "가열로 호기 마다의 scale 차이는 유의미하지 않다."
      ]
    },
    {
      "cell_type": "code",
      "execution_count": 33,
      "id": "6211623f",
      "metadata": {
        "colab": {
          "base_uri": "https://localhost:8080/"
        },
        "id": "6211623f",
        "outputId": "5a74d726-68be-4d1c-adea-43f06c6b50ad"
      },
      "outputs": [
        {
          "output_type": "execute_result",
          "data": {
            "text/plain": [
              "Index(['PLATE_NO', 'ROLLING_DATE', 'SCALE', 'SPEC', 'STEEL_KIND', 'PT_THICK',\n",
              "       'PT_WIDTH', 'PT_LENGTH', 'PT_WEIGHT', 'FUR_NO', 'FUR_NO_ROW',\n",
              "       'FUR_HZ_TEMP', 'FUR_HZ_TIME', 'FUR_SZ_TEMP', 'FUR_SZ_TIME', 'FUR_TIME',\n",
              "       'FUR_EXTEMP', 'ROLLING_TEMP_T5', 'HSB', 'ROLLING_DESCALING'],\n",
              "      dtype='object')"
            ]
          },
          "metadata": {},
          "execution_count": 33
        }
      ],
      "source": [
        "df_raw.columns"
      ]
    },
    {
      "cell_type": "code",
      "execution_count": 34,
      "id": "812e85e9",
      "metadata": {
        "id": "812e85e9"
      },
      "outputs": [],
      "source": [
        "df_plot = pd.DataFrame()\n",
        "df_plot['SCALE'] = df_raw['SCALE']\n",
        "df_plot['GAP_TEMP'] = df_raw['FUR_EXTEMP'] - df_raw['ROLLING_TEMP_T5']"
      ]
    },
    {
      "cell_type": "code",
      "execution_count": 35,
      "id": "c30e46cc",
      "metadata": {
        "colab": {
          "base_uri": "https://localhost:8080/",
          "height": 211
        },
        "id": "c30e46cc",
        "outputId": "a4db725a-ca96-4fba-e265-17ebc15eff03"
      },
      "outputs": [
        {
          "output_type": "display_data",
          "data": {
            "text/plain": [
              "<Figure size 216x216 with 1 Axes>"
            ],
            "image/png": "[encoded data removed]"
          },
          "metadata": {
            "needs_background": "light"
          }
        }
      ],
      "source": [
        "fun_plot_his(df_plot, 'GAP_TEMP')"
      ]
    },
    {
      "cell_type": "markdown",
      "id": "2f77f279",
      "metadata": {
        "id": "2f77f279"
      },
      "source": [
        "추출온도와 압연온도의 차이가 클수록 불량률이 감소한다."
      ]
    },
    {
      "cell_type": "code",
      "execution_count": 36,
      "id": "509d26fa",
      "metadata": {
        "id": "509d26fa"
      },
      "outputs": [],
      "source": [
        "df_plot['RATE_HZ'] = df_raw['FUR_HZ_TEMP'] / df_raw['FUR_HZ_TIME']\n",
        "df_plot['RATE_SZ'] = df_raw['FUR_SZ_TEMP'] / df_raw['FUR_SZ_TIME']"
      ]
    },
    {
      "cell_type": "code",
      "execution_count": 37,
      "id": "c4909f42",
      "metadata": {
        "colab": {
          "base_uri": "https://localhost:8080/",
          "height": 211
        },
        "id": "c4909f42",
        "outputId": "d9f93436-f5b1-499b-c6c9-a8cbcef2ac0a"
      },
      "outputs": [
        {
          "output_type": "display_data",
          "data": {
            "text/plain": [
              "<Figure size 216x216 with 1 Axes>"
            ],
            "image/png": "[encoded data removed]"
          },
          "metadata": {
            "needs_background": "light"
          }
        }
      ],
      "source": [
        "fun_plot_his(df_plot, 'RATE_HZ')"
      ]
    },
    {
      "cell_type": "code",
      "execution_count": 38,
      "id": "a6283981",
      "metadata": {
        "colab": {
          "base_uri": "https://localhost:8080/",
          "height": 211
        },
        "id": "a6283981",
        "outputId": "91565c93-7740-47ba-8362-1c9d66e171b1"
      },
      "outputs": [
        {
          "output_type": "display_data",
          "data": {
            "text/plain": [
              "<Figure size 216x216 with 1 Axes>"
            ],
            "image/png": "[encoded data removed]"
          },
          "metadata": {
            "needs_background": "light"
          }
        }
      ],
      "source": [
        "fun_plot_his(df_plot, 'RATE_SZ')"
      ]
    },
    {
      "cell_type": "markdown",
      "id": "7d931cc2",
      "metadata": {
        "id": "7d931cc2"
      },
      "source": [
        "그래프 분석으로는 연관성을 확인할 수 없어 가설검정을 통해 확인할 예정"
      ]
    },
    {
      "cell_type": "markdown",
      "id": "85412464",
      "metadata": {
        "id": "85412464"
      },
      "source": [
        "## SPEC : 불량률 비교(각 SPEC별로 어떤 온도에서 불량이 많이 발생하는가?)"
      ]
    },
    {
      "cell_type": "code",
      "execution_count": null,
      "id": "0379fbaa",
      "metadata": {
        "id": "0379fbaa"
      },
      "outputs": [],
      "source": []
    },
    {
      "cell_type": "markdown",
      "id": "1df0166c",
      "metadata": {
        "id": "1df0166c"
      },
      "source": [
        "# 가설검정"
      ]
    },
    {
      "cell_type": "markdown",
      "id": "1551d6d4",
      "metadata": {
        "id": "1551d6d4"
      },
      "source": [
        "## t-test"
      ]
    },
    {
      "cell_type": "markdown",
      "id": "fa5c3a98",
      "metadata": {
        "id": "fa5c3a98"
      },
      "source": [
        "### 가열로 가열속도와 불량률 관계"
      ]
    },
    {
      "cell_type": "code",
      "execution_count": 39,
      "id": "de0c5f89",
      "metadata": {
        "id": "de0c5f89"
      },
      "outputs": [],
      "source": [
        "#통계 분석 \n",
        "import statsmodels.api as sm\n",
        "import scipy\n",
        "from scipy import stats\n",
        "from statsmodels.stats.proportion import proportions_ztest"
      ]
    },
    {
      "cell_type": "code",
      "execution_count": 40,
      "id": "4c90b4a3",
      "metadata": {
        "id": "4c90b4a3"
      },
      "outputs": [],
      "source": [
        "df_t_test = pd.DataFrame()"
      ]
    },
    {
      "cell_type": "code",
      "execution_count": 41,
      "id": "9ab6dc5b",
      "metadata": {
        "colab": {
          "base_uri": "https://localhost:8080/"
        },
        "id": "9ab6dc5b",
        "outputId": "61950f1f-8cdd-44a4-db7a-c4d90c8c8150"
      },
      "outputs": [
        {
          "output_type": "stream",
          "name": "stdout",
          "text": [
            "가열로 가열속도와 불량률의 관계성 검정 : statistic = 0.9713217616081238, p-value = 0.0001258776756003499\n"
          ]
        }
      ],
      "source": [
        "# 가열로 추론 검정\n",
        "mean_HZ = 14.67\n",
        "df_t_test[\"SCALE\"] = df_raw['SCALE']\n",
        "df_t_test['RATE_HZ'] = df_plot['RATE_HZ']\n",
        "df_raw['RATE_HZ'] = df_plot['RATE_HZ']\n",
        "df_t_test= df_t_test[df_t_test['SCALE'] == 1]\n",
        "\n",
        "statistic , p = stats.shapiro(df_t_test['RATE_HZ'])\n",
        "print(\"가열로 가열속도와 불량률의 관계성 검정 : statistic = {0}, p-value = {1}\".format(statistic, p))"
      ]
    },
    {
      "cell_type": "markdown",
      "id": "28aabab8",
      "metadata": {
        "id": "28aabab8"
      },
      "source": [
        "### 균열로 가열속도와 불량률 관계"
      ]
    },
    {
      "cell_type": "code",
      "execution_count": 42,
      "id": "4c97636d",
      "metadata": {
        "colab": {
          "base_uri": "https://localhost:8080/"
        },
        "id": "4c97636d",
        "outputId": "5f960fb3-6448-4e46-d71b-3e5ea6414966"
      },
      "outputs": [
        {
          "output_type": "stream",
          "name": "stdout",
          "text": [
            "균열로 가열속도와 불량률의 관계성 검정 : statistic = 0.9891846776008606, p-value = 0.0806870386004448\n"
          ]
        }
      ],
      "source": [
        "# 균열로 추론 검정\n",
        "mean_SZ = 16.79\n",
        "df_t_test[\"SCALE\"] = df_raw['SCALE']\n",
        "df_t_test['RATE_SZ'] = df_plot['RATE_SZ']\n",
        "df_raw['RATE_SZ'] = df_plot['RATE_SZ']\n",
        "df_t_test = df_t_test[df_t_test['SCALE'] == 1]\n",
        "\n",
        "statistic , p = stats.shapiro(df_t_test['RATE_SZ'])\n",
        "print(\"균열로 가열속도와 불량률의 관계성 검정 : statistic = {0}, p-value = {1}\".format(statistic, p))"
      ]
    },
    {
      "cell_type": "markdown",
      "id": "92a40235",
      "metadata": {
        "id": "92a40235"
      },
      "source": [
        "### 압연온도와 불량률 관계"
      ]
    },
    {
      "cell_type": "code",
      "execution_count": 43,
      "id": "f0c23fa2",
      "metadata": {
        "colab": {
          "base_uri": "https://localhost:8080/"
        },
        "id": "f0c23fa2",
        "outputId": "93e014e4-21e1-4ea7-919d-9fec37908d08"
      },
      "outputs": [
        {
          "output_type": "stream",
          "name": "stdout",
          "text": [
            "압연온도와 불량률의 관계성 검정 : statistic = 0.8666073083877563, p-value = 2.5448271419835355e-13\n"
          ]
        }
      ],
      "source": [
        "# 얍연온도 추론 검정\n",
        "mean = 8.325\n",
        "df_t_test[\"SCALE\"] = df_raw['SCALE']\n",
        "df_t_test['ROLLING_DESCALING'] = df_raw['ROLLING_DESCALING']\n",
        "statistic , p = stats.shapiro(df_t_test['ROLLING_DESCALING'])\n",
        "print(\"압연온도와 불량률의 관계성 검정 : statistic = {0}, p-value = {1}\".format(statistic, p))"
      ]
    },
    {
      "cell_type": "markdown",
      "id": "833c68c5",
      "metadata": {
        "id": "833c68c5"
      },
      "source": [
        "### 추출온도와 불량률 관계"
      ]
    },
    {
      "cell_type": "code",
      "execution_count": 44,
      "id": "4f3a1a2f",
      "metadata": {
        "colab": {
          "base_uri": "https://localhost:8080/"
        },
        "id": "4f3a1a2f",
        "outputId": "60a6049a-7001-423c-e019-cd13e1c0a5f4"
      },
      "outputs": [
        {
          "output_type": "stream",
          "name": "stdout",
          "text": [
            "추출온도와 불량률의 관계성 검정 : statistic = 0.9493412971496582, p-value = 3.194342639289971e-07\n"
          ]
        }
      ],
      "source": [
        "# 추출온도 추론 검정\n",
        "mean = 1139.64\n",
        "df_t_test[\"SCALE\"] = df_raw['SCALE']\n",
        "df_t_test['FUR_EXTEMP'] = df_raw['FUR_EXTEMP']\n",
        "statistic , p = stats.shapiro(df_t_test['FUR_EXTEMP'])\n",
        "print(\"추출온도와 불량률의 관계성 검정 : statistic = {0}, p-value = {1}\".format(statistic, p))"
      ]
    },
    {
      "cell_type": "markdown",
      "id": "3e073eb0",
      "metadata": {
        "id": "3e073eb0"
      },
      "source": [
        "### 온도차이와 불량률 관계"
      ]
    },
    {
      "cell_type": "code",
      "execution_count": 45,
      "id": "1d169194",
      "metadata": {
        "colab": {
          "base_uri": "https://localhost:8080/"
        },
        "id": "1d169194",
        "outputId": "b4e7a945-be40-4f4d-b691-c0efbdf93bf4"
      },
      "outputs": [
        {
          "output_type": "stream",
          "name": "stdout",
          "text": [
            "추출온도와 압연온도의 온도차이와 불량률의 관계성 검정 : statistic = 0.9529586434364319, p-value = 7.645685400348157e-07\n"
          ]
        }
      ],
      "source": [
        "# 추출온도차이 추론 검정\n",
        "df_t_test['GAP_TEMP'] = df_raw['FUR_EXTEMP'] - df_raw['ROLLING_DESCALING']\n",
        "mean = df_t_test['GAP_TEMP'].mean()\n",
        "\n",
        "statistic , p = stats.shapiro(df_t_test['GAP_TEMP'])\n",
        "print(\"추출온도와 압연온도의 온도차이와 불량률의 관계성 검정 : statistic = {0}, p-value = {1}\".format(statistic, p))"
      ]
    },
    {
      "cell_type": "markdown",
      "id": "80e49009",
      "metadata": {
        "id": "80e49009"
      },
      "source": [
        "## 분산분석"
      ]
    },
    {
      "cell_type": "markdown",
      "id": "0c562ed1",
      "metadata": {
        "id": "0c562ed1"
      },
      "source": [
        "### 제품 두께 구간별 불량률의 차이 검정"
      ]
    },
    {
      "cell_type": "code",
      "execution_count": 46,
      "id": "64cbef4b",
      "metadata": {
        "colab": {
          "base_uri": "https://localhost:8080/"
        },
        "id": "64cbef4b",
        "outputId": "a79dbcae-bb5c-4444-b023-414fd19fe616"
      },
      "outputs": [
        {
          "output_type": "stream",
          "name": "stdout",
          "text": [
            "구간 A 정규성 : statistic = 0.45924752950668335, p-value = 1.1726674840309805e-22\n",
            "구간 B 정규성 : statistic = 0.45924752950668335, p-value = 1.1726674840309805e-22\n",
            "구간 C 정규성 : statistic = 0.45924752950668335, p-value = 1.1726674840309805e-22\n",
            "구간 D 정규성 : statistic = 0.45924752950668335, p-value = 1.1726674840309805e-22\n",
            " \n",
            "LeveneResult(statistic=32.768508998960066, pvalue=3.809482096067452e-14)\n",
            " \n",
            "One-Way\n",
            "F 통계량: 36.567\n",
            "p-value: 1.3235090665660158e-15\n"
          ]
        }
      ],
      "source": [
        "df_PT_THICK = pd.DataFrame()\n",
        "df_t_test[\"SCALE\"] = df_raw['SCALE']\n",
        "df_t_test[\"PT_THICK\"] = df_raw['PT_THICK']\n",
        "df_PT_THICK_A = df_raw[df_raw['PT_THICK'] < 16]\n",
        "df_PT_THICK_A = df_PT_THICK_A[[\"SCALE\", 'PT_THICK']]\n",
        "\n",
        "df_PT_THICK_B = df_raw[(df_raw['PT_THICK'] > 16) & (df_raw['PT_THICK'] < 20)]\n",
        "df_PT_THICK_B = df_PT_THICK_B[[\"SCALE\", 'PT_THICK']]\n",
        "\n",
        "df_PT_THICK_C = df_raw[(df_raw['PT_THICK'] > 20) & (df_raw['PT_THICK'] < 40)]\n",
        "df_PT_THICK_C = df_PT_THICK_C[[\"SCALE\", 'PT_THICK']]\n",
        "\n",
        "df_PT_THICK_D = df_raw[df_raw['PT_THICK'] > 40]\n",
        "df_PT_THICK_D = df_PT_THICK_D[[\"SCALE\", 'PT_THICK']]\n",
        "\n",
        "# 정규성 검정\n",
        "statistic, p = stats.shapiro(df_PT_THICK_A['SCALE'])\n",
        "statistic, p = stats.shapiro(df_PT_THICK_B['SCALE'])\n",
        "statistic, p = stats.shapiro(df_PT_THICK_C['SCALE'])\n",
        "statistic, p = stats.shapiro(df_PT_THICK_D['SCALE'])\n",
        "print(\"구간 A 정규성 : statistic = {0}, p-value = {1}\".format(statistic, p))\n",
        "print(\"구간 B 정규성 : statistic = {0}, p-value = {1}\".format(statistic, p))\n",
        "print(\"구간 C 정규성 : statistic = {0}, p-value = {1}\".format(statistic, p))\n",
        "print(\"구간 D 정규성 : statistic = {0}, p-value = {1}\".format(statistic, p), end='\\n \\n')\n",
        "# 등분산성 검정\n",
        "var_test = stats.levene(df_PT_THICK_A['SCALE'], df_PT_THICK_B['SCALE'], df_PT_THICK_C['SCALE'])\n",
        "print(var_test,end='\\n \\n')\n",
        "# ANOVA\n",
        "f_result = stats.f_oneway(df_PT_THICK_A['SCALE'], df_PT_THICK_B['SCALE'], df_PT_THICK_C['SCALE'])\n",
        "\n",
        "f, p = f_result.statistic.round(3), f_result.pvalue\n",
        "print(\"One-Way\")\n",
        "print(\"F 통계량: {}\".format(f))\n",
        "print(\"p-value: {}\".format(p))"
      ]
    },
    {
      "cell_type": "markdown",
      "id": "b560ddaa",
      "metadata": {
        "id": "b560ddaa"
      },
      "source": [
        "### 제품 너비 구간별 불량률의 차이 검정"
      ]
    },
    {
      "cell_type": "code",
      "execution_count": 47,
      "id": "d62958df",
      "metadata": {
        "colab": {
          "base_uri": "https://localhost:8080/"
        },
        "id": "d62958df",
        "outputId": "5447fa55-3a1e-4274-bf0f-b7e0ae33791a"
      },
      "outputs": [
        {
          "output_type": "stream",
          "name": "stdout",
          "text": [
            "구간 A 정규성 : statistic = 0.5189968943595886, p-value = 1.0412467155873684e-21\n",
            "구간 B 정규성 : statistic = 0.5189968943595886, p-value = 1.0412467155873684e-21\n",
            "구간 C 정규성 : statistic = 0.5189968943595886, p-value = 1.0412467155873684e-21\n",
            "구간 D 정규성 : statistic = 0.5189968943595886, p-value = 1.0412467155873684e-21\n",
            " \n",
            "LeveneResult(statistic=27.538943196847047, pvalue=4.3931428770905435e-12)\n",
            " \n",
            "One-Way\n",
            "F 통계량: 33.555\n",
            "p-value: 2.0389864175625578e-14\n"
          ]
        }
      ],
      "source": [
        "df_PT_THICK = pd.DataFrame()\n",
        "df_t_test[\"SCALE\"] = df_raw['SCALE']\n",
        "df_t_test[\"PT_WIDTH\"] = df_raw['PT_WIDTH']\n",
        "df_PT_THICK_A = df_raw[df_raw['PT_WIDTH'] < 2466]\n",
        "df_PT_THICK_A = df_PT_THICK_A[[\"SCALE\", 'PT_WIDTH']]\n",
        "\n",
        "df_PT_THICK_B = df_raw[(df_raw['PT_WIDTH'] > 2466) & (df_raw['PT_WIDTH'] < 2725)]\n",
        "df_PT_THICK_B = df_PT_THICK_B[[\"SCALE\", 'PT_WIDTH']]\n",
        "\n",
        "df_PT_THICK_C = df_raw[(df_raw['PT_WIDTH'] > 2725) & (df_raw['PT_WIDTH'] < 3125)]\n",
        "df_PT_THICK_C = df_PT_THICK_C[[\"SCALE\", 'PT_WIDTH']]\n",
        "\n",
        "df_PT_THICK_D = df_raw[df_raw['PT_WIDTH'] > 3125]\n",
        "df_PT_THICK_D = df_PT_THICK_D[[\"SCALE\", 'PT_WIDTH']]\n",
        "\n",
        "# 정규성 검정\n",
        "statistic, p = stats.shapiro(df_PT_THICK_A['SCALE'])\n",
        "statistic, p = stats.shapiro(df_PT_THICK_B['SCALE'])\n",
        "statistic, p = stats.shapiro(df_PT_THICK_C['SCALE'])\n",
        "statistic, p = stats.shapiro(df_PT_THICK_D['SCALE'])\n",
        "print(\"구간 A 정규성 : statistic = {0}, p-value = {1}\".format(statistic, p))\n",
        "print(\"구간 B 정규성 : statistic = {0}, p-value = {1}\".format(statistic, p))\n",
        "print(\"구간 C 정규성 : statistic = {0}, p-value = {1}\".format(statistic, p))\n",
        "print(\"구간 D 정규성 : statistic = {0}, p-value = {1}\".format(statistic, p), end='\\n \\n')\n",
        "# 등분산성 검정\n",
        "var_test = stats.levene(df_PT_THICK_A['SCALE'], df_PT_THICK_B['SCALE'], df_PT_THICK_C['SCALE'])\n",
        "print(var_test,end='\\n \\n')\n",
        "# ANOVA\n",
        "f_result = stats.f_oneway(df_PT_THICK_A['SCALE'], df_PT_THICK_B['SCALE'], df_PT_THICK_C['SCALE'])\n",
        "\n",
        "f, p = f_result.statistic.round(3), f_result.pvalue\n",
        "print(\"One-Way\")\n",
        "print(\"F 통계량: {}\".format(f))\n",
        "print(\"p-value: {}\".format(p))"
      ]
    },
    {
      "cell_type": "code",
      "execution_count": null,
      "id": "c92f489e",
      "metadata": {
        "id": "c92f489e"
      },
      "outputs": [],
      "source": []
    },
    {
      "cell_type": "code",
      "execution_count": null,
      "id": "bd0504fe",
      "metadata": {
        "id": "bd0504fe"
      },
      "outputs": [],
      "source": []
    },
    {
      "cell_type": "code",
      "execution_count": null,
      "id": "424596c0",
      "metadata": {
        "id": "424596c0"
      },
      "outputs": [],
      "source": []
    },
    {
      "cell_type": "code",
      "execution_count": null,
      "id": "a73ece6a",
      "metadata": {
        "id": "a73ece6a"
      },
      "outputs": [],
      "source": []
    },
    {
      "cell_type": "markdown",
      "id": "ffb56d84",
      "metadata": {
        "id": "ffb56d84"
      },
      "source": [
        "# 모델링"
      ]
    },
    {
      "cell_type": "code",
      "execution_count": 48,
      "id": "e4926d87",
      "metadata": {
        "colab": {
          "base_uri": "https://localhost:8080/"
        },
        "id": "e4926d87",
        "outputId": "4a01d70d-df8a-4fb6-86ca-c07a5beb17ce"
      },
      "outputs": [
        {
          "output_type": "stream",
          "name": "stdout",
          "text": [
            "train data size : (427, 17)\n",
            "test data size : (286, 17)\n"
          ]
        }
      ],
      "source": [
        "# Data Split\n",
        "random = 100\n",
        "df_raw.drop(['ROLLING_DATE','PLATE_NO', 'SPEC','FUR_NO','FUR_NO_ROW'], axis = 1, inplace = True)\n",
        "df_train, df_test = train_test_split(df_raw, test_size = 0.4, random_state = random)\n",
        "df_raw['HSB'] = np.where(df_raw['HSB'] == '적용', 1, 0) # 적용:1 미적용:0으로 변환\n",
        "df_raw['STEEL_KIND'] = np.where(df_raw['STEEL_KIND'] == 'C', 0, 1) # T:1 C:0으로 변환\n",
        "print(\"train data size : {0}\".format(df_train.shape))\n",
        "print(\"test data size : {0}\".format(df_test.shape))"
      ]
    },
    {
      "cell_type": "markdown",
      "id": "2e3b210e",
      "metadata": {
        "id": "2e3b210e"
      },
      "source": [
        "## DT"
      ]
    },
    {
      "cell_type": "code",
      "execution_count": 49,
      "id": "362b1ec5",
      "metadata": {
        "id": "362b1ec5"
      },
      "outputs": [],
      "source": [
        "# Decision Tree\n",
        "from sklearn.tree import DecisionTreeClassifier"
      ]
    },
    {
      "cell_type": "markdown",
      "id": "b6954897",
      "metadata": {
        "id": "b6954897"
      },
      "source": [
        "###  더미변수"
      ]
    },
    {
      "cell_type": "code",
      "source": [],
      "metadata": {
        "id": "uwm_VmpXkRJu"
      },
      "id": "uwm_VmpXkRJu",
      "execution_count": null,
      "outputs": []
    },
    {
      "cell_type": "code",
      "execution_count": 50,
      "id": "f12d9689",
      "metadata": {
        "colab": {
          "base_uri": "https://localhost:8080/"
        },
        "id": "f12d9689",
        "outputId": "bf1620ca-3f14-416a-d8b3-02f8d1b0667c"
      },
      "outputs": [
        {
          "output_type": "stream",
          "name": "stdout",
          "text": [
            "<class 'pandas.core.frame.DataFrame'>\n",
            "RangeIndex: 713 entries, 0 to 712\n",
            "Data columns (total 17 columns):\n",
            " #   Column             Non-Null Count  Dtype  \n",
            "---  ------             --------------  -----  \n",
            " 0   SCALE              713 non-null    int64  \n",
            " 1   STEEL_KIND         713 non-null    int64  \n",
            " 2   PT_THICK           713 non-null    int64  \n",
            " 3   PT_WIDTH           713 non-null    float64\n",
            " 4   PT_LENGTH          713 non-null    int64  \n",
            " 5   PT_WEIGHT          713 non-null    int64  \n",
            " 6   FUR_HZ_TEMP        713 non-null    int64  \n",
            " 7   FUR_HZ_TIME        713 non-null    float64\n",
            " 8   FUR_SZ_TEMP        713 non-null    int64  \n",
            " 9   FUR_SZ_TIME        713 non-null    float64\n",
            " 10  FUR_TIME           713 non-null    int64  \n",
            " 11  FUR_EXTEMP         713 non-null    int64  \n",
            " 12  ROLLING_TEMP_T5    713 non-null    float64\n",
            " 13  HSB                713 non-null    int64  \n",
            " 14  ROLLING_DESCALING  713 non-null    int64  \n",
            " 15  RATE_HZ            713 non-null    float64\n",
            " 16  RATE_SZ            713 non-null    float64\n",
            "dtypes: float64(6), int64(11)\n",
            "memory usage: 94.8 KB\n"
          ]
        }
      ],
      "source": [
        "df_raw[\"SCALE\"] = pd.to_numeric(df_raw[\"SCALE\"], errors = 'coerce')\n",
        "df_raw = df_raw.astype({'PT_THICK' : 'int'})\n",
        "df_raw.info()"
      ]
    },
    {
      "cell_type": "code",
      "execution_count": 51,
      "id": "db23b9bd",
      "metadata": {
        "id": "db23b9bd"
      },
      "outputs": [],
      "source": [
        "# Data Split\n",
        "df_raw_x = df_raw.drop(\"SCALE\", axis = 1, inplace = False)\n",
        "df_raw_y = df_raw[\"SCALE\"]\n",
        "random = 100\n",
        "df_train_x, df_test_x, df_train_y, df_test_y = train_test_split(df_raw_x, df_raw_y, test_size = 0.4, random_state = random)"
      ]
    },
    {
      "cell_type": "code",
      "execution_count": null,
      "id": "28497239",
      "metadata": {
        "id": "28497239"
      },
      "outputs": [],
      "source": [
        "# GridSearchCV를 이용한 최적의 파라미터 찾기\n",
        "# estimator = DecisionTreeClassifier(random_state=random)\n",
        "\n",
        "# para_depth = 10\n",
        "# para_split = [n_split * 2 for n_split in range(8,20)]\n",
        "# para_leaf = 8\n",
        "\n",
        "# param_grid = {\"max_features\" : ['max_features=1.0', 'sqrt', 'log2'], \n",
        "#               'max_depth' : [10], 'min_samples_split' : para_split, 'min_samples_leaf' : [8]}\n",
        "\n",
        "# grid_dt = GridSearchCV(estimator, param_grid, scoring=\"r2\", n_jobs=-1)\n",
        "# grid_dt.fit(df_train_x, df_train_y)\n",
        "\n",
        "# print(\"best estimator model: \\n{}\".format(grid_dt.best_estimator_))\n",
        "# print(\"\\nbest parameter: \\n{}\".format(grid_dt.best_params_))\n",
        "# print(\"\\nbest score: \\n{}\".format(grid_dt.best_score_.round(3)))"
      ]
    },
    {
      "cell_type": "code",
      "execution_count": 52,
      "id": "a44ea984",
      "metadata": {
        "colab": {
          "base_uri": "https://localhost:8080/",
          "height": 677
        },
        "id": "a44ea984",
        "outputId": "cc387339-bb2d-469b-931a-e461808caab4"
      },
      "outputs": [
        {
          "output_type": "execute_result",
          "data": {
            "text/plain": [
              "    MinSampleLeaf  TrainScore  TestScore\n",
              "0               1       0.902      0.871\n",
              "1               2       0.937      0.895\n",
              "2               3       0.970      0.951\n",
              "3               4       0.977      0.958\n",
              "4               5       0.979      0.958\n",
              "5               6       0.981      0.958\n",
              "6               7       0.984      0.958\n",
              "7               8       0.986      0.948\n",
              "8               9       0.988      0.944\n",
              "9              10       0.993      0.948\n",
              "10             11       1.000      0.944\n",
              "11             12       1.000      0.944\n",
              "12             13       1.000      0.944\n",
              "13             14       1.000      0.944\n",
              "14             15       1.000      0.944\n",
              "15             16       1.000      0.944\n",
              "16             17       1.000      0.944\n",
              "17             18       1.000      0.944\n",
              "18             19       1.000      0.944\n",
              "19             20       1.000      0.944"
            ],
            "text/html": [
              "\n",
              "  <div id=\"df-d199e023-da47-4dc3-8825-2377f1ff699d\">\n",
              "    <div class=\"colab-df-container\">\n",
              "      <div>\n",
              "<style scoped>\n",
              "    .dataframe tbody tr th:only-of-type {\n",
              "        vertical-align: middle;\n",
              "    }\n",
              "\n",
              "    .dataframe tbody tr th {\n",
              "        vertical-align: top;\n",
              "    }\n",
              "\n",
              "    .dataframe thead th {\n",
              "        text-align: right;\n",
              "    }\n",
              "</style>\n",
              "<table border=\"1\" class=\"dataframe\">\n",
              "  <thead>\n",
              "    <tr style=\"text-align: right;\">\n",
              "      <th></th>\n",
              "      <th>MinSampleLeaf</th>\n",
              "      <th>TrainScore</th>\n",
              "      <th>TestScore</th>\n",
              "    </tr>\n",
              "  </thead>\n",
              "  <tbody>\n",
              "    <tr>\n",
              "      <th>0</th>\n",
              "      <td>1</td>\n",
              "      <td>0.902</td>\n",
              "      <td>0.871</td>\n",
              "    </tr>\n",
              "    <tr>\n",
              "      <th>1</th>\n",
              "      <td>2</td>\n",
              "      <td>0.937</td>\n",
              "      <td>0.895</td>\n",
              "    </tr>\n",
              "    <tr>\n",
              "      <th>2</th>\n",
              "      <td>3</td>\n",
              "      <td>0.970</td>\n",
              "      <td>0.951</td>\n",
              "    </tr>\n",
              "    <tr>\n",
              "      <th>3</th>\n",
              "      <td>4</td>\n",
              "      <td>0.977</td>\n",
              "      <td>0.958</td>\n",
              "    </tr>\n",
              "    <tr>\n",
              "      <th>4</th>\n",
              "      <td>5</td>\n",
              "      <td>0.979</td>\n",
              "      <td>0.958</td>\n",
              "    </tr>\n",
              "    <tr>\n",
              "      <th>5</th>\n",
              "      <td>6</td>\n",
              "      <td>0.981</td>\n",
              "      <td>0.958</td>\n",
              "    </tr>\n",
              "    <tr>\n",
              "      <th>6</th>\n",
              "      <td>7</td>\n",
              "      <td>0.984</td>\n",
              "      <td>0.958</td>\n",
              "    </tr>\n",
              "    <tr>\n",
              "      <th>7</th>\n",
              "      <td>8</td>\n",
              "      <td>0.986</td>\n",
              "      <td>0.948</td>\n",
              "    </tr>\n",
              "    <tr>\n",
              "      <th>8</th>\n",
              "      <td>9</td>\n",
              "      <td>0.988</td>\n",
              "      <td>0.944</td>\n",
              "    </tr>\n",
              "    <tr>\n",
              "      <th>9</th>\n",
              "      <td>10</td>\n",
              "      <td>0.993</td>\n",
              "      <td>0.948</td>\n",
              "    </tr>\n",
              "    <tr>\n",
              "      <th>10</th>\n",
              "      <td>11</td>\n",
              "      <td>1.000</td>\n",
              "      <td>0.944</td>\n",
              "    </tr>\n",
              "    <tr>\n",
              "      <th>11</th>\n",
              "      <td>12</td>\n",
              "      <td>1.000</td>\n",
              "      <td>0.944</td>\n",
              "    </tr>\n",
              "    <tr>\n",
              "      <th>12</th>\n",
              "      <td>13</td>\n",
              "      <td>1.000</td>\n",
              "      <td>0.944</td>\n",
              "    </tr>\n",
              "    <tr>\n",
              "      <th>13</th>\n",
              "      <td>14</td>\n",
              "      <td>1.000</td>\n",
              "      <td>0.944</td>\n",
              "    </tr>\n",
              "    <tr>\n",
              "      <th>14</th>\n",
              "      <td>15</td>\n",
              "      <td>1.000</td>\n",
              "      <td>0.944</td>\n",
              "    </tr>\n",
              "    <tr>\n",
              "      <th>15</th>\n",
              "      <td>16</td>\n",
              "      <td>1.000</td>\n",
              "      <td>0.944</td>\n",
              "    </tr>\n",
              "    <tr>\n",
              "      <th>16</th>\n",
              "      <td>17</td>\n",
              "      <td>1.000</td>\n",
              "      <td>0.944</td>\n",
              "    </tr>\n",
              "    <tr>\n",
              "      <th>17</th>\n",
              "      <td>18</td>\n",
              "      <td>1.000</td>\n",
              "      <td>0.944</td>\n",
              "    </tr>\n",
              "    <tr>\n",
              "      <th>18</th>\n",
              "      <td>19</td>\n",
              "      <td>1.000</td>\n",
              "      <td>0.944</td>\n",
              "    </tr>\n",
              "    <tr>\n",
              "      <th>19</th>\n",
              "      <td>20</td>\n",
              "      <td>1.000</td>\n",
              "      <td>0.944</td>\n",
              "    </tr>\n",
              "  </tbody>\n",
              "</table>\n",
              "</div>\n",
              "      <button class=\"colab-df-convert\" onclick=\"convertToInteractive('df-d199e023-da47-4dc3-8825-2377f1ff699d')\"\n",
              "              title=\"Convert this dataframe to an interactive table.\"\n",
              "              style=\"display:none;\">\n",
              "        \n",
              "  <svg xmlns=\"http://www.w3.org/2000/svg\" height=\"24px\"viewBox=\"0 0 24 24\"\n",
              "       width=\"24px\">\n",
              "    <path d=\"M0 0h24v24H0V0z\" fill=\"none\"/>\n",
              "    <path d=\"M18.56 5.44l.94 2.06.94-2.06 2.06-.94-2.06-.94-.94-2.06-.94 2.06-2.06.94zm-11 1L8.5 8.5l.94-2.06 2.06-.94-2.06-.94L8.5 2.5l-.94 2.06-2.06.94zm10 10l.94 2.06.94-2.06 2.06-.94-2.06-.94-.94-2.06-.94 2.06-2.06.94z\"/><path d=\"M17.41 7.96l-1.37-1.37c-.4-.4-.92-.59-1.43-.59-.52 0-1.04.2-1.43.59L10.3 9.45l-7.72 7.72c-.78.78-.78 2.05 0 2.83L4 21.41c.39.39.9.59 1.41.59.51 0 1.02-.2 1.41-.59l7.78-7.78 2.81-2.81c.8-.78.8-2.07 0-2.86zM5.41 20L4 18.59l7.72-7.72 1.47 1.35L5.41 20z\"/>\n",
              "  </svg>\n",
              "      </button>\n",
              "      \n",
              "  <style>\n",
              "    .colab-df-container {\n",
              "      display:flex;\n",
              "      flex-wrap:wrap;\n",
              "      gap: 12px;\n",
              "    }\n",
              "\n",
              "    .colab-df-convert {\n",
              "      background-color: #E8F0FE;\n",
              "      border: none;\n",
              "      border-radius: 50%;\n",
              "      cursor: pointer;\n",
              "      display: none;\n",
              "      fill: #1967D2;\n",
              "      height: 32px;\n",
              "      padding: 0 0 0 0;\n",
              "      width: 32px;\n",
              "    }\n",
              "\n",
              "    .colab-df-convert:hover {\n",
              "      background-color: #E2EBFA;\n",
              "      box-shadow: 0px 1px 2px rgba(60, 64, 67, 0.3), 0px 1px 3px 1px rgba(60, 64, 67, 0.15);\n",
              "      fill: #174EA6;\n",
              "    }\n",
              "\n",
              "    [theme=dark] .colab-df-convert {\n",
              "      background-color: #3B4455;\n",
              "      fill: #D2E3FC;\n",
              "    }\n",
              "\n",
              "    [theme=dark] .colab-df-convert:hover {\n",
              "      background-color: #434B5C;\n",
              "      box-shadow: 0px 1px 3px 1px rgba(0, 0, 0, 0.15);\n",
              "      filter: drop-shadow(0px 1px 2px rgba(0, 0, 0, 0.3));\n",
              "      fill: #FFFFFF;\n",
              "    }\n",
              "  </style>\n",
              "\n",
              "      <script>\n",
              "        const buttonEl =\n",
              "          document.querySelector('#df-d199e023-da47-4dc3-8825-2377f1ff699d button.colab-df-convert');\n",
              "        buttonEl.style.display =\n",
              "          google.colab.kernel.accessAllowed ? 'block' : 'none';\n",
              "\n",
              "        async function convertToInteractive(key) {\n",
              "          const element = document.querySelector('#df-d199e023-da47-4dc3-8825-2377f1ff699d');\n",
              "          const dataTable =\n",
              "            await google.colab.kernel.invokeFunction('convertToInteractive',\n",
              "                                                     [key], {});\n",
              "          if (!dataTable) return;\n",
              "\n",
              "          const docLinkHtml = 'Like what you see? Visit the ' +\n",
              "            '<a target=\"_blank\" href=https://colab.research.google.com/notebooks/data_table.ipynb>data table notebook</a>'\n",
              "            + ' to learn more about interactive tables.';\n",
              "          element.innerHTML = '';\n",
              "          dataTable['output_type'] = 'display_data';\n",
              "          await google.colab.output.renderOutput(dataTable, element);\n",
              "          const docLink = document.createElement('div');\n",
              "          docLink.innerHTML = docLinkHtml;\n",
              "          element.appendChild(docLink);\n",
              "        }\n",
              "      </script>\n",
              "    </div>\n",
              "  </div>\n",
              "  "
            ]
          },
          "metadata": {},
          "execution_count": 52
        }
      ],
      "source": [
        "train_acc = []\n",
        "test_acc = []\n",
        "\n",
        "para_depth = [depth for depth in range(1,21)]\n",
        "\n",
        "for v_max_depth in para_depth:\n",
        "    tree_max_depth = DecisionTreeClassifier(random_state = random, max_depth = v_max_depth)\n",
        "    tree_max_depth.fit(df_train_x, df_train_y)\n",
        "    train_acc.append(tree_max_depth.score(df_train_x, df_train_y))\n",
        "    test_acc.append(tree_max_depth.score(df_test_x, df_test_y))\n",
        "\n",
        "# 결과 저장\n",
        "df_acc_max_depth = pd.DataFrame()\n",
        "df_acc_max_depth[\"MinSampleLeaf\"] = para_depth\n",
        "df_acc_max_depth[\"TrainScore\"] = train_acc\n",
        "df_acc_max_depth[\"TestScore\"] = test_acc\n",
        "\n",
        "df_acc_max_depth.round(3)"
      ]
    },
    {
      "cell_type": "code",
      "execution_count": 53,
      "id": "4f99f8dc",
      "metadata": {
        "colab": {
          "base_uri": "https://localhost:8080/",
          "height": 283
        },
        "id": "4f99f8dc",
        "outputId": "6f1ef369-ee16-45e2-8212-99f0de507d49"
      },
      "outputs": [
        {
          "output_type": "execute_result",
          "data": {
            "text/plain": [
              "<matplotlib.legend.Legend at 0x7f52e0781190>"
            ]
          },
          "metadata": {},
          "execution_count": 53
        },
        {
          "output_type": "display_data",
          "data": {
            "text/plain": [
              "<Figure size 432x288 with 1 Axes>"
            ],
            "image/png": "[encoded data removed]"
          },
          "metadata": {
            "needs_background": "light"
          }
        }
      ],
      "source": [
        "# 그래프\n",
        "plt.plot(para_depth, train_acc, linestyle = \"-\", label = \"TrainAccuracy\")\n",
        "plt.plot(para_depth, test_acc, linestyle = \"--\", label = \"TestAccuracy\")\n",
        "plt.legend()"
      ]
    },
    {
      "cell_type": "code",
      "execution_count": 54,
      "id": "e229e58b",
      "metadata": {
        "colab": {
          "base_uri": "https://localhost:8080/"
        },
        "id": "e229e58b",
        "outputId": "ccb9f801-144d-4d15-8797-2422b9d8ff6f"
      },
      "outputs": [
        {
          "output_type": "stream",
          "name": "stdout",
          "text": [
            "Score_train : 0.9929742388758782\n",
            "Score_test : 0.9475524475524476\n"
          ]
        }
      ],
      "source": [
        "# max depth : 10\n",
        "max_depth = 10\n",
        "tree_max_depth = DecisionTreeClassifier(random_state = random, max_depth = max_depth)\n",
        "tree_max_depth.fit(df_train_x, df_train_y)\n",
        "\n",
        "print(\"Score_train : {0}\".format(tree_max_depth.score(df_train_x, df_train_y)))\n",
        "print(\"Score_test : {0}\".format(tree_max_depth.score(df_test_x, df_test_y)))"
      ]
    },
    {
      "cell_type": "code",
      "execution_count": 55,
      "id": "140a7f4c",
      "metadata": {
        "colab": {
          "base_uri": "https://localhost:8080/",
          "height": 677
        },
        "id": "140a7f4c",
        "outputId": "c08e8c28-70aa-4c4d-eeac-957d6f8761ac"
      },
      "outputs": [
        {
          "output_type": "execute_result",
          "data": {
            "text/plain": [
              "    MinSampleLeaf  TrainScore  TestScore\n",
              "0               1       1.000      0.944\n",
              "1               2       0.988      0.962\n",
              "2               3       0.981      0.955\n",
              "3               4       0.984      0.972\n",
              "4               5       0.984      0.972\n",
              "5               6       0.984      0.972\n",
              "6               7       0.988      0.976\n",
              "7               8       0.988      0.976\n",
              "8               9       0.979      0.951\n",
              "9              10       0.979      0.951\n",
              "10             11       0.977      0.948\n",
              "11             12       0.970      0.951\n",
              "12             13       0.970      0.951\n",
              "13             14       0.970      0.951\n",
              "14             15       0.937      0.895\n",
              "15             16       0.937      0.874\n",
              "16             17       0.937      0.874\n",
              "17             18       0.937      0.874\n",
              "18             19       0.937      0.874\n",
              "19             20       0.927      0.871"
            ],
            "text/html": [
              "\n",
              "  <div id=\"df-64f7a447-3903-485d-a9ff-a1adf2d11cbd\">\n",
              "    <div class=\"colab-df-container\">\n",
              "      <div>\n",
              "<style scoped>\n",
              "    .dataframe tbody tr th:only-of-type {\n",
              "        vertical-align: middle;\n",
              "    }\n",
              "\n",
              "    .dataframe tbody tr th {\n",
              "        vertical-align: top;\n",
              "    }\n",
              "\n",
              "    .dataframe thead th {\n",
              "        text-align: right;\n",
              "    }\n",
              "</style>\n",
              "<table border=\"1\" class=\"dataframe\">\n",
              "  <thead>\n",
              "    <tr style=\"text-align: right;\">\n",
              "      <th></th>\n",
              "      <th>MinSampleLeaf</th>\n",
              "      <th>TrainScore</th>\n",
              "      <th>TestScore</th>\n",
              "    </tr>\n",
              "  </thead>\n",
              "  <tbody>\n",
              "    <tr>\n",
              "      <th>0</th>\n",
              "      <td>1</td>\n",
              "      <td>1.000</td>\n",
              "      <td>0.944</td>\n",
              "    </tr>\n",
              "    <tr>\n",
              "      <th>1</th>\n",
              "      <td>2</td>\n",
              "      <td>0.988</td>\n",
              "      <td>0.962</td>\n",
              "    </tr>\n",
              "    <tr>\n",
              "      <th>2</th>\n",
              "      <td>3</td>\n",
              "      <td>0.981</td>\n",
              "      <td>0.955</td>\n",
              "    </tr>\n",
              "    <tr>\n",
              "      <th>3</th>\n",
              "      <td>4</td>\n",
              "      <td>0.984</td>\n",
              "      <td>0.972</td>\n",
              "    </tr>\n",
              "    <tr>\n",
              "      <th>4</th>\n",
              "      <td>5</td>\n",
              "      <td>0.984</td>\n",
              "      <td>0.972</td>\n",
              "    </tr>\n",
              "    <tr>\n",
              "      <th>5</th>\n",
              "      <td>6</td>\n",
              "      <td>0.984</td>\n",
              "      <td>0.972</td>\n",
              "    </tr>\n",
              "    <tr>\n",
              "      <th>6</th>\n",
              "      <td>7</td>\n",
              "      <td>0.988</td>\n",
              "      <td>0.976</td>\n",
              "    </tr>\n",
              "    <tr>\n",
              "      <th>7</th>\n",
              "      <td>8</td>\n",
              "      <td>0.988</td>\n",
              "      <td>0.976</td>\n",
              "    </tr>\n",
              "    <tr>\n",
              "      <th>8</th>\n",
              "      <td>9</td>\n",
              "      <td>0.979</td>\n",
              "      <td>0.951</td>\n",
              "    </tr>\n",
              "    <tr>\n",
              "      <th>9</th>\n",
              "      <td>10</td>\n",
              "      <td>0.979</td>\n",
              "      <td>0.951</td>\n",
              "    </tr>\n",
              "    <tr>\n",
              "      <th>10</th>\n",
              "      <td>11</td>\n",
              "      <td>0.977</td>\n",
              "      <td>0.948</td>\n",
              "    </tr>\n",
              "    <tr>\n",
              "      <th>11</th>\n",
              "      <td>12</td>\n",
              "      <td>0.970</td>\n",
              "      <td>0.951</td>\n",
              "    </tr>\n",
              "    <tr>\n",
              "      <th>12</th>\n",
              "      <td>13</td>\n",
              "      <td>0.970</td>\n",
              "      <td>0.951</td>\n",
              "    </tr>\n",
              "    <tr>\n",
              "      <th>13</th>\n",
              "      <td>14</td>\n",
              "      <td>0.970</td>\n",
              "      <td>0.951</td>\n",
              "    </tr>\n",
              "    <tr>\n",
              "      <th>14</th>\n",
              "      <td>15</td>\n",
              "      <td>0.937</td>\n",
              "      <td>0.895</td>\n",
              "    </tr>\n",
              "    <tr>\n",
              "      <th>15</th>\n",
              "      <td>16</td>\n",
              "      <td>0.937</td>\n",
              "      <td>0.874</td>\n",
              "    </tr>\n",
              "    <tr>\n",
              "      <th>16</th>\n",
              "      <td>17</td>\n",
              "      <td>0.937</td>\n",
              "      <td>0.874</td>\n",
              "    </tr>\n",
              "    <tr>\n",
              "      <th>17</th>\n",
              "      <td>18</td>\n",
              "      <td>0.937</td>\n",
              "      <td>0.874</td>\n",
              "    </tr>\n",
              "    <tr>\n",
              "      <th>18</th>\n",
              "      <td>19</td>\n",
              "      <td>0.937</td>\n",
              "      <td>0.874</td>\n",
              "    </tr>\n",
              "    <tr>\n",
              "      <th>19</th>\n",
              "      <td>20</td>\n",
              "      <td>0.927</td>\n",
              "      <td>0.871</td>\n",
              "    </tr>\n",
              "  </tbody>\n",
              "</table>\n",
              "</div>\n",
              "      <button class=\"colab-df-convert\" onclick=\"convertToInteractive('df-64f7a447-3903-485d-a9ff-a1adf2d11cbd')\"\n",
              "              title=\"Convert this dataframe to an interactive table.\"\n",
              "              style=\"display:none;\">\n",
              "        \n",
              "  <svg xmlns=\"http://www.w3.org/2000/svg\" height=\"24px\"viewBox=\"0 0 24 24\"\n",
              "       width=\"24px\">\n",
              "    <path d=\"M0 0h24v24H0V0z\" fill=\"none\"/>\n",
              "    <path d=\"M18.56 5.44l.94 2.06.94-2.06 2.06-.94-2.06-.94-.94-2.06-.94 2.06-2.06.94zm-11 1L8.5 8.5l.94-2.06 2.06-.94-2.06-.94L8.5 2.5l-.94 2.06-2.06.94zm10 10l.94 2.06.94-2.06 2.06-.94-2.06-.94-.94-2.06-.94 2.06-2.06.94z\"/><path d=\"M17.41 7.96l-1.37-1.37c-.4-.4-.92-.59-1.43-.59-.52 0-1.04.2-1.43.59L10.3 9.45l-7.72 7.72c-.78.78-.78 2.05 0 2.83L4 21.41c.39.39.9.59 1.41.59.51 0 1.02-.2 1.41-.59l7.78-7.78 2.81-2.81c.8-.78.8-2.07 0-2.86zM5.41 20L4 18.59l7.72-7.72 1.47 1.35L5.41 20z\"/>\n",
              "  </svg>\n",
              "      </button>\n",
              "      \n",
              "  <style>\n",
              "    .colab-df-container {\n",
              "      display:flex;\n",
              "      flex-wrap:wrap;\n",
              "      gap: 12px;\n",
              "    }\n",
              "\n",
              "    .colab-df-convert {\n",
              "      background-color: #E8F0FE;\n",
              "      border: none;\n",
              "      border-radius: 50%;\n",
              "      cursor: pointer;\n",
              "      display: none;\n",
              "      fill: #1967D2;\n",
              "      height: 32px;\n",
              "      padding: 0 0 0 0;\n",
              "      width: 32px;\n",
              "    }\n",
              "\n",
              "    .colab-df-convert:hover {\n",
              "      background-color: #E2EBFA;\n",
              "      box-shadow: 0px 1px 2px rgba(60, 64, 67, 0.3), 0px 1px 3px 1px rgba(60, 64, 67, 0.15);\n",
              "      fill: #174EA6;\n",
              "    }\n",
              "\n",
              "    [theme=dark] .colab-df-convert {\n",
              "      background-color: #3B4455;\n",
              "      fill: #D2E3FC;\n",
              "    }\n",
              "\n",
              "    [theme=dark] .colab-df-convert:hover {\n",
              "      background-color: #434B5C;\n",
              "      box-shadow: 0px 1px 3px 1px rgba(0, 0, 0, 0.15);\n",
              "      filter: drop-shadow(0px 1px 2px rgba(0, 0, 0, 0.3));\n",
              "      fill: #FFFFFF;\n",
              "    }\n",
              "  </style>\n",
              "\n",
              "      <script>\n",
              "        const buttonEl =\n",
              "          document.querySelector('#df-64f7a447-3903-485d-a9ff-a1adf2d11cbd button.colab-df-convert');\n",
              "        buttonEl.style.display =\n",
              "          google.colab.kernel.accessAllowed ? 'block' : 'none';\n",
              "\n",
              "        async function convertToInteractive(key) {\n",
              "          const element = document.querySelector('#df-64f7a447-3903-485d-a9ff-a1adf2d11cbd');\n",
              "          const dataTable =\n",
              "            await google.colab.kernel.invokeFunction('convertToInteractive',\n",
              "                                                     [key], {});\n",
              "          if (!dataTable) return;\n",
              "\n",
              "          const docLinkHtml = 'Like what you see? Visit the ' +\n",
              "            '<a target=\"_blank\" href=https://colab.research.google.com/notebooks/data_table.ipynb>data table notebook</a>'\n",
              "            + ' to learn more about interactive tables.';\n",
              "          element.innerHTML = '';\n",
              "          dataTable['output_type'] = 'display_data';\n",
              "          await google.colab.output.renderOutput(dataTable, element);\n",
              "          const docLink = document.createElement('div');\n",
              "          docLink.innerHTML = docLinkHtml;\n",
              "          element.appendChild(docLink);\n",
              "        }\n",
              "      </script>\n",
              "    </div>\n",
              "  </div>\n",
              "  "
            ]
          },
          "metadata": {},
          "execution_count": 55
        }
      ],
      "source": [
        "# min sample leaf : 잎사귀 노드의 최소 자료 수 설정\n",
        "train_score = []\n",
        "test_score = []\n",
        "para_leaf = [n_leaf * 1 for n_leaf in range(1,21)]\n",
        "\n",
        "for v_min_samples_leaf in para_leaf:\n",
        "    tree_min_sample_leaf = DecisionTreeClassifier(random_state = random, min_samples_leaf = v_min_samples_leaf)\n",
        "    tree_min_sample_leaf.fit(df_train_x, df_train_y)\n",
        "    train_score.append(tree_min_sample_leaf.score(df_train_x, df_train_y))\n",
        "    test_score.append(tree_min_sample_leaf.score(df_test_x, df_test_y))\n",
        "\n",
        "# 결과 저장\n",
        "df_score_min_sample_leaf = pd.DataFrame()\n",
        "df_score_min_sample_leaf[\"MinSampleLeaf\"] = para_leaf\n",
        "df_score_min_sample_leaf[\"TrainScore\"] = train_score\n",
        "df_score_min_sample_leaf[\"TestScore\"] = test_score\n",
        "\n",
        "# 설명력 확인\n",
        "df_score_min_sample_leaf.round(3)"
      ]
    },
    {
      "cell_type": "code",
      "execution_count": 56,
      "id": "09a92a11",
      "metadata": {
        "colab": {
          "base_uri": "https://localhost:8080/",
          "height": 265
        },
        "id": "09a92a11",
        "outputId": "08334a21-4712-4db9-c9f9-8f719c010037"
      },
      "outputs": [
        {
          "output_type": "display_data",
          "data": {
            "text/plain": [
              "<Figure size 432x288 with 1 Axes>"
            ],
            "image/png": "[encoded data removed]"
          },
          "metadata": {
            "needs_background": "light"
          }
        }
      ],
      "source": [
        "# 그래프\n",
        "plt.plot(para_leaf, train_score, linestyle = \"-\", label = \"TrainScore\")\n",
        "plt.plot(para_leaf, test_score, linestyle = \"--\", label = \"TestScore\")\n",
        "plt.legend()\n",
        "\n",
        "n_leaf = 8"
      ]
    },
    {
      "cell_type": "code",
      "execution_count": 57,
      "id": "3575f4db",
      "metadata": {
        "colab": {
          "base_uri": "https://localhost:8080/"
        },
        "id": "3575f4db",
        "outputId": "5160ec2b-b338-4d6c-fc0f-ce78886ae1d9"
      },
      "outputs": [
        {
          "output_type": "stream",
          "name": "stdout",
          "text": [
            "Score_train : 0.9929742388758782\n",
            "Score_test : 0.9475524475524476\n"
          ]
        }
      ],
      "source": [
        "tree_leaf = DecisionTreeClassifier(random_state = random, max_depth = max_depth, min_samples_leaf = n_leaf)\n",
        "tree_leaf.fit(df_train_x, df_train_y)\n",
        "\n",
        "print(\"Score_train : {0}\".format(tree_max_depth.score(df_train_x, df_train_y)))\n",
        "print(\"Score_test : {0}\".format(tree_max_depth.score(df_test_x, df_test_y)))"
      ]
    },
    {
      "cell_type": "code",
      "execution_count": 58,
      "id": "14fc3a30",
      "metadata": {
        "colab": {
          "base_uri": "https://localhost:8080/",
          "height": 582
        },
        "id": "14fc3a30",
        "outputId": "9a368e50-0b51-4739-c0b3-86242b3721a4"
      },
      "outputs": [
        {
          "output_type": "execute_result",
          "data": {
            "text/plain": [
              "    MinSplitLeaf  TrainScore  TestScore\n",
              "0             16       0.988      0.976\n",
              "1             18       0.988      0.976\n",
              "2             20       0.988      0.976\n",
              "3             22       0.988      0.976\n",
              "4             24       0.988      0.976\n",
              "5             26       0.988      0.976\n",
              "6             28       0.988      0.976\n",
              "7             30       0.988      0.976\n",
              "8             32       0.988      0.976\n",
              "9             34       0.988      0.976\n",
              "10            36       0.988      0.976\n",
              "11            38       0.988      0.976\n",
              "12            40       0.988      0.976\n",
              "13            42       0.988      0.976\n",
              "14            44       0.988      0.976\n",
              "15            46       0.988      0.976\n",
              "16            48       0.988      0.976"
            ],
            "text/html": [
              "\n",
              "  <div id=\"df-33bf6b26-f69a-473f-82e7-c62671a31f67\">\n",
              "    <div class=\"colab-df-container\">\n",
              "      <div>\n",
              "<style scoped>\n",
              "    .dataframe tbody tr th:only-of-type {\n",
              "        vertical-align: middle;\n",
              "    }\n",
              "\n",
              "    .dataframe tbody tr th {\n",
              "        vertical-align: top;\n",
              "    }\n",
              "\n",
              "    .dataframe thead th {\n",
              "        text-align: right;\n",
              "    }\n",
              "</style>\n",
              "<table border=\"1\" class=\"dataframe\">\n",
              "  <thead>\n",
              "    <tr style=\"text-align: right;\">\n",
              "      <th></th>\n",
              "      <th>MinSplitLeaf</th>\n",
              "      <th>TrainScore</th>\n",
              "      <th>TestScore</th>\n",
              "    </tr>\n",
              "  </thead>\n",
              "  <tbody>\n",
              "    <tr>\n",
              "      <th>0</th>\n",
              "      <td>16</td>\n",
              "      <td>0.988</td>\n",
              "      <td>0.976</td>\n",
              "    </tr>\n",
              "    <tr>\n",
              "      <th>1</th>\n",
              "      <td>18</td>\n",
              "      <td>0.988</td>\n",
              "      <td>0.976</td>\n",
              "    </tr>\n",
              "    <tr>\n",
              "      <th>2</th>\n",
              "      <td>20</td>\n",
              "      <td>0.988</td>\n",
              "      <td>0.976</td>\n",
              "    </tr>\n",
              "    <tr>\n",
              "      <th>3</th>\n",
              "      <td>22</td>\n",
              "      <td>0.988</td>\n",
              "      <td>0.976</td>\n",
              "    </tr>\n",
              "    <tr>\n",
              "      <th>4</th>\n",
              "      <td>24</td>\n",
              "      <td>0.988</td>\n",
              "      <td>0.976</td>\n",
              "    </tr>\n",
              "    <tr>\n",
              "      <th>5</th>\n",
              "      <td>26</td>\n",
              "      <td>0.988</td>\n",
              "      <td>0.976</td>\n",
              "    </tr>\n",
              "    <tr>\n",
              "      <th>6</th>\n",
              "      <td>28</td>\n",
              "      <td>0.988</td>\n",
              "      <td>0.976</td>\n",
              "    </tr>\n",
              "    <tr>\n",
              "      <th>7</th>\n",
              "      <td>30</td>\n",
              "      <td>0.988</td>\n",
              "      <td>0.976</td>\n",
              "    </tr>\n",
              "    <tr>\n",
              "      <th>8</th>\n",
              "      <td>32</td>\n",
              "      <td>0.988</td>\n",
              "      <td>0.976</td>\n",
              "    </tr>\n",
              "    <tr>\n",
              "      <th>9</th>\n",
              "      <td>34</td>\n",
              "      <td>0.988</td>\n",
              "      <td>0.976</td>\n",
              "    </tr>\n",
              "    <tr>\n",
              "      <th>10</th>\n",
              "      <td>36</td>\n",
              "      <td>0.988</td>\n",
              "      <td>0.976</td>\n",
              "    </tr>\n",
              "    <tr>\n",
              "      <th>11</th>\n",
              "      <td>38</td>\n",
              "      <td>0.988</td>\n",
              "      <td>0.976</td>\n",
              "    </tr>\n",
              "    <tr>\n",
              "      <th>12</th>\n",
              "      <td>40</td>\n",
              "      <td>0.988</td>\n",
              "      <td>0.976</td>\n",
              "    </tr>\n",
              "    <tr>\n",
              "      <th>13</th>\n",
              "      <td>42</td>\n",
              "      <td>0.988</td>\n",
              "      <td>0.976</td>\n",
              "    </tr>\n",
              "    <tr>\n",
              "      <th>14</th>\n",
              "      <td>44</td>\n",
              "      <td>0.988</td>\n",
              "      <td>0.976</td>\n",
              "    </tr>\n",
              "    <tr>\n",
              "      <th>15</th>\n",
              "      <td>46</td>\n",
              "      <td>0.988</td>\n",
              "      <td>0.976</td>\n",
              "    </tr>\n",
              "    <tr>\n",
              "      <th>16</th>\n",
              "      <td>48</td>\n",
              "      <td>0.988</td>\n",
              "      <td>0.976</td>\n",
              "    </tr>\n",
              "  </tbody>\n",
              "</table>\n",
              "</div>\n",
              "      <button class=\"colab-df-convert\" onclick=\"convertToInteractive('df-33bf6b26-f69a-473f-82e7-c62671a31f67')\"\n",
              "              title=\"Convert this dataframe to an interactive table.\"\n",
              "              style=\"display:none;\">\n",
              "        \n",
              "  <svg xmlns=\"http://www.w3.org/2000/svg\" height=\"24px\"viewBox=\"0 0 24 24\"\n",
              "       width=\"24px\">\n",
              "    <path d=\"M0 0h24v24H0V0z\" fill=\"none\"/>\n",
              "    <path d=\"M18.56 5.44l.94 2.06.94-2.06 2.06-.94-2.06-.94-.94-2.06-.94 2.06-2.06.94zm-11 1L8.5 8.5l.94-2.06 2.06-.94-2.06-.94L8.5 2.5l-.94 2.06-2.06.94zm10 10l.94 2.06.94-2.06 2.06-.94-2.06-.94-.94-2.06-.94 2.06-2.06.94z\"/><path d=\"M17.41 7.96l-1.37-1.37c-.4-.4-.92-.59-1.43-.59-.52 0-1.04.2-1.43.59L10.3 9.45l-7.72 7.72c-.78.78-.78 2.05 0 2.83L4 21.41c.39.39.9.59 1.41.59.51 0 1.02-.2 1.41-.59l7.78-7.78 2.81-2.81c.8-.78.8-2.07 0-2.86zM5.41 20L4 18.59l7.72-7.72 1.47 1.35L5.41 20z\"/>\n",
              "  </svg>\n",
              "      </button>\n",
              "      \n",
              "  <style>\n",
              "    .colab-df-container {\n",
              "      display:flex;\n",
              "      flex-wrap:wrap;\n",
              "      gap: 12px;\n",
              "    }\n",
              "\n",
              "    .colab-df-convert {\n",
              "      background-color: #E8F0FE;\n",
              "      border: none;\n",
              "      border-radius: 50%;\n",
              "      cursor: pointer;\n",
              "      display: none;\n",
              "      fill: #1967D2;\n",
              "      height: 32px;\n",
              "      padding: 0 0 0 0;\n",
              "      width: 32px;\n",
              "    }\n",
              "\n",
              "    .colab-df-convert:hover {\n",
              "      background-color: #E2EBFA;\n",
              "      box-shadow: 0px 1px 2px rgba(60, 64, 67, 0.3), 0px 1px 3px 1px rgba(60, 64, 67, 0.15);\n",
              "      fill: #174EA6;\n",
              "    }\n",
              "\n",
              "    [theme=dark] .colab-df-convert {\n",
              "      background-color: #3B4455;\n",
              "      fill: #D2E3FC;\n",
              "    }\n",
              "\n",
              "    [theme=dark] .colab-df-convert:hover {\n",
              "      background-color: #434B5C;\n",
              "      box-shadow: 0px 1px 3px 1px rgba(0, 0, 0, 0.15);\n",
              "      filter: drop-shadow(0px 1px 2px rgba(0, 0, 0, 0.3));\n",
              "      fill: #FFFFFF;\n",
              "    }\n",
              "  </style>\n",
              "\n",
              "      <script>\n",
              "        const buttonEl =\n",
              "          document.querySelector('#df-33bf6b26-f69a-473f-82e7-c62671a31f67 button.colab-df-convert');\n",
              "        buttonEl.style.display =\n",
              "          google.colab.kernel.accessAllowed ? 'block' : 'none';\n",
              "\n",
              "        async function convertToInteractive(key) {\n",
              "          const element = document.querySelector('#df-33bf6b26-f69a-473f-82e7-c62671a31f67');\n",
              "          const dataTable =\n",
              "            await google.colab.kernel.invokeFunction('convertToInteractive',\n",
              "                                                     [key], {});\n",
              "          if (!dataTable) return;\n",
              "\n",
              "          const docLinkHtml = 'Like what you see? Visit the ' +\n",
              "            '<a target=\"_blank\" href=https://colab.research.google.com/notebooks/data_table.ipynb>data table notebook</a>'\n",
              "            + ' to learn more about interactive tables.';\n",
              "          element.innerHTML = '';\n",
              "          dataTable['output_type'] = 'display_data';\n",
              "          await google.colab.output.renderOutput(dataTable, element);\n",
              "          const docLink = document.createElement('div');\n",
              "          docLink.innerHTML = docLinkHtml;\n",
              "          element.appendChild(docLink);\n",
              "        }\n",
              "      </script>\n",
              "    </div>\n",
              "  </div>\n",
              "  "
            ]
          },
          "metadata": {},
          "execution_count": 58
        }
      ],
      "source": [
        "train_acc = []\n",
        "test_acc = []\n",
        "\n",
        "para_split = [n_split * 2 for n_split in range(8,25)]\n",
        "\n",
        "for v_para_split in para_split:\n",
        "    tree_split = DecisionTreeClassifier(random_state = random, max_depth = max_depth, \n",
        "                                        min_samples_split = v_para_split, min_samples_leaf = n_leaf)\n",
        "    tree_split.fit(df_train_x, df_train_y)\n",
        "    train_acc.append(tree_split.score(df_train_x, df_train_y))\n",
        "    test_acc.append(tree_split.score(df_test_x, df_test_y))\n",
        "\n",
        "# 결과 저장\n",
        "df_acc_split = pd.DataFrame()\n",
        "df_acc_split[\"MinSplitLeaf\"] = para_split\n",
        "df_acc_split[\"TrainScore\"] = train_acc\n",
        "df_acc_split[\"TestScore\"] = test_acc\n",
        "\n",
        "df_acc_split.round(3)"
      ]
    },
    {
      "cell_type": "code",
      "execution_count": 59,
      "id": "4164ae4a",
      "metadata": {
        "colab": {
          "base_uri": "https://localhost:8080/",
          "height": 283
        },
        "id": "4164ae4a",
        "outputId": "8a8ebde1-d699-47ee-dc8a-a8522a24c37b"
      },
      "outputs": [
        {
          "output_type": "execute_result",
          "data": {
            "text/plain": [
              "<matplotlib.legend.Legend at 0x7f52e0697b50>"
            ]
          },
          "metadata": {},
          "execution_count": 59
        },
        {
          "output_type": "display_data",
          "data": {
            "text/plain": [
              "<Figure size 432x288 with 1 Axes>"
            ],
            "image/png": "[encoded data removed]"
          },
          "metadata": {
            "needs_background": "light"
          }
        }
      ],
      "source": [
        "# 그래프\n",
        "plt.plot(para_split, train_acc, linestyle = \"-\", label = \"TrainAccuracy\")\n",
        "plt.plot(para_split, test_acc, linestyle = \"--\", label = \"TestAccuracy\")\n",
        "plt.legend()"
      ]
    },
    {
      "cell_type": "code",
      "execution_count": 60,
      "id": "27bea9b1",
      "metadata": {
        "colab": {
          "base_uri": "https://localhost:8080/"
        },
        "id": "27bea9b1",
        "outputId": "0561f744-ed56-42bb-bfac-58387f9499c1"
      },
      "outputs": [
        {
          "output_type": "stream",
          "name": "stdout",
          "text": [
            "Score_train : 0.9882903981264637\n",
            "Score_test : 0.9755244755244755\n"
          ]
        }
      ],
      "source": [
        "# Min_Sample_Split : 20\n",
        "n_split = 20\n",
        "tree_split = DecisionTreeClassifier(random_state = random, max_depth = max_depth, min_samples_split = n_split, min_samples_leaf = 8)\n",
        "tree_split.fit(df_train_x, df_train_y)\n",
        "\n",
        "print(\"Score_train : {0}\".format(tree_split.score(df_train_x, df_train_y)))\n",
        "print(\"Score_test : {0}\".format(tree_split.score(df_test_x, df_test_y)))"
      ]
    },
    {
      "cell_type": "code",
      "execution_count": 61,
      "id": "5788b3f4",
      "metadata": {
        "colab": {
          "base_uri": "https://localhost:8080/"
        },
        "id": "5788b3f4",
        "outputId": "33bbc5d2-d3bd-463d-ebcf-d60fad9ddb2f"
      },
      "outputs": [
        {
          "output_type": "stream",
          "name": "stdout",
          "text": [
            "Accuracy: 0.976\n",
            "\n",
            "Confusion matrix: \n",
            "[[186   0]\n",
            " [  7  93]]\n",
            "              precision    recall  f1-score   support\n",
            "\n",
            "           0      0.964     1.000     0.982       186\n",
            "           1      1.000     0.930     0.964       100\n",
            "\n",
            "    accuracy                          0.976       286\n",
            "   macro avg      0.982     0.965     0.973       286\n",
            "weighted avg      0.976     0.976     0.975       286\n",
            "\n"
          ]
        }
      ],
      "source": [
        "tree_final = DecisionTreeClassifier(random_state = 100, min_samples_leaf = 8, min_samples_split = 20, max_depth = 10)\n",
        "tree_final.fit(df_train_x, df_train_y)\n",
        "y_pred = tree_final.predict(df_test_x)\n",
        "print(\"Accuracy: {0:.3f}\\n\".format(tree_final.score(df_test_x,df_test_y)))\n",
        "print(\"Confusion matrix: \\n{0}\".format(confusion_matrix(df_test_y, y_pred)))\n",
        "print(classification_report(df_test_y, y_pred, digits=3))"
      ]
    },
    {
      "cell_type": "markdown",
      "id": "6d7f1dfa",
      "metadata": {
        "id": "6d7f1dfa"
      },
      "source": [
        "### Feature Importance"
      ]
    },
    {
      "cell_type": "code",
      "execution_count": 62,
      "id": "8d8b17b2",
      "metadata": {
        "colab": {
          "base_uri": "https://localhost:8080/",
          "height": 297
        },
        "id": "8d8b17b2",
        "outputId": "fbd134e2-cd14-4e3b-9902-5cb3ab813de4"
      },
      "outputs": [
        {
          "output_type": "execute_result",
          "data": {
            "text/plain": [
              "Text(0, 0.5, '변수')"
            ]
          },
          "metadata": {},
          "execution_count": 62
        },
        {
          "output_type": "display_data",
          "data": {
            "text/plain": [
              "<Figure size 432x288 with 1 Axes>"
            ],
            "image/png": "[encoded data removed]"
          },
          "metadata": {
            "needs_background": "light"
          }
        }
      ],
      "source": [
        "v_feature_name = df_train_x.columns\n",
        "df_importance = pd.DataFrame()\n",
        "df_importance[\"Feature\"] = v_feature_name\n",
        "df_importance[\"importance\"] = tree_final.feature_importances_\n",
        "\n",
        "# Importance 별로 정렬\n",
        "df_importance.sort_values('importance', ascending = False, inplace = True)\n",
        "df_importance.round(3)\n",
        "\n",
        "# 그래프 도식화\n",
        "df_importance.sort_values('importance', ascending = True, inplace = True)\n",
        "coordinates = range(len(df_importance))\n",
        "plt.barh(y = coordinates, width = df_importance['importance'])\n",
        "plt.yticks(coordinates, df_importance['Feature'])\n",
        "plt.xlabel(\"변수 중요도\")\n",
        "plt.ylabel(\"변수\")"
      ]
    },
    {
      "cell_type": "markdown",
      "id": "f13e9b28",
      "metadata": {
        "id": "f13e9b28"
      },
      "source": [
        "## RF"
      ]
    },
    {
      "cell_type": "code",
      "execution_count": 63,
      "id": "f90b003c",
      "metadata": {
        "id": "f90b003c"
      },
      "outputs": [],
      "source": [
        "# Random Forest\n",
        "from sklearn.ensemble import RandomForestClassifier"
      ]
    },
    {
      "cell_type": "code",
      "execution_count": 64,
      "id": "e6f79c67",
      "metadata": {
        "colab": {
          "base_uri": "https://localhost:8080/",
          "height": 400
        },
        "id": "e6f79c67",
        "outputId": "58d23709-bf40-49a9-c0a8-f325a9118dc9"
      },
      "outputs": [
        {
          "output_type": "error",
          "ename": "KeyboardInterrupt",
          "evalue": "ignored",
          "traceback": [
            "\u001b[0;31m---------------------------------------------------------------------------\u001b[0m",
            "\u001b[0;31mKeyboardInterrupt\u001b[0m                         Traceback (most recent call last)",
            "\u001b[0;32m<ipython-input-64-5fc15b88fa44>\u001b[0m in \u001b[0;36m<module>\u001b[0;34m\u001b[0m\n\u001b[1;32m     11\u001b[0m \u001b[0;34m\u001b[0m\u001b[0m\n\u001b[1;32m     12\u001b[0m \u001b[0mgrid_dt\u001b[0m \u001b[0;34m=\u001b[0m \u001b[0mGridSearchCV\u001b[0m\u001b[0;34m(\u001b[0m\u001b[0mestimator\u001b[0m\u001b[0;34m,\u001b[0m \u001b[0mparam_grid\u001b[0m\u001b[0;34m,\u001b[0m \u001b[0mscoring\u001b[0m\u001b[0;34m=\u001b[0m\u001b[0;34m\"r2\"\u001b[0m\u001b[0;34m,\u001b[0m \u001b[0mn_jobs\u001b[0m\u001b[0;34m=\u001b[0m\u001b[0;34m-\u001b[0m\u001b[0;36m1\u001b[0m\u001b[0;34m)\u001b[0m\u001b[0;34m\u001b[0m\u001b[0;34m\u001b[0m\u001b[0m\n\u001b[0;32m---> 13\u001b[0;31m \u001b[0mgrid_dt\u001b[0m\u001b[0;34m.\u001b[0m\u001b[0mfit\u001b[0m\u001b[0;34m(\u001b[0m\u001b[0mdf_train_x\u001b[0m\u001b[0;34m,\u001b[0m \u001b[0mdf_train_y\u001b[0m\u001b[0;34m)\u001b[0m\u001b[0;34m\u001b[0m\u001b[0;34m\u001b[0m\u001b[0m\n\u001b[0m\u001b[1;32m     14\u001b[0m \u001b[0;34m\u001b[0m\u001b[0m\n\u001b[1;32m     15\u001b[0m \u001b[0mprint\u001b[0m\u001b[0;34m(\u001b[0m\u001b[0;34m\"best estimator model: \\n{}\"\u001b[0m\u001b[0;34m.\u001b[0m\u001b[0mformat\u001b[0m\u001b[0;34m(\u001b[0m\u001b[0mgrid_dt\u001b[0m\u001b[0;34m.\u001b[0m\u001b[0mbest_estimator_\u001b[0m\u001b[0;34m)\u001b[0m\u001b[0;34m)\u001b[0m\u001b[0;34m\u001b[0m\u001b[0;34m\u001b[0m\u001b[0m\n",
            "\u001b[0;32m/usr/local/lib/python3.8/dist-packages/sklearn/model_selection/_search.py\u001b[0m in \u001b[0;36mfit\u001b[0;34m(self, X, y, groups, **fit_params)\u001b[0m\n\u001b[1;32m    872\u001b[0m                 \u001b[0;32mreturn\u001b[0m \u001b[0mresults\u001b[0m\u001b[0;34m\u001b[0m\u001b[0;34m\u001b[0m\u001b[0m\n\u001b[1;32m    873\u001b[0m \u001b[0;34m\u001b[0m\u001b[0m\n\u001b[0;32m--> 874\u001b[0;31m             \u001b[0mself\u001b[0m\u001b[0;34m.\u001b[0m\u001b[0m_run_search\u001b[0m\u001b[0;34m(\u001b[0m\u001b[0mevaluate_candidates\u001b[0m\u001b[0;34m)\u001b[0m\u001b[0;34m\u001b[0m\u001b[0;34m\u001b[0m\u001b[0m\n\u001b[0m\u001b[1;32m    875\u001b[0m \u001b[0;34m\u001b[0m\u001b[0m\n\u001b[1;32m    876\u001b[0m             \u001b[0;31m# multimetric is determined here because in the case of a callable\u001b[0m\u001b[0;34m\u001b[0m\u001b[0;34m\u001b[0m\u001b[0;34m\u001b[0m\u001b[0m\n",
            "\u001b[0;32m/usr/local/lib/python3.8/dist-packages/sklearn/model_selection/_search.py\u001b[0m in \u001b[0;36m_run_search\u001b[0;34m(self, evaluate_candidates)\u001b[0m\n\u001b[1;32m   1386\u001b[0m     \u001b[0;32mdef\u001b[0m \u001b[0m_run_search\u001b[0m\u001b[0;34m(\u001b[0m\u001b[0mself\u001b[0m\u001b[0;34m,\u001b[0m \u001b[0mevaluate_candidates\u001b[0m\u001b[0;34m)\u001b[0m\u001b[0;34m:\u001b[0m\u001b[0;34m\u001b[0m\u001b[0;34m\u001b[0m\u001b[0m\n\u001b[1;32m   1387\u001b[0m         \u001b[0;34m\"\"\"Search all candidates in param_grid\"\"\"\u001b[0m\u001b[0;34m\u001b[0m\u001b[0;34m\u001b[0m\u001b[0m\n\u001b[0;32m-> 1388\u001b[0;31m         \u001b[0mevaluate_candidates\u001b[0m\u001b[0;34m(\u001b[0m\u001b[0mParameterGrid\u001b[0m\u001b[0;34m(\u001b[0m\u001b[0mself\u001b[0m\u001b[0;34m.\u001b[0m\u001b[0mparam_grid\u001b[0m\u001b[0;34m)\u001b[0m\u001b[0;34m)\u001b[0m\u001b[0;34m\u001b[0m\u001b[0;34m\u001b[0m\u001b[0m\n\u001b[0m\u001b[1;32m   1389\u001b[0m \u001b[0;34m\u001b[0m\u001b[0m\n\u001b[1;32m   1390\u001b[0m \u001b[0;34m\u001b[0m\u001b[0m\n",
            "\u001b[0;32m/usr/local/lib/python3.8/dist-packages/sklearn/model_selection/_search.py\u001b[0m in \u001b[0;36mevaluate_candidates\u001b[0;34m(candidate_params, cv, more_results)\u001b[0m\n\u001b[1;32m    819\u001b[0m                     )\n\u001b[1;32m    820\u001b[0m \u001b[0;34m\u001b[0m\u001b[0m\n\u001b[0;32m--> 821\u001b[0;31m                 out = parallel(\n\u001b[0m\u001b[1;32m    822\u001b[0m                     delayed(_fit_and_score)(\n\u001b[1;32m    823\u001b[0m                         \u001b[0mclone\u001b[0m\u001b[0;34m(\u001b[0m\u001b[0mbase_estimator\u001b[0m\u001b[0;34m)\u001b[0m\u001b[0;34m,\u001b[0m\u001b[0;34m\u001b[0m\u001b[0;34m\u001b[0m\u001b[0m\n",
            "\u001b[0;32m/usr/local/lib/python3.8/dist-packages/sklearn/utils/parallel.py\u001b[0m in \u001b[0;36m__call__\u001b[0;34m(self, iterable)\u001b[0m\n\u001b[1;32m     61\u001b[0m             \u001b[0;32mfor\u001b[0m \u001b[0mdelayed_func\u001b[0m\u001b[0;34m,\u001b[0m \u001b[0margs\u001b[0m\u001b[0;34m,\u001b[0m \u001b[0mkwargs\u001b[0m \u001b[0;32min\u001b[0m \u001b[0miterable\u001b[0m\u001b[0;34m\u001b[0m\u001b[0;34m\u001b[0m\u001b[0m\n\u001b[1;32m     62\u001b[0m         )\n\u001b[0;32m---> 63\u001b[0;31m         \u001b[0;32mreturn\u001b[0m \u001b[0msuper\u001b[0m\u001b[0;34m(\u001b[0m\u001b[0;34m)\u001b[0m\u001b[0;34m.\u001b[0m\u001b[0m__call__\u001b[0m\u001b[0;34m(\u001b[0m\u001b[0miterable_with_config\u001b[0m\u001b[0;34m)\u001b[0m\u001b[0;34m\u001b[0m\u001b[0;34m\u001b[0m\u001b[0m\n\u001b[0m\u001b[1;32m     64\u001b[0m \u001b[0;34m\u001b[0m\u001b[0m\n\u001b[1;32m     65\u001b[0m \u001b[0;34m\u001b[0m\u001b[0m\n",
            "\u001b[0;32m/usr/local/lib/python3.8/dist-packages/joblib/parallel.py\u001b[0m in \u001b[0;36m__call__\u001b[0;34m(self, iterable)\u001b[0m\n\u001b[1;32m   1096\u001b[0m \u001b[0;34m\u001b[0m\u001b[0m\n\u001b[1;32m   1097\u001b[0m             \u001b[0;32mwith\u001b[0m \u001b[0mself\u001b[0m\u001b[0;34m.\u001b[0m\u001b[0m_backend\u001b[0m\u001b[0;34m.\u001b[0m\u001b[0mretrieval_context\u001b[0m\u001b[0;34m(\u001b[0m\u001b[0;34m)\u001b[0m\u001b[0;34m:\u001b[0m\u001b[0;34m\u001b[0m\u001b[0;34m\u001b[0m\u001b[0m\n\u001b[0;32m-> 1098\u001b[0;31m                 \u001b[0mself\u001b[0m\u001b[0;34m.\u001b[0m\u001b[0mretrieve\u001b[0m\u001b[0;34m(\u001b[0m\u001b[0;34m)\u001b[0m\u001b[0;34m\u001b[0m\u001b[0;34m\u001b[0m\u001b[0m\n\u001b[0m\u001b[1;32m   1099\u001b[0m             \u001b[0;31m# Make sure that we get a last message telling us we are done\u001b[0m\u001b[0;34m\u001b[0m\u001b[0;34m\u001b[0m\u001b[0;34m\u001b[0m\u001b[0m\n\u001b[1;32m   1100\u001b[0m             \u001b[0melapsed_time\u001b[0m \u001b[0;34m=\u001b[0m \u001b[0mtime\u001b[0m\u001b[0;34m.\u001b[0m\u001b[0mtime\u001b[0m\u001b[0;34m(\u001b[0m\u001b[0;34m)\u001b[0m \u001b[0;34m-\u001b[0m \u001b[0mself\u001b[0m\u001b[0;34m.\u001b[0m\u001b[0m_start_time\u001b[0m\u001b[0;34m\u001b[0m\u001b[0;34m\u001b[0m\u001b[0m\n",
            "\u001b[0;32m/usr/local/lib/python3.8/dist-packages/joblib/parallel.py\u001b[0m in \u001b[0;36mretrieve\u001b[0;34m(self)\u001b[0m\n\u001b[1;32m    973\u001b[0m             \u001b[0;32mtry\u001b[0m\u001b[0;34m:\u001b[0m\u001b[0;34m\u001b[0m\u001b[0;34m\u001b[0m\u001b[0m\n\u001b[1;32m    974\u001b[0m                 \u001b[0;32mif\u001b[0m \u001b[0mgetattr\u001b[0m\u001b[0;34m(\u001b[0m\u001b[0mself\u001b[0m\u001b[0;34m.\u001b[0m\u001b[0m_backend\u001b[0m\u001b[0;34m,\u001b[0m \u001b[0;34m'supports_timeout'\u001b[0m\u001b[0;34m,\u001b[0m \u001b[0;32mFalse\u001b[0m\u001b[0;34m)\u001b[0m\u001b[0;34m:\u001b[0m\u001b[0;34m\u001b[0m\u001b[0;34m\u001b[0m\u001b[0m\n\u001b[0;32m--> 975\u001b[0;31m                     \u001b[0mself\u001b[0m\u001b[0;34m.\u001b[0m\u001b[0m_output\u001b[0m\u001b[0;34m.\u001b[0m\u001b[0mextend\u001b[0m\u001b[0;34m(\u001b[0m\u001b[0mjob\u001b[0m\u001b[0;34m.\u001b[0m\u001b[0mget\u001b[0m\u001b[0;34m(\u001b[0m\u001b[0mtimeout\u001b[0m\u001b[0;34m=\u001b[0m\u001b[0mself\u001b[0m\u001b[0;34m.\u001b[0m\u001b[0mtimeout\u001b[0m\u001b[0;34m)\u001b[0m\u001b[0;34m)\u001b[0m\u001b[0;34m\u001b[0m\u001b[0;34m\u001b[0m\u001b[0m\n\u001b[0m\u001b[1;32m    976\u001b[0m                 \u001b[0;32melse\u001b[0m\u001b[0;34m:\u001b[0m\u001b[0;34m\u001b[0m\u001b[0;34m\u001b[0m\u001b[0m\n\u001b[1;32m    977\u001b[0m                     \u001b[0mself\u001b[0m\u001b[0;34m.\u001b[0m\u001b[0m_output\u001b[0m\u001b[0;34m.\u001b[0m\u001b[0mextend\u001b[0m\u001b[0;34m(\u001b[0m\u001b[0mjob\u001b[0m\u001b[0;34m.\u001b[0m\u001b[0mget\u001b[0m\u001b[0;34m(\u001b[0m\u001b[0;34m)\u001b[0m\u001b[0;34m)\u001b[0m\u001b[0;34m\u001b[0m\u001b[0;34m\u001b[0m\u001b[0m\n",
            "\u001b[0;32m/usr/local/lib/python3.8/dist-packages/joblib/_parallel_backends.py\u001b[0m in \u001b[0;36mwrap_future_result\u001b[0;34m(future, timeout)\u001b[0m\n\u001b[1;32m    565\u001b[0m         AsyncResults.get from multiprocessing.\"\"\"\n\u001b[1;32m    566\u001b[0m         \u001b[0;32mtry\u001b[0m\u001b[0;34m:\u001b[0m\u001b[0;34m\u001b[0m\u001b[0;34m\u001b[0m\u001b[0m\n\u001b[0;32m--> 567\u001b[0;31m             \u001b[0;32mreturn\u001b[0m \u001b[0mfuture\u001b[0m\u001b[0;34m.\u001b[0m\u001b[0mresult\u001b[0m\u001b[0;34m(\u001b[0m\u001b[0mtimeout\u001b[0m\u001b[0;34m=\u001b[0m\u001b[0mtimeout\u001b[0m\u001b[0;34m)\u001b[0m\u001b[0;34m\u001b[0m\u001b[0;34m\u001b[0m\u001b[0m\n\u001b[0m\u001b[1;32m    568\u001b[0m         \u001b[0;32mexcept\u001b[0m \u001b[0mCfTimeoutError\u001b[0m \u001b[0;32mas\u001b[0m \u001b[0me\u001b[0m\u001b[0;34m:\u001b[0m\u001b[0;34m\u001b[0m\u001b[0;34m\u001b[0m\u001b[0m\n\u001b[1;32m    569\u001b[0m             \u001b[0;32mraise\u001b[0m \u001b[0mTimeoutError\u001b[0m \u001b[0;32mfrom\u001b[0m \u001b[0me\u001b[0m\u001b[0;34m\u001b[0m\u001b[0;34m\u001b[0m\u001b[0m\n",
            "\u001b[0;32m/usr/lib/python3.8/concurrent/futures/_base.py\u001b[0m in \u001b[0;36mresult\u001b[0;34m(self, timeout)\u001b[0m\n\u001b[1;32m    437\u001b[0m                     \u001b[0;32mreturn\u001b[0m \u001b[0mself\u001b[0m\u001b[0;34m.\u001b[0m\u001b[0m__get_result\u001b[0m\u001b[0;34m(\u001b[0m\u001b[0;34m)\u001b[0m\u001b[0;34m\u001b[0m\u001b[0;34m\u001b[0m\u001b[0m\n\u001b[1;32m    438\u001b[0m \u001b[0;34m\u001b[0m\u001b[0m\n\u001b[0;32m--> 439\u001b[0;31m                 \u001b[0mself\u001b[0m\u001b[0;34m.\u001b[0m\u001b[0m_condition\u001b[0m\u001b[0;34m.\u001b[0m\u001b[0mwait\u001b[0m\u001b[0;34m(\u001b[0m\u001b[0mtimeout\u001b[0m\u001b[0;34m)\u001b[0m\u001b[0;34m\u001b[0m\u001b[0;34m\u001b[0m\u001b[0m\n\u001b[0m\u001b[1;32m    440\u001b[0m \u001b[0;34m\u001b[0m\u001b[0m\n\u001b[1;32m    441\u001b[0m                 \u001b[0;32mif\u001b[0m \u001b[0mself\u001b[0m\u001b[0;34m.\u001b[0m\u001b[0m_state\u001b[0m \u001b[0;32min\u001b[0m \u001b[0;34m[\u001b[0m\u001b[0mCANCELLED\u001b[0m\u001b[0;34m,\u001b[0m \u001b[0mCANCELLED_AND_NOTIFIED\u001b[0m\u001b[0;34m]\u001b[0m\u001b[0;34m:\u001b[0m\u001b[0;34m\u001b[0m\u001b[0;34m\u001b[0m\u001b[0m\n",
            "\u001b[0;32m/usr/lib/python3.8/threading.py\u001b[0m in \u001b[0;36mwait\u001b[0;34m(self, timeout)\u001b[0m\n\u001b[1;32m    300\u001b[0m         \u001b[0;32mtry\u001b[0m\u001b[0;34m:\u001b[0m    \u001b[0;31m# restore state no matter what (e.g., KeyboardInterrupt)\u001b[0m\u001b[0;34m\u001b[0m\u001b[0;34m\u001b[0m\u001b[0m\n\u001b[1;32m    301\u001b[0m             \u001b[0;32mif\u001b[0m \u001b[0mtimeout\u001b[0m \u001b[0;32mis\u001b[0m \u001b[0;32mNone\u001b[0m\u001b[0;34m:\u001b[0m\u001b[0;34m\u001b[0m\u001b[0;34m\u001b[0m\u001b[0m\n\u001b[0;32m--> 302\u001b[0;31m                 \u001b[0mwaiter\u001b[0m\u001b[0;34m.\u001b[0m\u001b[0macquire\u001b[0m\u001b[0;34m(\u001b[0m\u001b[0;34m)\u001b[0m\u001b[0;34m\u001b[0m\u001b[0;34m\u001b[0m\u001b[0m\n\u001b[0m\u001b[1;32m    303\u001b[0m                 \u001b[0mgotit\u001b[0m \u001b[0;34m=\u001b[0m \u001b[0;32mTrue\u001b[0m\u001b[0;34m\u001b[0m\u001b[0;34m\u001b[0m\u001b[0m\n\u001b[1;32m    304\u001b[0m             \u001b[0;32melse\u001b[0m\u001b[0;34m:\u001b[0m\u001b[0;34m\u001b[0m\u001b[0;34m\u001b[0m\u001b[0m\n",
            "\u001b[0;31mKeyboardInterrupt\u001b[0m: "
          ]
        }
      ],
      "source": [
        "# GridSearchCV를 이용한 최적의 파라미터 찾기\n",
        "estimator = RandomForestClassifier(random_state=random)\n",
        "\n",
        "para_depth = [depth for depth in range(1,15)]\n",
        "para_split = [n_split * 2 for n_split in range(8,20)]\n",
        "para_leaf = [leaf for leaf in range(1,10)]\n",
        "n_estimators = [estimators * 10 for estimators in range(1,20)]\n",
        "\n",
        "param_grid = {\"max_features\" : ['max_features=1.0', 'sqrt', 'log2'], \n",
        "              'max_depth' : [10], 'min_samples_split' : para_split, 'min_samples_leaf' : [8], 'n_estimators' : n_estimators}\n",
        "\n",
        "grid_dt = GridSearchCV(estimator, param_grid, scoring=\"r2\", n_jobs=-1)\n",
        "grid_dt.fit(df_train_x, df_train_y)\n",
        "\n",
        "print(\"best estimator model: \\n{}\".format(grid_dt.best_estimator_))\n",
        "print(\"\\nbest parameter: \\n{}\".format(grid_dt.best_params_))\n",
        "print(\"\\nbest score: \\n{}\".format(grid_dt.best_score_.round(3)))"
      ]
    },
    {
      "cell_type": "code",
      "execution_count": 65,
      "id": "be643e4e",
      "metadata": {
        "collapsed": true,
        "colab": {
          "base_uri": "https://localhost:8080/",
          "height": 645
        },
        "id": "be643e4e",
        "outputId": "ee9fd6e3-acda-4334-eca9-74b9d64d3e7d"
      },
      "outputs": [
        {
          "output_type": "execute_result",
          "data": {
            "text/plain": [
              "    MinSampleLeaf  TrainScore  TestScore\n",
              "0              10       0.998      0.909\n",
              "1              20       1.000      0.937\n",
              "2              30       1.000      0.920\n",
              "3              40       1.000      0.927\n",
              "4              50       0.998      0.944\n",
              "5              60       0.998      0.944\n",
              "6              70       0.998      0.941\n",
              "7              80       1.000      0.941\n",
              "8              90       1.000      0.941\n",
              "9             100       1.000      0.948\n",
              "10            110       1.000      0.944\n",
              "11            120       1.000      0.951\n",
              "12            130       1.000      0.948\n",
              "13            140       1.000      0.948\n",
              "14            150       1.000      0.948\n",
              "15            160       1.000      0.944\n",
              "16            170       1.000      0.944\n",
              "17            180       1.000      0.944\n",
              "18            190       1.000      0.948"
            ],
            "text/html": [
              "\n",
              "  <div id=\"df-3c13736d-a194-46af-a55d-36cfe2c63f06\">\n",
              "    <div class=\"colab-df-container\">\n",
              "      <div>\n",
              "<style scoped>\n",
              "    .dataframe tbody tr th:only-of-type {\n",
              "        vertical-align: middle;\n",
              "    }\n",
              "\n",
              "    .dataframe tbody tr th {\n",
              "        vertical-align: top;\n",
              "    }\n",
              "\n",
              "    .dataframe thead th {\n",
              "        text-align: right;\n",
              "    }\n",
              "</style>\n",
              "<table border=\"1\" class=\"dataframe\">\n",
              "  <thead>\n",
              "    <tr style=\"text-align: right;\">\n",
              "      <th></th>\n",
              "      <th>MinSampleLeaf</th>\n",
              "      <th>TrainScore</th>\n",
              "      <th>TestScore</th>\n",
              "    </tr>\n",
              "  </thead>\n",
              "  <tbody>\n",
              "    <tr>\n",
              "      <th>0</th>\n",
              "      <td>10</td>\n",
              "      <td>0.998</td>\n",
              "      <td>0.909</td>\n",
              "    </tr>\n",
              "    <tr>\n",
              "      <th>1</th>\n",
              "      <td>20</td>\n",
              "      <td>1.000</td>\n",
              "      <td>0.937</td>\n",
              "    </tr>\n",
              "    <tr>\n",
              "      <th>2</th>\n",
              "      <td>30</td>\n",
              "      <td>1.000</td>\n",
              "      <td>0.920</td>\n",
              "    </tr>\n",
              "    <tr>\n",
              "      <th>3</th>\n",
              "      <td>40</td>\n",
              "      <td>1.000</td>\n",
              "      <td>0.927</td>\n",
              "    </tr>\n",
              "    <tr>\n",
              "      <th>4</th>\n",
              "      <td>50</td>\n",
              "      <td>0.998</td>\n",
              "      <td>0.944</td>\n",
              "    </tr>\n",
              "    <tr>\n",
              "      <th>5</th>\n",
              "      <td>60</td>\n",
              "      <td>0.998</td>\n",
              "      <td>0.944</td>\n",
              "    </tr>\n",
              "    <tr>\n",
              "      <th>6</th>\n",
              "      <td>70</td>\n",
              "      <td>0.998</td>\n",
              "      <td>0.941</td>\n",
              "    </tr>\n",
              "    <tr>\n",
              "      <th>7</th>\n",
              "      <td>80</td>\n",
              "      <td>1.000</td>\n",
              "      <td>0.941</td>\n",
              "    </tr>\n",
              "    <tr>\n",
              "      <th>8</th>\n",
              "      <td>90</td>\n",
              "      <td>1.000</td>\n",
              "      <td>0.941</td>\n",
              "    </tr>\n",
              "    <tr>\n",
              "      <th>9</th>\n",
              "      <td>100</td>\n",
              "      <td>1.000</td>\n",
              "      <td>0.948</td>\n",
              "    </tr>\n",
              "    <tr>\n",
              "      <th>10</th>\n",
              "      <td>110</td>\n",
              "      <td>1.000</td>\n",
              "      <td>0.944</td>\n",
              "    </tr>\n",
              "    <tr>\n",
              "      <th>11</th>\n",
              "      <td>120</td>\n",
              "      <td>1.000</td>\n",
              "      <td>0.951</td>\n",
              "    </tr>\n",
              "    <tr>\n",
              "      <th>12</th>\n",
              "      <td>130</td>\n",
              "      <td>1.000</td>\n",
              "      <td>0.948</td>\n",
              "    </tr>\n",
              "    <tr>\n",
              "      <th>13</th>\n",
              "      <td>140</td>\n",
              "      <td>1.000</td>\n",
              "      <td>0.948</td>\n",
              "    </tr>\n",
              "    <tr>\n",
              "      <th>14</th>\n",
              "      <td>150</td>\n",
              "      <td>1.000</td>\n",
              "      <td>0.948</td>\n",
              "    </tr>\n",
              "    <tr>\n",
              "      <th>15</th>\n",
              "      <td>160</td>\n",
              "      <td>1.000</td>\n",
              "      <td>0.944</td>\n",
              "    </tr>\n",
              "    <tr>\n",
              "      <th>16</th>\n",
              "      <td>170</td>\n",
              "      <td>1.000</td>\n",
              "      <td>0.944</td>\n",
              "    </tr>\n",
              "    <tr>\n",
              "      <th>17</th>\n",
              "      <td>180</td>\n",
              "      <td>1.000</td>\n",
              "      <td>0.944</td>\n",
              "    </tr>\n",
              "    <tr>\n",
              "      <th>18</th>\n",
              "      <td>190</td>\n",
              "      <td>1.000</td>\n",
              "      <td>0.948</td>\n",
              "    </tr>\n",
              "  </tbody>\n",
              "</table>\n",
              "</div>\n",
              "      <button class=\"colab-df-convert\" onclick=\"convertToInteractive('df-3c13736d-a194-46af-a55d-36cfe2c63f06')\"\n",
              "              title=\"Convert this dataframe to an interactive table.\"\n",
              "              style=\"display:none;\">\n",
              "        \n",
              "  <svg xmlns=\"http://www.w3.org/2000/svg\" height=\"24px\"viewBox=\"0 0 24 24\"\n",
              "       width=\"24px\">\n",
              "    <path d=\"M0 0h24v24H0V0z\" fill=\"none\"/>\n",
              "    <path d=\"M18.56 5.44l.94 2.06.94-2.06 2.06-.94-2.06-.94-.94-2.06-.94 2.06-2.06.94zm-11 1L8.5 8.5l.94-2.06 2.06-.94-2.06-.94L8.5 2.5l-.94 2.06-2.06.94zm10 10l.94 2.06.94-2.06 2.06-.94-2.06-.94-.94-2.06-.94 2.06-2.06.94z\"/><path d=\"M17.41 7.96l-1.37-1.37c-.4-.4-.92-.59-1.43-.59-.52 0-1.04.2-1.43.59L10.3 9.45l-7.72 7.72c-.78.78-.78 2.05 0 2.83L4 21.41c.39.39.9.59 1.41.59.51 0 1.02-.2 1.41-.59l7.78-7.78 2.81-2.81c.8-.78.8-2.07 0-2.86zM5.41 20L4 18.59l7.72-7.72 1.47 1.35L5.41 20z\"/>\n",
              "  </svg>\n",
              "      </button>\n",
              "      \n",
              "  <style>\n",
              "    .colab-df-container {\n",
              "      display:flex;\n",
              "      flex-wrap:wrap;\n",
              "      gap: 12px;\n",
              "    }\n",
              "\n",
              "    .colab-df-convert {\n",
              "      background-color: #E8F0FE;\n",
              "      border: none;\n",
              "      border-radius: 50%;\n",
              "      cursor: pointer;\n",
              "      display: none;\n",
              "      fill: #1967D2;\n",
              "      height: 32px;\n",
              "      padding: 0 0 0 0;\n",
              "      width: 32px;\n",
              "    }\n",
              "\n",
              "    .colab-df-convert:hover {\n",
              "      background-color: #E2EBFA;\n",
              "      box-shadow: 0px 1px 2px rgba(60, 64, 67, 0.3), 0px 1px 3px 1px rgba(60, 64, 67, 0.15);\n",
              "      fill: #174EA6;\n",
              "    }\n",
              "\n",
              "    [theme=dark] .colab-df-convert {\n",
              "      background-color: #3B4455;\n",
              "      fill: #D2E3FC;\n",
              "    }\n",
              "\n",
              "    [theme=dark] .colab-df-convert:hover {\n",
              "      background-color: #434B5C;\n",
              "      box-shadow: 0px 1px 3px 1px rgba(0, 0, 0, 0.15);\n",
              "      filter: drop-shadow(0px 1px 2px rgba(0, 0, 0, 0.3));\n",
              "      fill: #FFFFFF;\n",
              "    }\n",
              "  </style>\n",
              "\n",
              "      <script>\n",
              "        const buttonEl =\n",
              "          document.querySelector('#df-3c13736d-a194-46af-a55d-36cfe2c63f06 button.colab-df-convert');\n",
              "        buttonEl.style.display =\n",
              "          google.colab.kernel.accessAllowed ? 'block' : 'none';\n",
              "\n",
              "        async function convertToInteractive(key) {\n",
              "          const element = document.querySelector('#df-3c13736d-a194-46af-a55d-36cfe2c63f06');\n",
              "          const dataTable =\n",
              "            await google.colab.kernel.invokeFunction('convertToInteractive',\n",
              "                                                     [key], {});\n",
              "          if (!dataTable) return;\n",
              "\n",
              "          const docLinkHtml = 'Like what you see? Visit the ' +\n",
              "            '<a target=\"_blank\" href=https://colab.research.google.com/notebooks/data_table.ipynb>data table notebook</a>'\n",
              "            + ' to learn more about interactive tables.';\n",
              "          element.innerHTML = '';\n",
              "          dataTable['output_type'] = 'display_data';\n",
              "          await google.colab.output.renderOutput(dataTable, element);\n",
              "          const docLink = document.createElement('div');\n",
              "          docLink.innerHTML = docLinkHtml;\n",
              "          element.appendChild(docLink);\n",
              "        }\n",
              "      </script>\n",
              "    </div>\n",
              "  </div>\n",
              "  "
            ]
          },
          "metadata": {},
          "execution_count": 65
        }
      ],
      "source": [
        "train_acc = []\n",
        "test_acc = []\n",
        "\n",
        "n_estimators = [n_estimators * 10 for n_estimators in range(1,20)]\n",
        "\n",
        "for v_n_tree in n_estimators:\n",
        "    rf_n_tree = RandomForestClassifier(random_state = random, n_estimators = v_n_tree)\n",
        "    rf_n_tree.fit(df_train_x, df_train_y)\n",
        "    train_acc.append(rf_n_tree.score(df_train_x, df_train_y))\n",
        "    test_acc.append(rf_n_tree.score(df_test_x, df_test_y))\n",
        "\n",
        "# 결과 저장\n",
        "rf_acc_n_tree = pd.DataFrame()\n",
        "rf_acc_n_tree[\"MinSampleLeaf\"] = n_estimators\n",
        "rf_acc_n_tree[\"TrainScore\"] = train_acc\n",
        "rf_acc_n_tree[\"TestScore\"] = test_acc\n",
        "\n",
        "rf_acc_n_tree.round(3)"
      ]
    },
    {
      "cell_type": "code",
      "execution_count": 66,
      "id": "ad30a388",
      "metadata": {
        "collapsed": true,
        "colab": {
          "base_uri": "https://localhost:8080/",
          "height": 283
        },
        "id": "ad30a388",
        "outputId": "6ba315f1-d10c-4ebd-9900-665a25e4a2fb"
      },
      "outputs": [
        {
          "output_type": "execute_result",
          "data": {
            "text/plain": [
              "<matplotlib.legend.Legend at 0x7f52e6794730>"
            ]
          },
          "metadata": {},
          "execution_count": 66
        },
        {
          "output_type": "display_data",
          "data": {
            "text/plain": [
              "<Figure size 432x288 with 1 Axes>"
            ],
            "image/png": "[encoded data removed]"
          },
          "metadata": {
            "needs_background": "light"
          }
        }
      ],
      "source": [
        "# 그래프\n",
        "plt.plot(n_estimators, train_acc, linestyle = \"-\", label = \"TrainAccuracy\")\n",
        "plt.plot(n_estimators, test_acc, linestyle = \"--\", label = \"TestAccuracy\")\n",
        "plt.legend()"
      ]
    },
    {
      "cell_type": "code",
      "execution_count": 67,
      "id": "7218f864",
      "metadata": {
        "colab": {
          "base_uri": "https://localhost:8080/",
          "height": 298
        },
        "id": "7218f864",
        "outputId": "b4da2482-b444-4c45-a1ac-bc6c1042ed87"
      },
      "outputs": [
        {
          "output_type": "execute_result",
          "data": {
            "text/plain": [
              "Text(0.5, 0, 'n_estimators')"
            ]
          },
          "metadata": {},
          "execution_count": 67
        },
        {
          "output_type": "display_data",
          "data": {
            "text/plain": [
              "<Figure size 432x288 with 1 Axes>"
            ],
            "image/png": "[encoded data removed]"
          },
          "metadata": {
            "needs_background": "light"
          }
        }
      ],
      "source": [
        "oob_error = []\n",
        "for v_n_tree in range(1,181):\n",
        "    rf = RandomForestClassifier(random_state = random, n_estimators = v_n_tree, oob_score = True)\n",
        "    rf.fit(df_train_x, df_train_y)\n",
        "    oob_error.append(1 - rf.oob_score_)\n",
        "    \n",
        "plt.plot(range(1,181), oob_error)\n",
        "plt.ylabel(\"oob error\")\n",
        "plt.xlabel(\"n_estimators\")"
      ]
    },
    {
      "cell_type": "code",
      "execution_count": 68,
      "id": "097e19af",
      "metadata": {
        "colab": {
          "base_uri": "https://localhost:8080/",
          "height": 363
        },
        "id": "097e19af",
        "outputId": "00c501a2-6bdf-4587-de10-c0dc05e3ebc4"
      },
      "outputs": [
        {
          "output_type": "execute_result",
          "data": {
            "text/plain": [
              "   MinSampleLeaf  TrainScore  TestScore\n",
              "0              1       0.874      0.850\n",
              "1              2       0.899      0.871\n",
              "2              3       0.939      0.885\n",
              "3              4       0.960      0.892\n",
              "4              5       0.979      0.913\n",
              "5              6       0.979      0.927\n",
              "6              7       0.981      0.944\n",
              "7              8       0.995      0.948\n",
              "8              9       0.995      0.948\n",
              "9             10       0.998      0.944"
            ],
            "text/html": [
              "\n",
              "  <div id=\"df-be478bf4-dd46-4374-b6b0-e0f107e6d3aa\">\n",
              "    <div class=\"colab-df-container\">\n",
              "      <div>\n",
              "<style scoped>\n",
              "    .dataframe tbody tr th:only-of-type {\n",
              "        vertical-align: middle;\n",
              "    }\n",
              "\n",
              "    .dataframe tbody tr th {\n",
              "        vertical-align: top;\n",
              "    }\n",
              "\n",
              "    .dataframe thead th {\n",
              "        text-align: right;\n",
              "    }\n",
              "</style>\n",
              "<table border=\"1\" class=\"dataframe\">\n",
              "  <thead>\n",
              "    <tr style=\"text-align: right;\">\n",
              "      <th></th>\n",
              "      <th>MinSampleLeaf</th>\n",
              "      <th>TrainScore</th>\n",
              "      <th>TestScore</th>\n",
              "    </tr>\n",
              "  </thead>\n",
              "  <tbody>\n",
              "    <tr>\n",
              "      <th>0</th>\n",
              "      <td>1</td>\n",
              "      <td>0.874</td>\n",
              "      <td>0.850</td>\n",
              "    </tr>\n",
              "    <tr>\n",
              "      <th>1</th>\n",
              "      <td>2</td>\n",
              "      <td>0.899</td>\n",
              "      <td>0.871</td>\n",
              "    </tr>\n",
              "    <tr>\n",
              "      <th>2</th>\n",
              "      <td>3</td>\n",
              "      <td>0.939</td>\n",
              "      <td>0.885</td>\n",
              "    </tr>\n",
              "    <tr>\n",
              "      <th>3</th>\n",
              "      <td>4</td>\n",
              "      <td>0.960</td>\n",
              "      <td>0.892</td>\n",
              "    </tr>\n",
              "    <tr>\n",
              "      <th>4</th>\n",
              "      <td>5</td>\n",
              "      <td>0.979</td>\n",
              "      <td>0.913</td>\n",
              "    </tr>\n",
              "    <tr>\n",
              "      <th>5</th>\n",
              "      <td>6</td>\n",
              "      <td>0.979</td>\n",
              "      <td>0.927</td>\n",
              "    </tr>\n",
              "    <tr>\n",
              "      <th>6</th>\n",
              "      <td>7</td>\n",
              "      <td>0.981</td>\n",
              "      <td>0.944</td>\n",
              "    </tr>\n",
              "    <tr>\n",
              "      <th>7</th>\n",
              "      <td>8</td>\n",
              "      <td>0.995</td>\n",
              "      <td>0.948</td>\n",
              "    </tr>\n",
              "    <tr>\n",
              "      <th>8</th>\n",
              "      <td>9</td>\n",
              "      <td>0.995</td>\n",
              "      <td>0.948</td>\n",
              "    </tr>\n",
              "    <tr>\n",
              "      <th>9</th>\n",
              "      <td>10</td>\n",
              "      <td>0.998</td>\n",
              "      <td>0.944</td>\n",
              "    </tr>\n",
              "  </tbody>\n",
              "</table>\n",
              "</div>\n",
              "      <button class=\"colab-df-convert\" onclick=\"convertToInteractive('df-be478bf4-dd46-4374-b6b0-e0f107e6d3aa')\"\n",
              "              title=\"Convert this dataframe to an interactive table.\"\n",
              "              style=\"display:none;\">\n",
              "        \n",
              "  <svg xmlns=\"http://www.w3.org/2000/svg\" height=\"24px\"viewBox=\"0 0 24 24\"\n",
              "       width=\"24px\">\n",
              "    <path d=\"M0 0h24v24H0V0z\" fill=\"none\"/>\n",
              "    <path d=\"M18.56 5.44l.94 2.06.94-2.06 2.06-.94-2.06-.94-.94-2.06-.94 2.06-2.06.94zm-11 1L8.5 8.5l.94-2.06 2.06-.94-2.06-.94L8.5 2.5l-.94 2.06-2.06.94zm10 10l.94 2.06.94-2.06 2.06-.94-2.06-.94-.94-2.06-.94 2.06-2.06.94z\"/><path d=\"M17.41 7.96l-1.37-1.37c-.4-.4-.92-.59-1.43-.59-.52 0-1.04.2-1.43.59L10.3 9.45l-7.72 7.72c-.78.78-.78 2.05 0 2.83L4 21.41c.39.39.9.59 1.41.59.51 0 1.02-.2 1.41-.59l7.78-7.78 2.81-2.81c.8-.78.8-2.07 0-2.86zM5.41 20L4 18.59l7.72-7.72 1.47 1.35L5.41 20z\"/>\n",
              "  </svg>\n",
              "      </button>\n",
              "      \n",
              "  <style>\n",
              "    .colab-df-container {\n",
              "      display:flex;\n",
              "      flex-wrap:wrap;\n",
              "      gap: 12px;\n",
              "    }\n",
              "\n",
              "    .colab-df-convert {\n",
              "      background-color: #E8F0FE;\n",
              "      border: none;\n",
              "      border-radius: 50%;\n",
              "      cursor: pointer;\n",
              "      display: none;\n",
              "      fill: #1967D2;\n",
              "      height: 32px;\n",
              "      padding: 0 0 0 0;\n",
              "      width: 32px;\n",
              "    }\n",
              "\n",
              "    .colab-df-convert:hover {\n",
              "      background-color: #E2EBFA;\n",
              "      box-shadow: 0px 1px 2px rgba(60, 64, 67, 0.3), 0px 1px 3px 1px rgba(60, 64, 67, 0.15);\n",
              "      fill: #174EA6;\n",
              "    }\n",
              "\n",
              "    [theme=dark] .colab-df-convert {\n",
              "      background-color: #3B4455;\n",
              "      fill: #D2E3FC;\n",
              "    }\n",
              "\n",
              "    [theme=dark] .colab-df-convert:hover {\n",
              "      background-color: #434B5C;\n",
              "      box-shadow: 0px 1px 3px 1px rgba(0, 0, 0, 0.15);\n",
              "      filter: drop-shadow(0px 1px 2px rgba(0, 0, 0, 0.3));\n",
              "      fill: #FFFFFF;\n",
              "    }\n",
              "  </style>\n",
              "\n",
              "      <script>\n",
              "        const buttonEl =\n",
              "          document.querySelector('#df-be478bf4-dd46-4374-b6b0-e0f107e6d3aa button.colab-df-convert');\n",
              "        buttonEl.style.display =\n",
              "          google.colab.kernel.accessAllowed ? 'block' : 'none';\n",
              "\n",
              "        async function convertToInteractive(key) {\n",
              "          const element = document.querySelector('#df-be478bf4-dd46-4374-b6b0-e0f107e6d3aa');\n",
              "          const dataTable =\n",
              "            await google.colab.kernel.invokeFunction('convertToInteractive',\n",
              "                                                     [key], {});\n",
              "          if (!dataTable) return;\n",
              "\n",
              "          const docLinkHtml = 'Like what you see? Visit the ' +\n",
              "            '<a target=\"_blank\" href=https://colab.research.google.com/notebooks/data_table.ipynb>data table notebook</a>'\n",
              "            + ' to learn more about interactive tables.';\n",
              "          element.innerHTML = '';\n",
              "          dataTable['output_type'] = 'display_data';\n",
              "          await google.colab.output.renderOutput(dataTable, element);\n",
              "          const docLink = document.createElement('div');\n",
              "          docLink.innerHTML = docLinkHtml;\n",
              "          element.appendChild(docLink);\n",
              "        }\n",
              "      </script>\n",
              "    </div>\n",
              "  </div>\n",
              "  "
            ]
          },
          "metadata": {},
          "execution_count": 68
        }
      ],
      "source": [
        "# Tree 수 지정\n",
        "n_tree = 120\n",
        "train_acc = []\n",
        "test_acc = []\n",
        "\n",
        "para_depth = [depth for depth in range(1,11)]\n",
        "\n",
        "for v_max_depth in para_depth:\n",
        "    rf_max_depth = RandomForestClassifier(random_state = random, max_depth = v_max_depth, n_estimators = n_tree)\n",
        "    rf_max_depth.fit(df_train_x, df_train_y)\n",
        "    train_acc.append(rf_max_depth.score(df_train_x, df_train_y))\n",
        "    test_acc.append(rf_max_depth.score(df_test_x, df_test_y))\n",
        "\n",
        "# 결과 저장\n",
        "rf_acc_max_depth = pd.DataFrame()\n",
        "rf_acc_max_depth[\"MinSampleLeaf\"] = para_depth\n",
        "rf_acc_max_depth[\"TrainScore\"] = train_acc\n",
        "rf_acc_max_depth[\"TestScore\"] = test_acc\n",
        "\n",
        "rf_acc_max_depth.round(3)"
      ]
    },
    {
      "cell_type": "code",
      "execution_count": 69,
      "id": "8dce10a3",
      "metadata": {
        "colab": {
          "base_uri": "https://localhost:8080/",
          "height": 265
        },
        "id": "8dce10a3",
        "outputId": "005f2b0a-5fdf-402b-8797-a190b23656d3"
      },
      "outputs": [
        {
          "output_type": "display_data",
          "data": {
            "text/plain": [
              "<Figure size 432x288 with 1 Axes>"
            ],
            "image/png": "[encoded data removed]"
          },
          "metadata": {
            "needs_background": "light"
          }
        }
      ],
      "source": [
        "# 그래프\n",
        "plt.plot(para_depth, train_acc, linestyle = \"-\", label = \"TrainAccuracy\")\n",
        "plt.plot(para_depth, test_acc, linestyle = \"--\", label = \"TestAccuracy\")\n",
        "plt.legend()\n",
        "\n",
        "# Max_depth 설정\n",
        "max_depth = 8"
      ]
    },
    {
      "cell_type": "code",
      "execution_count": 70,
      "id": "b04fb953",
      "metadata": {
        "colab": {
          "base_uri": "https://localhost:8080/",
          "height": 286
        },
        "id": "b04fb953",
        "outputId": "425bb4d4-85ca-4470-e946-a6b64ed33b67"
      },
      "outputs": [
        {
          "output_type": "execute_result",
          "data": {
            "text/plain": [
              "<matplotlib.legend.Legend at 0x7f52e0130e80>"
            ]
          },
          "metadata": {},
          "execution_count": 70
        },
        {
          "output_type": "display_data",
          "data": {
            "text/plain": [
              "<Figure size 432x288 with 1 Axes>"
            ],
            "image/png": "[encoded data removed]"
          },
          "metadata": {
            "needs_background": "light"
          }
        }
      ],
      "source": [
        "train_acc = []\n",
        "test_acc = []\n",
        "\n",
        "para_leaf = [n_leaf * 2 for n_leaf in range(1,16)]\n",
        "\n",
        "for v_para_leaf in para_leaf:\n",
        "    rf_leaf = RandomForestClassifier(random_state = random, max_depth = max_depth , min_samples_split = n_split)\n",
        "    rf_leaf.fit(df_train_x, df_train_y)\n",
        "    train_acc.append(rf_leaf.score(df_train_x, df_train_y))\n",
        "    test_acc.append(rf_leaf.score(df_test_x, df_test_y))\n",
        "\n",
        "# 결과 저장\n",
        "rf_acc_leaf = pd.DataFrame()\n",
        "rf_acc_leaf[\"MinSampleLeaf\"] = para_leaf\n",
        "rf_acc_leaf[\"TrainScore\"] = train_acc\n",
        "rf_acc_leaf[\"TestScore\"] = test_acc\n",
        "\n",
        "rf_acc_leaf.round(3)\n",
        "\n",
        "# 그래프\n",
        "plt.plot(para_leaf, train_acc, linestyle = \"-\", label = \"TrainAccuracy\")\n",
        "plt.plot(para_leaf, test_acc, linestyle = \"--\", label = \"TestAccuracy\")\n",
        "plt.legend()"
      ]
    },
    {
      "cell_type": "code",
      "execution_count": 71,
      "id": "b36758f7",
      "metadata": {
        "colab": {
          "base_uri": "https://localhost:8080/",
          "height": 265
        },
        "id": "b36758f7",
        "outputId": "8ea28814-c2f5-40bc-d533-4d95508d5012"
      },
      "outputs": [
        {
          "output_type": "display_data",
          "data": {
            "text/plain": [
              "<Figure size 432x288 with 1 Axes>"
            ],
            "image/png": "[encoded data removed]"
          },
          "metadata": {
            "needs_background": "light"
          }
        }
      ],
      "source": [
        "train_acc = []\n",
        "test_acc = []\n",
        "\n",
        "para_split = [n_split * 10 for n_split in range(2,11)]\n",
        "\n",
        "for v_para_split in para_split:\n",
        "    rf_split = RandomForestClassifier(n_estimators = n_tree, random_state = random, \n",
        "                                      max_depth = max_depth , min_samples_split = v_para_split)\n",
        "    rf_split.fit(df_train_x, df_train_y)\n",
        "    train_acc.append(rf_split.score(df_train_x, df_train_y))\n",
        "    test_acc.append(rf_split.score(df_test_x, df_test_y))\n",
        "\n",
        "# 결과 저장\n",
        "rf_acc_split = pd.DataFrame()\n",
        "rf_acc_split[\"MinSampleLeaf\"] = para_split\n",
        "rf_acc_split[\"TrainScore\"] = train_acc\n",
        "rf_acc_split[\"TestScore\"] = test_acc\n",
        "\n",
        "rf_acc_split.round(3)\n",
        "\n",
        "# 그래프\n",
        "plt.plot(para_split, train_acc, linestyle = \"-\", label = \"TrainAccuracy\")\n",
        "plt.plot(para_split, test_acc, linestyle = \"--\", label = \"TestAccuracy\")\n",
        "plt.legend()\n",
        "\n",
        "n_split = 60"
      ]
    },
    {
      "cell_type": "code",
      "execution_count": 71,
      "id": "5a3084ee",
      "metadata": {
        "id": "5a3084ee"
      },
      "outputs": [],
      "source": []
    },
    {
      "cell_type": "code",
      "execution_count": 72,
      "id": "6cb7b55e",
      "metadata": {
        "colab": {
          "base_uri": "https://localhost:8080/",
          "height": 92
        },
        "id": "6cb7b55e",
        "outputId": "475255f8-09ca-4d39-e598-e0f93ba9c77e"
      },
      "outputs": [
        {
          "output_type": "execute_result",
          "data": {
            "text/plain": [
              "RandomForestClassifier(max_depth=8, min_samples_leaf=8, min_samples_split=32,\n",
              "                       n_estimators=120, random_state=100)"
            ],
            "text/html": [
              "<style>#sk-container-id-1 {color: black;background-color: white;}#sk-container-id-1 pre{padding: 0;}#sk-container-id-1 div.sk-toggleable {background-color: white;}#sk-container-id-1 label.sk-toggleable__label {cursor: pointer;display: block;width: 100%;margin-bottom: 0;padding: 0.3em;box-sizing: border-box;text-align: center;}#sk-container-id-1 label.sk-toggleable__label-arrow:before {content: \"▸\";float: left;margin-right: 0.25em;color: #696969;}#sk-container-id-1 label.sk-toggleable__label-arrow:hover:before {color: black;}#sk-container-id-1 div.sk-estimator:hover label.sk-toggleable__label-arrow:before {color: black;}#sk-container-id-1 div.sk-toggleable__content {max-height: 0;max-width: 0;overflow: hidden;text-align: left;background-color: #f0f8ff;}#sk-container-id-1 div.sk-toggleable__content pre {margin: 0.2em;color: black;border-radius: 0.25em;background-color: #f0f8ff;}#sk-container-id-1 input.sk-toggleable__control:checked~div.sk-toggleable__content {max-height: 200px;max-width: 100%;overflow: auto;}#sk-container-id-1 input.sk-toggleable__control:checked~label.sk-toggleable__label-arrow:before {content: \"▾\";}#sk-container-id-1 div.sk-estimator input.sk-toggleable__control:checked~label.sk-toggleable__label {background-color: #d4ebff;}#sk-container-id-1 div.sk-label input.sk-toggleable__control:checked~label.sk-toggleable__label {background-color: #d4ebff;}#sk-container-id-1 input.sk-hidden--visually {border: 0;clip: rect(1px 1px 1px 1px);clip: rect(1px, 1px, 1px, 1px);height: 1px;margin: -1px;overflow: hidden;padding: 0;position: absolute;width: 1px;}#sk-container-id-1 div.sk-estimator {font-family: monospace;background-color: #f0f8ff;border: 1px dotted black;border-radius: 0.25em;box-sizing: border-box;margin-bottom: 0.5em;}#sk-container-id-1 div.sk-estimator:hover {background-color: #d4ebff;}#sk-container-id-1 div.sk-parallel-item::after {content: \"\";width: 100%;border-bottom: 1px solid gray;flex-grow: 1;}#sk-container-id-1 div.sk-label:hover label.sk-toggleable__label {background-color: #d4ebff;}#sk-container-id-1 div.sk-serial::before {content: \"\";position: absolute;border-left: 1px solid gray;box-sizing: border-box;top: 0;bottom: 0;left: 50%;z-index: 0;}#sk-container-id-1 div.sk-serial {display: flex;flex-direction: column;align-items: center;background-color: white;padding-right: 0.2em;padding-left: 0.2em;position: relative;}#sk-container-id-1 div.sk-item {position: relative;z-index: 1;}#sk-container-id-1 div.sk-parallel {display: flex;align-items: stretch;justify-content: center;background-color: white;position: relative;}#sk-container-id-1 div.sk-item::before, #sk-container-id-1 div.sk-parallel-item::before {content: \"\";position: absolute;border-left: 1px solid gray;box-sizing: border-box;top: 0;bottom: 0;left: 50%;z-index: -1;}#sk-container-id-1 div.sk-parallel-item {display: flex;flex-direction: column;z-index: 1;position: relative;background-color: white;}#sk-container-id-1 div.sk-parallel-item:first-child::after {align-self: flex-end;width: 50%;}#sk-container-id-1 div.sk-parallel-item:last-child::after {align-self: flex-start;width: 50%;}#sk-container-id-1 div.sk-parallel-item:only-child::after {width: 0;}#sk-container-id-1 div.sk-dashed-wrapped {border: 1px dashed gray;margin: 0 0.4em 0.5em 0.4em;box-sizing: border-box;padding-bottom: 0.4em;background-color: white;}#sk-container-id-1 div.sk-label label {font-family: monospace;font-weight: bold;display: inline-block;line-height: 1.2em;}#sk-container-id-1 div.sk-label-container {text-align: center;}#sk-container-id-1 div.sk-container {/* jupyter's `normalize.less` sets `[hidden] { display: none; }` but bootstrap.min.css set `[hidden] { display: none !important; }` so we also need the `!important` here to be able to override the default hidden behavior on the sphinx rendered scikit-learn.org. See: https://github.com/scikit-learn/scikit-learn/issues/21755 */display: inline-block !important;position: relative;}#sk-container-id-1 div.sk-text-repr-fallback {display: none;}</style><div id=\"sk-container-id-1\" class=\"sk-top-container\"><div class=\"sk-text-repr-fallback\"><pre>RandomForestClassifier(max_depth=8, min_samples_leaf=8, min_samples_split=32,\n",
              "                       n_estimators=120, random_state=100)</pre><b>In a Jupyter environment, please rerun this cell to show the HTML representation or trust the notebook. <br />On GitHub, the HTML representation is unable to render, please try loading this page with nbviewer.org.</b></div><div class=\"sk-container\" hidden><div class=\"sk-item\"><div class=\"sk-estimator sk-toggleable\"><input class=\"sk-toggleable__control sk-hidden--visually\" id=\"sk-estimator-id-1\" type=\"checkbox\" checked><label for=\"sk-estimator-id-1\" class=\"sk-toggleable__label sk-toggleable__label-arrow\">RandomForestClassifier</label><div class=\"sk-toggleable__content\"><pre>RandomForestClassifier(max_depth=8, min_samples_leaf=8, min_samples_split=32,\n",
              "                       n_estimators=120, random_state=100)</pre></div></div></div></div></div>"
            ]
          },
          "metadata": {},
          "execution_count": 72
        }
      ],
      "source": [
        "rf_final = RandomForestClassifier(random_state = 100, min_samples_leaf = 8, min_samples_split = 32, max_depth = 8, n_estimators = 120)\n",
        "rf_final.fit(df_train_x, df_train_y)"
      ]
    },
    {
      "cell_type": "code",
      "execution_count": 73,
      "id": "1b30494a",
      "metadata": {
        "colab": {
          "base_uri": "https://localhost:8080/"
        },
        "id": "1b30494a",
        "outputId": "a25a85ab-566b-4810-a513-acc3e99acf60"
      },
      "outputs": [
        {
          "output_type": "stream",
          "name": "stdout",
          "text": [
            "Score_train : 0.9414519906323185\n",
            "Score_test : 0.8846153846153846\n"
          ]
        }
      ],
      "source": [
        "rf_final = RandomForestClassifier(random_state = 100, min_samples_leaf = 8, min_samples_split = 20, max_depth = 8, n_estimators = 120)\n",
        "rf_final.fit(df_train_x, df_train_y)\n",
        "\n",
        "print(\"Score_train : {0}\".format(rf_final.score(df_train_x, df_train_y)))\n",
        "print(\"Score_test : {0}\".format(rf_final.score(df_test_x, df_test_y)))"
      ]
    },
    {
      "cell_type": "code",
      "execution_count": 149,
      "id": "a12f54bf",
      "metadata": {
        "colab": {
          "base_uri": "https://localhost:8080/"
        },
        "id": "a12f54bf",
        "outputId": "5bd35993-f351-4b12-9abc-e02919b68fba"
      },
      "outputs": [
        {
          "output_type": "stream",
          "name": "stdout",
          "text": [
            "Accuracy: 0.663\n",
            "\n",
            "Confusion matrix: \n",
            "[[188   2]\n",
            " [ 95   3]]\n",
            "              precision    recall  f1-score   support\n",
            "\n",
            "           0      0.664     0.989     0.795       190\n",
            "           1      0.600     0.031     0.058        98\n",
            "\n",
            "    accuracy                          0.663       288\n",
            "   macro avg      0.632     0.510     0.427       288\n",
            "weighted avg      0.642     0.663     0.544       288\n",
            "\n"
          ]
        }
      ],
      "source": [
        "# Model Predict\n",
        "rf_finally = RandomForestClassifier(random_state = 100, min_samples_leaf = 20, min_samples_split = 60, max_depth = 5)\n",
        "rf_finally.fit(df_train_x,df_train_y)\n",
        "y_pred_rf = rf_finally.predict(df_test_x)\n",
        "print(\"Accuracy: {0:.3f}\\n\".format(rf_finally.score(df_test_x,df_test_y)))\n",
        "print(\"Confusion matrix: \\n{0}\".format(confusion_matrix(df_test_y, y_pred_rf)))\n",
        "print(classification_report(df_test_y, y_pred_rf, digits=3))"
      ]
    },
    {
      "cell_type": "markdown",
      "id": "457c246e",
      "metadata": {
        "id": "457c246e"
      },
      "source": [
        "### Feature Importance"
      ]
    },
    {
      "cell_type": "code",
      "execution_count": 75,
      "id": "6b49ee0e",
      "metadata": {
        "colab": {
          "base_uri": "https://localhost:8080/",
          "height": 297
        },
        "id": "6b49ee0e",
        "outputId": "c9a69022-4f7f-434a-dab8-987cd38a2e92"
      },
      "outputs": [
        {
          "output_type": "execute_result",
          "data": {
            "text/plain": [
              "Text(0, 0.5, '변수')"
            ]
          },
          "metadata": {},
          "execution_count": 75
        },
        {
          "output_type": "display_data",
          "data": {
            "text/plain": [
              "<Figure size 432x288 with 1 Axes>"
            ],
            "image/png": "[encoded data removed]"
          },
          "metadata": {
            "needs_background": "light"
          }
        }
      ],
      "source": [
        "rf_importance = pd.DataFrame()\n",
        "rf_importance[\"Feature\"] = v_feature_name\n",
        "rf_importance[\"importance\"] = rf_final.feature_importances_\n",
        "\n",
        "# Importance 별로 정렬\n",
        "rf_importance.sort_values('importance', ascending = False, inplace = True)\n",
        "rf_importance.round(3)\n",
        "\n",
        "# 그래프 도식화\n",
        "rf_importance.sort_values('importance', ascending = True, inplace = True)\n",
        "coordinates = range(len(df_importance))\n",
        "plt.barh(y = coordinates, width = rf_importance['importance'])\n",
        "plt.yticks(coordinates, rf_importance['Feature'])\n",
        "plt.xlabel(\"변수 중요도\")\n",
        "plt.ylabel(\"변수\")"
      ]
    },
    {
      "cell_type": "markdown",
      "id": "49deb936",
      "metadata": {
        "id": "49deb936"
      },
      "source": [
        "## GB"
      ]
    },
    {
      "cell_type": "code",
      "execution_count": 76,
      "id": "b5eec856",
      "metadata": {
        "id": "b5eec856"
      },
      "outputs": [],
      "source": [
        "from sklearn.ensemble import GradientBoostingClassifier"
      ]
    },
    {
      "cell_type": "code",
      "execution_count": 77,
      "id": "61fb1ce0",
      "metadata": {
        "colab": {
          "base_uri": "https://localhost:8080/",
          "height": 332
        },
        "id": "61fb1ce0",
        "outputId": "28f20256-3f36-408d-cb10-526323aced32"
      },
      "outputs": [
        {
          "output_type": "execute_result",
          "data": {
            "text/plain": [
              "   LearningRate  TrainAccuracy  TestAccuracy\n",
              "0           0.1            1.0         0.976\n",
              "1           0.2            1.0         0.976\n",
              "2           0.3            1.0         0.979\n",
              "3           0.4            1.0         0.986\n",
              "4           0.5            1.0         0.986\n",
              "5           0.6            1.0         0.983\n",
              "6           0.7            1.0         0.983\n",
              "7           0.8            1.0         0.958\n",
              "8           0.9            1.0         0.951"
            ],
            "text/html": [
              "\n",
              "  <div id=\"df-109dce2b-9087-4142-9a9c-0526f69d5e51\">\n",
              "    <div class=\"colab-df-container\">\n",
              "      <div>\n",
              "<style scoped>\n",
              "    .dataframe tbody tr th:only-of-type {\n",
              "        vertical-align: middle;\n",
              "    }\n",
              "\n",
              "    .dataframe tbody tr th {\n",
              "        vertical-align: top;\n",
              "    }\n",
              "\n",
              "    .dataframe thead th {\n",
              "        text-align: right;\n",
              "    }\n",
              "</style>\n",
              "<table border=\"1\" class=\"dataframe\">\n",
              "  <thead>\n",
              "    <tr style=\"text-align: right;\">\n",
              "      <th></th>\n",
              "      <th>LearningRate</th>\n",
              "      <th>TrainAccuracy</th>\n",
              "      <th>TestAccuracy</th>\n",
              "    </tr>\n",
              "  </thead>\n",
              "  <tbody>\n",
              "    <tr>\n",
              "      <th>0</th>\n",
              "      <td>0.1</td>\n",
              "      <td>1.0</td>\n",
              "      <td>0.976</td>\n",
              "    </tr>\n",
              "    <tr>\n",
              "      <th>1</th>\n",
              "      <td>0.2</td>\n",
              "      <td>1.0</td>\n",
              "      <td>0.976</td>\n",
              "    </tr>\n",
              "    <tr>\n",
              "      <th>2</th>\n",
              "      <td>0.3</td>\n",
              "      <td>1.0</td>\n",
              "      <td>0.979</td>\n",
              "    </tr>\n",
              "    <tr>\n",
              "      <th>3</th>\n",
              "      <td>0.4</td>\n",
              "      <td>1.0</td>\n",
              "      <td>0.986</td>\n",
              "    </tr>\n",
              "    <tr>\n",
              "      <th>4</th>\n",
              "      <td>0.5</td>\n",
              "      <td>1.0</td>\n",
              "      <td>0.986</td>\n",
              "    </tr>\n",
              "    <tr>\n",
              "      <th>5</th>\n",
              "      <td>0.6</td>\n",
              "      <td>1.0</td>\n",
              "      <td>0.983</td>\n",
              "    </tr>\n",
              "    <tr>\n",
              "      <th>6</th>\n",
              "      <td>0.7</td>\n",
              "      <td>1.0</td>\n",
              "      <td>0.983</td>\n",
              "    </tr>\n",
              "    <tr>\n",
              "      <th>7</th>\n",
              "      <td>0.8</td>\n",
              "      <td>1.0</td>\n",
              "      <td>0.958</td>\n",
              "    </tr>\n",
              "    <tr>\n",
              "      <th>8</th>\n",
              "      <td>0.9</td>\n",
              "      <td>1.0</td>\n",
              "      <td>0.951</td>\n",
              "    </tr>\n",
              "  </tbody>\n",
              "</table>\n",
              "</div>\n",
              "      <button class=\"colab-df-convert\" onclick=\"convertToInteractive('df-109dce2b-9087-4142-9a9c-0526f69d5e51')\"\n",
              "              title=\"Convert this dataframe to an interactive table.\"\n",
              "              style=\"display:none;\">\n",
              "        \n",
              "  <svg xmlns=\"http://www.w3.org/2000/svg\" height=\"24px\"viewBox=\"0 0 24 24\"\n",
              "       width=\"24px\">\n",
              "    <path d=\"M0 0h24v24H0V0z\" fill=\"none\"/>\n",
              "    <path d=\"M18.56 5.44l.94 2.06.94-2.06 2.06-.94-2.06-.94-.94-2.06-.94 2.06-2.06.94zm-11 1L8.5 8.5l.94-2.06 2.06-.94-2.06-.94L8.5 2.5l-.94 2.06-2.06.94zm10 10l.94 2.06.94-2.06 2.06-.94-2.06-.94-.94-2.06-.94 2.06-2.06.94z\"/><path d=\"M17.41 7.96l-1.37-1.37c-.4-.4-.92-.59-1.43-.59-.52 0-1.04.2-1.43.59L10.3 9.45l-7.72 7.72c-.78.78-.78 2.05 0 2.83L4 21.41c.39.39.9.59 1.41.59.51 0 1.02-.2 1.41-.59l7.78-7.78 2.81-2.81c.8-.78.8-2.07 0-2.86zM5.41 20L4 18.59l7.72-7.72 1.47 1.35L5.41 20z\"/>\n",
              "  </svg>\n",
              "      </button>\n",
              "      \n",
              "  <style>\n",
              "    .colab-df-container {\n",
              "      display:flex;\n",
              "      flex-wrap:wrap;\n",
              "      gap: 12px;\n",
              "    }\n",
              "\n",
              "    .colab-df-convert {\n",
              "      background-color: #E8F0FE;\n",
              "      border: none;\n",
              "      border-radius: 50%;\n",
              "      cursor: pointer;\n",
              "      display: none;\n",
              "      fill: #1967D2;\n",
              "      height: 32px;\n",
              "      padding: 0 0 0 0;\n",
              "      width: 32px;\n",
              "    }\n",
              "\n",
              "    .colab-df-convert:hover {\n",
              "      background-color: #E2EBFA;\n",
              "      box-shadow: 0px 1px 2px rgba(60, 64, 67, 0.3), 0px 1px 3px 1px rgba(60, 64, 67, 0.15);\n",
              "      fill: #174EA6;\n",
              "    }\n",
              "\n",
              "    [theme=dark] .colab-df-convert {\n",
              "      background-color: #3B4455;\n",
              "      fill: #D2E3FC;\n",
              "    }\n",
              "\n",
              "    [theme=dark] .colab-df-convert:hover {\n",
              "      background-color: #434B5C;\n",
              "      box-shadow: 0px 1px 3px 1px rgba(0, 0, 0, 0.15);\n",
              "      filter: drop-shadow(0px 1px 2px rgba(0, 0, 0, 0.3));\n",
              "      fill: #FFFFFF;\n",
              "    }\n",
              "  </style>\n",
              "\n",
              "      <script>\n",
              "        const buttonEl =\n",
              "          document.querySelector('#df-109dce2b-9087-4142-9a9c-0526f69d5e51 button.colab-df-convert');\n",
              "        buttonEl.style.display =\n",
              "          google.colab.kernel.accessAllowed ? 'block' : 'none';\n",
              "\n",
              "        async function convertToInteractive(key) {\n",
              "          const element = document.querySelector('#df-109dce2b-9087-4142-9a9c-0526f69d5e51');\n",
              "          const dataTable =\n",
              "            await google.colab.kernel.invokeFunction('convertToInteractive',\n",
              "                                                     [key], {});\n",
              "          if (!dataTable) return;\n",
              "\n",
              "          const docLinkHtml = 'Like what you see? Visit the ' +\n",
              "            '<a target=\"_blank\" href=https://colab.research.google.com/notebooks/data_table.ipynb>data table notebook</a>'\n",
              "            + ' to learn more about interactive tables.';\n",
              "          element.innerHTML = '';\n",
              "          dataTable['output_type'] = 'display_data';\n",
              "          await google.colab.output.renderOutput(dataTable, element);\n",
              "          const docLink = document.createElement('div');\n",
              "          docLink.innerHTML = docLinkHtml;\n",
              "          element.appendChild(docLink);\n",
              "        }\n",
              "      </script>\n",
              "    </div>\n",
              "  </div>\n",
              "  "
            ]
          },
          "metadata": {},
          "execution_count": 77
        }
      ],
      "source": [
        "# train, test 정확도 결과 저장용\n",
        "train_accuracy = []; test_accuracy = []; differance = []\n",
        "\n",
        "# 학습률 변경\n",
        "para_lr = [lr *0.1 for lr in range(1,10)]\n",
        "\n",
        "for v_learning_rate in para_lr:\n",
        "    gb = GradientBoostingClassifier(learning_rate = v_learning_rate, random_state = random)\n",
        "    gb.fit(df_train_x, df_train_y)\n",
        "    train_accuracy.append(gb.score(df_train_x, df_train_y))\n",
        "    test_accuracy.append(gb.score(df_test_x, df_test_y))\n",
        "    differance.append((gb.score(df_train_x, df_train_y)) - (gb.score(df_test_x, df_test_y)))\n",
        "    \n",
        "#데이텉 테이블로 저장\n",
        "df_accuracy_lr = pd.DataFrame()\n",
        "df_accuracy_lr['LearningRate'] = para_lr\n",
        "df_accuracy_lr['TrainAccuracy'] = train_accuracy\n",
        "df_accuracy_lr['TestAccuracy'] = test_accuracy\n",
        "\n",
        "df_accuracy_lr.round(3)"
      ]
    },
    {
      "cell_type": "code",
      "execution_count": 78,
      "id": "16891193",
      "metadata": {
        "colab": {
          "base_uri": "https://localhost:8080/",
          "height": 297
        },
        "id": "16891193",
        "outputId": "834db911-20e2-4974-b3ca-36a89d3a6852"
      },
      "outputs": [
        {
          "output_type": "execute_result",
          "data": {
            "text/plain": [
              "<matplotlib.legend.Legend at 0x7f52dbf00ca0>"
            ]
          },
          "metadata": {},
          "execution_count": 78
        },
        {
          "output_type": "display_data",
          "data": {
            "text/plain": [
              "<Figure size 432x288 with 1 Axes>"
            ],
            "image/png": "[encoded data removed]"
          },
          "metadata": {
            "needs_background": "light"
          }
        }
      ],
      "source": [
        "#모델로 정확도 확인\n",
        "df_accuracy_lr.round(3)\n",
        "plt.plot(para_lr, train_accuracy, linestyle = '-', label = 'Train Accuracy')\n",
        "plt.plot(para_lr, test_accuracy, linestyle = '--', label = 'Test Accuracy')\n",
        "plt.ylabel('accuracy') ; plt.xlabel('learning rate')\n",
        "plt.legend()"
      ]
    },
    {
      "cell_type": "code",
      "execution_count": 79,
      "id": "0f4400af",
      "metadata": {
        "colab": {
          "base_uri": "https://localhost:8080/",
          "height": 363
        },
        "id": "0f4400af",
        "outputId": "c5b82cfc-e9ae-4097-e2d9-f998e25684e6"
      },
      "outputs": [
        {
          "output_type": "execute_result",
          "data": {
            "text/plain": [
              "   Estimators  TrainAccuracy  TestAccuracy\n",
              "0          10       0.990632      0.972028\n",
              "1          20       1.000000      0.975524\n",
              "2          30       1.000000      0.975524\n",
              "3          40       1.000000      0.979021\n",
              "4          50       1.000000      0.982517\n",
              "5          60       1.000000      0.982517\n",
              "6          70       1.000000      0.986014\n",
              "7          80       1.000000      0.986014\n",
              "8          90       1.000000      0.986014\n",
              "9         100       1.000000      0.986014"
            ],
            "text/html": [
              "\n",
              "  <div id=\"df-adc4a929-ccc7-499a-a740-ec24f7d2112b\">\n",
              "    <div class=\"colab-df-container\">\n",
              "      <div>\n",
              "<style scoped>\n",
              "    .dataframe tbody tr th:only-of-type {\n",
              "        vertical-align: middle;\n",
              "    }\n",
              "\n",
              "    .dataframe tbody tr th {\n",
              "        vertical-align: top;\n",
              "    }\n",
              "\n",
              "    .dataframe thead th {\n",
              "        text-align: right;\n",
              "    }\n",
              "</style>\n",
              "<table border=\"1\" class=\"dataframe\">\n",
              "  <thead>\n",
              "    <tr style=\"text-align: right;\">\n",
              "      <th></th>\n",
              "      <th>Estimators</th>\n",
              "      <th>TrainAccuracy</th>\n",
              "      <th>TestAccuracy</th>\n",
              "    </tr>\n",
              "  </thead>\n",
              "  <tbody>\n",
              "    <tr>\n",
              "      <th>0</th>\n",
              "      <td>10</td>\n",
              "      <td>0.990632</td>\n",
              "      <td>0.972028</td>\n",
              "    </tr>\n",
              "    <tr>\n",
              "      <th>1</th>\n",
              "      <td>20</td>\n",
              "      <td>1.000000</td>\n",
              "      <td>0.975524</td>\n",
              "    </tr>\n",
              "    <tr>\n",
              "      <th>2</th>\n",
              "      <td>30</td>\n",
              "      <td>1.000000</td>\n",
              "      <td>0.975524</td>\n",
              "    </tr>\n",
              "    <tr>\n",
              "      <th>3</th>\n",
              "      <td>40</td>\n",
              "      <td>1.000000</td>\n",
              "      <td>0.979021</td>\n",
              "    </tr>\n",
              "    <tr>\n",
              "      <th>4</th>\n",
              "      <td>50</td>\n",
              "      <td>1.000000</td>\n",
              "      <td>0.982517</td>\n",
              "    </tr>\n",
              "    <tr>\n",
              "      <th>5</th>\n",
              "      <td>60</td>\n",
              "      <td>1.000000</td>\n",
              "      <td>0.982517</td>\n",
              "    </tr>\n",
              "    <tr>\n",
              "      <th>6</th>\n",
              "      <td>70</td>\n",
              "      <td>1.000000</td>\n",
              "      <td>0.986014</td>\n",
              "    </tr>\n",
              "    <tr>\n",
              "      <th>7</th>\n",
              "      <td>80</td>\n",
              "      <td>1.000000</td>\n",
              "      <td>0.986014</td>\n",
              "    </tr>\n",
              "    <tr>\n",
              "      <th>8</th>\n",
              "      <td>90</td>\n",
              "      <td>1.000000</td>\n",
              "      <td>0.986014</td>\n",
              "    </tr>\n",
              "    <tr>\n",
              "      <th>9</th>\n",
              "      <td>100</td>\n",
              "      <td>1.000000</td>\n",
              "      <td>0.986014</td>\n",
              "    </tr>\n",
              "  </tbody>\n",
              "</table>\n",
              "</div>\n",
              "      <button class=\"colab-df-convert\" onclick=\"convertToInteractive('df-adc4a929-ccc7-499a-a740-ec24f7d2112b')\"\n",
              "              title=\"Convert this dataframe to an interactive table.\"\n",
              "              style=\"display:none;\">\n",
              "        \n",
              "  <svg xmlns=\"http://www.w3.org/2000/svg\" height=\"24px\"viewBox=\"0 0 24 24\"\n",
              "       width=\"24px\">\n",
              "    <path d=\"M0 0h24v24H0V0z\" fill=\"none\"/>\n",
              "    <path d=\"M18.56 5.44l.94 2.06.94-2.06 2.06-.94-2.06-.94-.94-2.06-.94 2.06-2.06.94zm-11 1L8.5 8.5l.94-2.06 2.06-.94-2.06-.94L8.5 2.5l-.94 2.06-2.06.94zm10 10l.94 2.06.94-2.06 2.06-.94-2.06-.94-.94-2.06-.94 2.06-2.06.94z\"/><path d=\"M17.41 7.96l-1.37-1.37c-.4-.4-.92-.59-1.43-.59-.52 0-1.04.2-1.43.59L10.3 9.45l-7.72 7.72c-.78.78-.78 2.05 0 2.83L4 21.41c.39.39.9.59 1.41.59.51 0 1.02-.2 1.41-.59l7.78-7.78 2.81-2.81c.8-.78.8-2.07 0-2.86zM5.41 20L4 18.59l7.72-7.72 1.47 1.35L5.41 20z\"/>\n",
              "  </svg>\n",
              "      </button>\n",
              "      \n",
              "  <style>\n",
              "    .colab-df-container {\n",
              "      display:flex;\n",
              "      flex-wrap:wrap;\n",
              "      gap: 12px;\n",
              "    }\n",
              "\n",
              "    .colab-df-convert {\n",
              "      background-color: #E8F0FE;\n",
              "      border: none;\n",
              "      border-radius: 50%;\n",
              "      cursor: pointer;\n",
              "      display: none;\n",
              "      fill: #1967D2;\n",
              "      height: 32px;\n",
              "      padding: 0 0 0 0;\n",
              "      width: 32px;\n",
              "    }\n",
              "\n",
              "    .colab-df-convert:hover {\n",
              "      background-color: #E2EBFA;\n",
              "      box-shadow: 0px 1px 2px rgba(60, 64, 67, 0.3), 0px 1px 3px 1px rgba(60, 64, 67, 0.15);\n",
              "      fill: #174EA6;\n",
              "    }\n",
              "\n",
              "    [theme=dark] .colab-df-convert {\n",
              "      background-color: #3B4455;\n",
              "      fill: #D2E3FC;\n",
              "    }\n",
              "\n",
              "    [theme=dark] .colab-df-convert:hover {\n",
              "      background-color: #434B5C;\n",
              "      box-shadow: 0px 1px 3px 1px rgba(0, 0, 0, 0.15);\n",
              "      filter: drop-shadow(0px 1px 2px rgba(0, 0, 0, 0.3));\n",
              "      fill: #FFFFFF;\n",
              "    }\n",
              "  </style>\n",
              "\n",
              "      <script>\n",
              "        const buttonEl =\n",
              "          document.querySelector('#df-adc4a929-ccc7-499a-a740-ec24f7d2112b button.colab-df-convert');\n",
              "        buttonEl.style.display =\n",
              "          google.colab.kernel.accessAllowed ? 'block' : 'none';\n",
              "\n",
              "        async function convertToInteractive(key) {\n",
              "          const element = document.querySelector('#df-adc4a929-ccc7-499a-a740-ec24f7d2112b');\n",
              "          const dataTable =\n",
              "            await google.colab.kernel.invokeFunction('convertToInteractive',\n",
              "                                                     [key], {});\n",
              "          if (!dataTable) return;\n",
              "\n",
              "          const docLinkHtml = 'Like what you see? Visit the ' +\n",
              "            '<a target=\"_blank\" href=https://colab.research.google.com/notebooks/data_table.ipynb>data table notebook</a>'\n",
              "            + ' to learn more about interactive tables.';\n",
              "          element.innerHTML = '';\n",
              "          dataTable['output_type'] = 'display_data';\n",
              "          await google.colab.output.renderOutput(dataTable, element);\n",
              "          const docLink = document.createElement('div');\n",
              "          docLink.innerHTML = docLinkHtml;\n",
              "          element.appendChild(docLink);\n",
              "        }\n",
              "      </script>\n",
              "    </div>\n",
              "  </div>\n",
              "  "
            ]
          },
          "metadata": {},
          "execution_count": 79
        }
      ],
      "source": [
        "train_accuracy = []; test_accuracy = []\n",
        "\n",
        "para_n_tree = [n_tree*10 for n_tree in range(1,16)]\n",
        "\n",
        "for v_n_estimators in para_n_tree:\n",
        "    gb = GradientBoostingClassifier(n_estimators= v_n_estimators,learning_rate = 0.4, random_state = random)\n",
        "    gb.fit(df_train_x, df_train_y)\n",
        "    train_accuracy.append(gb.score(df_train_x, df_train_y))\n",
        "    test_accuracy.append(gb.score(df_test_x, df_test_y))\n",
        "    \n",
        "# 데이터 테이블로 저장\n",
        "df_accuracy_n = pd.DataFrame()\n",
        "df_accuracy_n['Estimators'] = para_n_tree\n",
        "df_accuracy_n['TrainAccuracy'] = train_accuracy\n",
        "df_accuracy_n['TestAccuracy'] = test_accuracy\n",
        "\n",
        "# 모델 정확도 확인\n",
        "df_accuracy_n.head(10)"
      ]
    },
    {
      "cell_type": "code",
      "execution_count": 80,
      "id": "7f3a3e87",
      "metadata": {
        "colab": {
          "base_uri": "https://localhost:8080/",
          "height": 283
        },
        "id": "7f3a3e87",
        "outputId": "51c4b154-3354-4b59-abc3-5c52d3062d87"
      },
      "outputs": [
        {
          "output_type": "execute_result",
          "data": {
            "text/plain": [
              "<matplotlib.legend.Legend at 0x7f52dbe80d90>"
            ]
          },
          "metadata": {},
          "execution_count": 80
        },
        {
          "output_type": "display_data",
          "data": {
            "text/plain": [
              "<Figure size 432x288 with 1 Axes>"
            ],
            "image/png": "[encoded data removed]"
          },
          "metadata": {
            "needs_background": "light"
          }
        }
      ],
      "source": [
        "plt.plot(para_n_tree, train_accuracy, linestyle = '-', label = 'Train Accuracy')\n",
        "plt.plot(para_n_tree, test_accuracy, linestyle = '--', label = 'Test Accuracy')\n",
        "plt.legend()"
      ]
    },
    {
      "cell_type": "code",
      "execution_count": 81,
      "id": "1944f759",
      "metadata": {
        "colab": {
          "base_uri": "https://localhost:8080/",
          "height": 363
        },
        "id": "1944f759",
        "outputId": "dc971757-11d3-404f-b508-50390ccd48e6"
      },
      "outputs": [
        {
          "output_type": "execute_result",
          "data": {
            "text/plain": [
              "   Depth  TrainAccuracy  TestAccuracy\n",
              "0      1          0.991         0.965\n",
              "1      2          1.000         0.976\n",
              "2      3          1.000         0.986\n",
              "3      4          1.000         0.983\n",
              "4      5          1.000         0.983\n",
              "5      6          1.000         0.983\n",
              "6      7          1.000         0.979\n",
              "7      8          1.000         0.958\n",
              "8      9          1.000         0.979\n",
              "9     10          1.000         0.986"
            ],
            "text/html": [
              "\n",
              "  <div id=\"df-01f04300-cce6-42fd-8ae4-65e16e5d7787\">\n",
              "    <div class=\"colab-df-container\">\n",
              "      <div>\n",
              "<style scoped>\n",
              "    .dataframe tbody tr th:only-of-type {\n",
              "        vertical-align: middle;\n",
              "    }\n",
              "\n",
              "    .dataframe tbody tr th {\n",
              "        vertical-align: top;\n",
              "    }\n",
              "\n",
              "    .dataframe thead th {\n",
              "        text-align: right;\n",
              "    }\n",
              "</style>\n",
              "<table border=\"1\" class=\"dataframe\">\n",
              "  <thead>\n",
              "    <tr style=\"text-align: right;\">\n",
              "      <th></th>\n",
              "      <th>Depth</th>\n",
              "      <th>TrainAccuracy</th>\n",
              "      <th>TestAccuracy</th>\n",
              "    </tr>\n",
              "  </thead>\n",
              "  <tbody>\n",
              "    <tr>\n",
              "      <th>0</th>\n",
              "      <td>1</td>\n",
              "      <td>0.991</td>\n",
              "      <td>0.965</td>\n",
              "    </tr>\n",
              "    <tr>\n",
              "      <th>1</th>\n",
              "      <td>2</td>\n",
              "      <td>1.000</td>\n",
              "      <td>0.976</td>\n",
              "    </tr>\n",
              "    <tr>\n",
              "      <th>2</th>\n",
              "      <td>3</td>\n",
              "      <td>1.000</td>\n",
              "      <td>0.986</td>\n",
              "    </tr>\n",
              "    <tr>\n",
              "      <th>3</th>\n",
              "      <td>4</td>\n",
              "      <td>1.000</td>\n",
              "      <td>0.983</td>\n",
              "    </tr>\n",
              "    <tr>\n",
              "      <th>4</th>\n",
              "      <td>5</td>\n",
              "      <td>1.000</td>\n",
              "      <td>0.983</td>\n",
              "    </tr>\n",
              "    <tr>\n",
              "      <th>5</th>\n",
              "      <td>6</td>\n",
              "      <td>1.000</td>\n",
              "      <td>0.983</td>\n",
              "    </tr>\n",
              "    <tr>\n",
              "      <th>6</th>\n",
              "      <td>7</td>\n",
              "      <td>1.000</td>\n",
              "      <td>0.979</td>\n",
              "    </tr>\n",
              "    <tr>\n",
              "      <th>7</th>\n",
              "      <td>8</td>\n",
              "      <td>1.000</td>\n",
              "      <td>0.958</td>\n",
              "    </tr>\n",
              "    <tr>\n",
              "      <th>8</th>\n",
              "      <td>9</td>\n",
              "      <td>1.000</td>\n",
              "      <td>0.979</td>\n",
              "    </tr>\n",
              "    <tr>\n",
              "      <th>9</th>\n",
              "      <td>10</td>\n",
              "      <td>1.000</td>\n",
              "      <td>0.986</td>\n",
              "    </tr>\n",
              "  </tbody>\n",
              "</table>\n",
              "</div>\n",
              "      <button class=\"colab-df-convert\" onclick=\"convertToInteractive('df-01f04300-cce6-42fd-8ae4-65e16e5d7787')\"\n",
              "              title=\"Convert this dataframe to an interactive table.\"\n",
              "              style=\"display:none;\">\n",
              "        \n",
              "  <svg xmlns=\"http://www.w3.org/2000/svg\" height=\"24px\"viewBox=\"0 0 24 24\"\n",
              "       width=\"24px\">\n",
              "    <path d=\"M0 0h24v24H0V0z\" fill=\"none\"/>\n",
              "    <path d=\"M18.56 5.44l.94 2.06.94-2.06 2.06-.94-2.06-.94-.94-2.06-.94 2.06-2.06.94zm-11 1L8.5 8.5l.94-2.06 2.06-.94-2.06-.94L8.5 2.5l-.94 2.06-2.06.94zm10 10l.94 2.06.94-2.06 2.06-.94-2.06-.94-.94-2.06-.94 2.06-2.06.94z\"/><path d=\"M17.41 7.96l-1.37-1.37c-.4-.4-.92-.59-1.43-.59-.52 0-1.04.2-1.43.59L10.3 9.45l-7.72 7.72c-.78.78-.78 2.05 0 2.83L4 21.41c.39.39.9.59 1.41.59.51 0 1.02-.2 1.41-.59l7.78-7.78 2.81-2.81c.8-.78.8-2.07 0-2.86zM5.41 20L4 18.59l7.72-7.72 1.47 1.35L5.41 20z\"/>\n",
              "  </svg>\n",
              "      </button>\n",
              "      \n",
              "  <style>\n",
              "    .colab-df-container {\n",
              "      display:flex;\n",
              "      flex-wrap:wrap;\n",
              "      gap: 12px;\n",
              "    }\n",
              "\n",
              "    .colab-df-convert {\n",
              "      background-color: #E8F0FE;\n",
              "      border: none;\n",
              "      border-radius: 50%;\n",
              "      cursor: pointer;\n",
              "      display: none;\n",
              "      fill: #1967D2;\n",
              "      height: 32px;\n",
              "      padding: 0 0 0 0;\n",
              "      width: 32px;\n",
              "    }\n",
              "\n",
              "    .colab-df-convert:hover {\n",
              "      background-color: #E2EBFA;\n",
              "      box-shadow: 0px 1px 2px rgba(60, 64, 67, 0.3), 0px 1px 3px 1px rgba(60, 64, 67, 0.15);\n",
              "      fill: #174EA6;\n",
              "    }\n",
              "\n",
              "    [theme=dark] .colab-df-convert {\n",
              "      background-color: #3B4455;\n",
              "      fill: #D2E3FC;\n",
              "    }\n",
              "\n",
              "    [theme=dark] .colab-df-convert:hover {\n",
              "      background-color: #434B5C;\n",
              "      box-shadow: 0px 1px 3px 1px rgba(0, 0, 0, 0.15);\n",
              "      filter: drop-shadow(0px 1px 2px rgba(0, 0, 0, 0.3));\n",
              "      fill: #FFFFFF;\n",
              "    }\n",
              "  </style>\n",
              "\n",
              "      <script>\n",
              "        const buttonEl =\n",
              "          document.querySelector('#df-01f04300-cce6-42fd-8ae4-65e16e5d7787 button.colab-df-convert');\n",
              "        buttonEl.style.display =\n",
              "          google.colab.kernel.accessAllowed ? 'block' : 'none';\n",
              "\n",
              "        async function convertToInteractive(key) {\n",
              "          const element = document.querySelector('#df-01f04300-cce6-42fd-8ae4-65e16e5d7787');\n",
              "          const dataTable =\n",
              "            await google.colab.kernel.invokeFunction('convertToInteractive',\n",
              "                                                     [key], {});\n",
              "          if (!dataTable) return;\n",
              "\n",
              "          const docLinkHtml = 'Like what you see? Visit the ' +\n",
              "            '<a target=\"_blank\" href=https://colab.research.google.com/notebooks/data_table.ipynb>data table notebook</a>'\n",
              "            + ' to learn more about interactive tables.';\n",
              "          element.innerHTML = '';\n",
              "          dataTable['output_type'] = 'display_data';\n",
              "          await google.colab.output.renderOutput(dataTable, element);\n",
              "          const docLink = document.createElement('div');\n",
              "          docLink.innerHTML = docLinkHtml;\n",
              "          element.appendChild(docLink);\n",
              "        }\n",
              "      </script>\n",
              "    </div>\n",
              "  </div>\n",
              "  "
            ]
          },
          "metadata": {},
          "execution_count": 81
        }
      ],
      "source": [
        "# train, test 정확도 결과 저장용\n",
        "train_accuracy = []; test_accuracy = []\n",
        "\n",
        "# min_samples_split\n",
        "para_depth = [depth for depth in range(1,11)]\n",
        "\n",
        "for v_max_depth in para_depth:\n",
        "    gb = GradientBoostingClassifier(max_depth = v_max_depth, learning_rate = 0.4, n_estimators = 70, random_state = random)\n",
        "    gb.fit(df_train_x, df_train_y)\n",
        "    train_accuracy.append(gb.score(df_train_x, df_train_y))\n",
        "    test_accuracy.append(gb.score(df_test_x, df_test_y))\n",
        "    \n",
        "#데이텉 테이블로 저장\n",
        "df_accuracy_depth = pd.DataFrame()\n",
        "df_accuracy_depth['Depth'] = para_depth\n",
        "df_accuracy_depth['TrainAccuracy'] = train_accuracy\n",
        "df_accuracy_depth['TestAccuracy'] = test_accuracy\n",
        "\n",
        "#모델로 정확도 확인\n",
        "df_accuracy_depth.round(3)"
      ]
    },
    {
      "cell_type": "code",
      "execution_count": 82,
      "id": "b13a5657",
      "metadata": {
        "colab": {
          "base_uri": "https://localhost:8080/",
          "height": 297
        },
        "id": "b13a5657",
        "outputId": "be52ad5d-f6bd-4e5e-a36c-566594546a6b"
      },
      "outputs": [
        {
          "output_type": "execute_result",
          "data": {
            "text/plain": [
              "<matplotlib.legend.Legend at 0x7f52dbe00e50>"
            ]
          },
          "metadata": {},
          "execution_count": 82
        },
        {
          "output_type": "display_data",
          "data": {
            "text/plain": [
              "<Figure size 432x288 with 1 Axes>"
            ],
            "image/png": "[encoded data removed]"
          },
          "metadata": {
            "needs_background": "light"
          }
        }
      ],
      "source": [
        "plt.plot(para_depth, train_accuracy, linestyle = '-', label = 'Train Accuracy')\n",
        "plt.plot(para_depth, test_accuracy, linestyle = '--', label = 'Test Accuracy')\n",
        "plt.ylabel('accuracy'); plt.xlabel('depth')\n",
        "plt.legend()"
      ]
    },
    {
      "cell_type": "code",
      "execution_count": 83,
      "id": "35f5f27e",
      "metadata": {
        "colab": {
          "base_uri": "https://localhost:8080/",
          "height": 332
        },
        "id": "35f5f27e",
        "outputId": "f7fceb6b-0b21-430a-c0e3-bde144516025"
      },
      "outputs": [
        {
          "output_type": "execute_result",
          "data": {
            "text/plain": [
              "   MinSamplesSplit  TrainAccuracy  TestAccuracy\n",
              "0               20            1.0         0.986\n",
              "1               30            1.0         1.000\n",
              "2               40            1.0         1.000\n",
              "3               50            1.0         1.000\n",
              "4               60            1.0         1.000\n",
              "5               70            1.0         0.993\n",
              "6               80            1.0         1.000\n",
              "7               90            1.0         0.993\n",
              "8              100            1.0         0.997"
            ],
            "text/html": [
              "\n",
              "  <div id=\"df-7f5f4d6d-4aaa-480b-8584-fa143e88020a\">\n",
              "    <div class=\"colab-df-container\">\n",
              "      <div>\n",
              "<style scoped>\n",
              "    .dataframe tbody tr th:only-of-type {\n",
              "        vertical-align: middle;\n",
              "    }\n",
              "\n",
              "    .dataframe tbody tr th {\n",
              "        vertical-align: top;\n",
              "    }\n",
              "\n",
              "    .dataframe thead th {\n",
              "        text-align: right;\n",
              "    }\n",
              "</style>\n",
              "<table border=\"1\" class=\"dataframe\">\n",
              "  <thead>\n",
              "    <tr style=\"text-align: right;\">\n",
              "      <th></th>\n",
              "      <th>MinSamplesSplit</th>\n",
              "      <th>TrainAccuracy</th>\n",
              "      <th>TestAccuracy</th>\n",
              "    </tr>\n",
              "  </thead>\n",
              "  <tbody>\n",
              "    <tr>\n",
              "      <th>0</th>\n",
              "      <td>20</td>\n",
              "      <td>1.0</td>\n",
              "      <td>0.986</td>\n",
              "    </tr>\n",
              "    <tr>\n",
              "      <th>1</th>\n",
              "      <td>30</td>\n",
              "      <td>1.0</td>\n",
              "      <td>1.000</td>\n",
              "    </tr>\n",
              "    <tr>\n",
              "      <th>2</th>\n",
              "      <td>40</td>\n",
              "      <td>1.0</td>\n",
              "      <td>1.000</td>\n",
              "    </tr>\n",
              "    <tr>\n",
              "      <th>3</th>\n",
              "      <td>50</td>\n",
              "      <td>1.0</td>\n",
              "      <td>1.000</td>\n",
              "    </tr>\n",
              "    <tr>\n",
              "      <th>4</th>\n",
              "      <td>60</td>\n",
              "      <td>1.0</td>\n",
              "      <td>1.000</td>\n",
              "    </tr>\n",
              "    <tr>\n",
              "      <th>5</th>\n",
              "      <td>70</td>\n",
              "      <td>1.0</td>\n",
              "      <td>0.993</td>\n",
              "    </tr>\n",
              "    <tr>\n",
              "      <th>6</th>\n",
              "      <td>80</td>\n",
              "      <td>1.0</td>\n",
              "      <td>1.000</td>\n",
              "    </tr>\n",
              "    <tr>\n",
              "      <th>7</th>\n",
              "      <td>90</td>\n",
              "      <td>1.0</td>\n",
              "      <td>0.993</td>\n",
              "    </tr>\n",
              "    <tr>\n",
              "      <th>8</th>\n",
              "      <td>100</td>\n",
              "      <td>1.0</td>\n",
              "      <td>0.997</td>\n",
              "    </tr>\n",
              "  </tbody>\n",
              "</table>\n",
              "</div>\n",
              "      <button class=\"colab-df-convert\" onclick=\"convertToInteractive('df-7f5f4d6d-4aaa-480b-8584-fa143e88020a')\"\n",
              "              title=\"Convert this dataframe to an interactive table.\"\n",
              "              style=\"display:none;\">\n",
              "        \n",
              "  <svg xmlns=\"http://www.w3.org/2000/svg\" height=\"24px\"viewBox=\"0 0 24 24\"\n",
              "       width=\"24px\">\n",
              "    <path d=\"M0 0h24v24H0V0z\" fill=\"none\"/>\n",
              "    <path d=\"M18.56 5.44l.94 2.06.94-2.06 2.06-.94-2.06-.94-.94-2.06-.94 2.06-2.06.94zm-11 1L8.5 8.5l.94-2.06 2.06-.94-2.06-.94L8.5 2.5l-.94 2.06-2.06.94zm10 10l.94 2.06.94-2.06 2.06-.94-2.06-.94-.94-2.06-.94 2.06-2.06.94z\"/><path d=\"M17.41 7.96l-1.37-1.37c-.4-.4-.92-.59-1.43-.59-.52 0-1.04.2-1.43.59L10.3 9.45l-7.72 7.72c-.78.78-.78 2.05 0 2.83L4 21.41c.39.39.9.59 1.41.59.51 0 1.02-.2 1.41-.59l7.78-7.78 2.81-2.81c.8-.78.8-2.07 0-2.86zM5.41 20L4 18.59l7.72-7.72 1.47 1.35L5.41 20z\"/>\n",
              "  </svg>\n",
              "      </button>\n",
              "      \n",
              "  <style>\n",
              "    .colab-df-container {\n",
              "      display:flex;\n",
              "      flex-wrap:wrap;\n",
              "      gap: 12px;\n",
              "    }\n",
              "\n",
              "    .colab-df-convert {\n",
              "      background-color: #E8F0FE;\n",
              "      border: none;\n",
              "      border-radius: 50%;\n",
              "      cursor: pointer;\n",
              "      display: none;\n",
              "      fill: #1967D2;\n",
              "      height: 32px;\n",
              "      padding: 0 0 0 0;\n",
              "      width: 32px;\n",
              "    }\n",
              "\n",
              "    .colab-df-convert:hover {\n",
              "      background-color: #E2EBFA;\n",
              "      box-shadow: 0px 1px 2px rgba(60, 64, 67, 0.3), 0px 1px 3px 1px rgba(60, 64, 67, 0.15);\n",
              "      fill: #174EA6;\n",
              "    }\n",
              "\n",
              "    [theme=dark] .colab-df-convert {\n",
              "      background-color: #3B4455;\n",
              "      fill: #D2E3FC;\n",
              "    }\n",
              "\n",
              "    [theme=dark] .colab-df-convert:hover {\n",
              "      background-color: #434B5C;\n",
              "      box-shadow: 0px 1px 3px 1px rgba(0, 0, 0, 0.15);\n",
              "      filter: drop-shadow(0px 1px 2px rgba(0, 0, 0, 0.3));\n",
              "      fill: #FFFFFF;\n",
              "    }\n",
              "  </style>\n",
              "\n",
              "      <script>\n",
              "        const buttonEl =\n",
              "          document.querySelector('#df-7f5f4d6d-4aaa-480b-8584-fa143e88020a button.colab-df-convert');\n",
              "        buttonEl.style.display =\n",
              "          google.colab.kernel.accessAllowed ? 'block' : 'none';\n",
              "\n",
              "        async function convertToInteractive(key) {\n",
              "          const element = document.querySelector('#df-7f5f4d6d-4aaa-480b-8584-fa143e88020a');\n",
              "          const dataTable =\n",
              "            await google.colab.kernel.invokeFunction('convertToInteractive',\n",
              "                                                     [key], {});\n",
              "          if (!dataTable) return;\n",
              "\n",
              "          const docLinkHtml = 'Like what you see? Visit the ' +\n",
              "            '<a target=\"_blank\" href=https://colab.research.google.com/notebooks/data_table.ipynb>data table notebook</a>'\n",
              "            + ' to learn more about interactive tables.';\n",
              "          element.innerHTML = '';\n",
              "          dataTable['output_type'] = 'display_data';\n",
              "          await google.colab.output.renderOutput(dataTable, element);\n",
              "          const docLink = document.createElement('div');\n",
              "          docLink.innerHTML = docLinkHtml;\n",
              "          element.appendChild(docLink);\n",
              "        }\n",
              "      </script>\n",
              "    </div>\n",
              "  </div>\n",
              "  "
            ]
          },
          "metadata": {},
          "execution_count": 83
        }
      ],
      "source": [
        "# train, test 정확도 결과 저장용\n",
        "train_accuracy = []; test_accuracy = []\n",
        "\n",
        "# min_samples_split\n",
        "para_split = [n_split*10 for n_split in range(2,11)]\n",
        "\n",
        "for v_min_samples_split in para_split:\n",
        "    gb = GradientBoostingClassifier(min_samples_split = v_min_samples_split, max_depth = 10, n_estimators = 70, \n",
        "                                    learning_rate = 0.4, random_state = 100)\n",
        "    gb.fit(df_train_x, df_train_y)\n",
        "    train_accuracy.append(gb.score(df_train_x, df_train_y))\n",
        "    test_accuracy.append(gb.score(df_test_x, df_test_y))\n",
        "    \n",
        "#데이텉 테이블로 저장\n",
        "df_accuracy_split = pd.DataFrame()\n",
        "df_accuracy_split['MinSamplesSplit'] = para_split\n",
        "df_accuracy_split['TrainAccuracy'] = train_accuracy\n",
        "df_accuracy_split['TestAccuracy'] = test_accuracy\n",
        "\n",
        "# 모델 정확도 확인\n",
        "df_accuracy_split.round(3)"
      ]
    },
    {
      "cell_type": "code",
      "execution_count": 84,
      "id": "d16d472f",
      "metadata": {
        "colab": {
          "base_uri": "https://localhost:8080/",
          "height": 297
        },
        "id": "d16d472f",
        "outputId": "d7cd4ee0-9cef-4f9e-b579-e63dfb8c01eb"
      },
      "outputs": [
        {
          "output_type": "execute_result",
          "data": {
            "text/plain": [
              "<matplotlib.legend.Legend at 0x7f52dbdecbe0>"
            ]
          },
          "metadata": {},
          "execution_count": 84
        },
        {
          "output_type": "display_data",
          "data": {
            "text/plain": [
              "<Figure size 432x288 with 1 Axes>"
            ],
            "image/png": "[encoded data removed]"
          },
          "metadata": {
            "needs_background": "light"
          }
        }
      ],
      "source": [
        "#모델로 정확도 확인\n",
        "plt.plot(para_split, train_accuracy, linestyle = '-', label = 'Train Accuracy')\n",
        "plt.plot(para_split, test_accuracy, linestyle = '--', label = 'Test Accuracy')\n",
        "plt.ylabel('accuracy'); plt.xlabel('min samples split')\n",
        "plt.legend()"
      ]
    },
    {
      "cell_type": "code",
      "execution_count": 85,
      "id": "1c5cb60f",
      "metadata": {
        "colab": {
          "base_uri": "https://localhost:8080/",
          "height": 363
        },
        "id": "1c5cb60f",
        "outputId": "b13b8951-0c57-4960-965e-4992a5467ccf"
      },
      "outputs": [
        {
          "output_type": "execute_result",
          "data": {
            "text/plain": [
              "   MinSamplesLeaf  TrainAccuracy  TestAccuracy\n",
              "0               1            1.0         1.000\n",
              "1               2            1.0         0.993\n",
              "2               3            1.0         0.976\n",
              "3               4            1.0         0.986\n",
              "4               5            1.0         0.990\n",
              "5               6            1.0         0.990\n",
              "6               7            1.0         0.990\n",
              "7               8            1.0         0.986\n",
              "8               9            1.0         0.986\n",
              "9              10            1.0         0.986"
            ],
            "text/html": [
              "\n",
              "  <div id=\"df-34a7f9b9-53d2-4149-9f69-47bbf40a4758\">\n",
              "    <div class=\"colab-df-container\">\n",
              "      <div>\n",
              "<style scoped>\n",
              "    .dataframe tbody tr th:only-of-type {\n",
              "        vertical-align: middle;\n",
              "    }\n",
              "\n",
              "    .dataframe tbody tr th {\n",
              "        vertical-align: top;\n",
              "    }\n",
              "\n",
              "    .dataframe thead th {\n",
              "        text-align: right;\n",
              "    }\n",
              "</style>\n",
              "<table border=\"1\" class=\"dataframe\">\n",
              "  <thead>\n",
              "    <tr style=\"text-align: right;\">\n",
              "      <th></th>\n",
              "      <th>MinSamplesLeaf</th>\n",
              "      <th>TrainAccuracy</th>\n",
              "      <th>TestAccuracy</th>\n",
              "    </tr>\n",
              "  </thead>\n",
              "  <tbody>\n",
              "    <tr>\n",
              "      <th>0</th>\n",
              "      <td>1</td>\n",
              "      <td>1.0</td>\n",
              "      <td>1.000</td>\n",
              "    </tr>\n",
              "    <tr>\n",
              "      <th>1</th>\n",
              "      <td>2</td>\n",
              "      <td>1.0</td>\n",
              "      <td>0.993</td>\n",
              "    </tr>\n",
              "    <tr>\n",
              "      <th>2</th>\n",
              "      <td>3</td>\n",
              "      <td>1.0</td>\n",
              "      <td>0.976</td>\n",
              "    </tr>\n",
              "    <tr>\n",
              "      <th>3</th>\n",
              "      <td>4</td>\n",
              "      <td>1.0</td>\n",
              "      <td>0.986</td>\n",
              "    </tr>\n",
              "    <tr>\n",
              "      <th>4</th>\n",
              "      <td>5</td>\n",
              "      <td>1.0</td>\n",
              "      <td>0.990</td>\n",
              "    </tr>\n",
              "    <tr>\n",
              "      <th>5</th>\n",
              "      <td>6</td>\n",
              "      <td>1.0</td>\n",
              "      <td>0.990</td>\n",
              "    </tr>\n",
              "    <tr>\n",
              "      <th>6</th>\n",
              "      <td>7</td>\n",
              "      <td>1.0</td>\n",
              "      <td>0.990</td>\n",
              "    </tr>\n",
              "    <tr>\n",
              "      <th>7</th>\n",
              "      <td>8</td>\n",
              "      <td>1.0</td>\n",
              "      <td>0.986</td>\n",
              "    </tr>\n",
              "    <tr>\n",
              "      <th>8</th>\n",
              "      <td>9</td>\n",
              "      <td>1.0</td>\n",
              "      <td>0.986</td>\n",
              "    </tr>\n",
              "    <tr>\n",
              "      <th>9</th>\n",
              "      <td>10</td>\n",
              "      <td>1.0</td>\n",
              "      <td>0.986</td>\n",
              "    </tr>\n",
              "  </tbody>\n",
              "</table>\n",
              "</div>\n",
              "      <button class=\"colab-df-convert\" onclick=\"convertToInteractive('df-34a7f9b9-53d2-4149-9f69-47bbf40a4758')\"\n",
              "              title=\"Convert this dataframe to an interactive table.\"\n",
              "              style=\"display:none;\">\n",
              "        \n",
              "  <svg xmlns=\"http://www.w3.org/2000/svg\" height=\"24px\"viewBox=\"0 0 24 24\"\n",
              "       width=\"24px\">\n",
              "    <path d=\"M0 0h24v24H0V0z\" fill=\"none\"/>\n",
              "    <path d=\"M18.56 5.44l.94 2.06.94-2.06 2.06-.94-2.06-.94-.94-2.06-.94 2.06-2.06.94zm-11 1L8.5 8.5l.94-2.06 2.06-.94-2.06-.94L8.5 2.5l-.94 2.06-2.06.94zm10 10l.94 2.06.94-2.06 2.06-.94-2.06-.94-.94-2.06-.94 2.06-2.06.94z\"/><path d=\"M17.41 7.96l-1.37-1.37c-.4-.4-.92-.59-1.43-.59-.52 0-1.04.2-1.43.59L10.3 9.45l-7.72 7.72c-.78.78-.78 2.05 0 2.83L4 21.41c.39.39.9.59 1.41.59.51 0 1.02-.2 1.41-.59l7.78-7.78 2.81-2.81c.8-.78.8-2.07 0-2.86zM5.41 20L4 18.59l7.72-7.72 1.47 1.35L5.41 20z\"/>\n",
              "  </svg>\n",
              "      </button>\n",
              "      \n",
              "  <style>\n",
              "    .colab-df-container {\n",
              "      display:flex;\n",
              "      flex-wrap:wrap;\n",
              "      gap: 12px;\n",
              "    }\n",
              "\n",
              "    .colab-df-convert {\n",
              "      background-color: #E8F0FE;\n",
              "      border: none;\n",
              "      border-radius: 50%;\n",
              "      cursor: pointer;\n",
              "      display: none;\n",
              "      fill: #1967D2;\n",
              "      height: 32px;\n",
              "      padding: 0 0 0 0;\n",
              "      width: 32px;\n",
              "    }\n",
              "\n",
              "    .colab-df-convert:hover {\n",
              "      background-color: #E2EBFA;\n",
              "      box-shadow: 0px 1px 2px rgba(60, 64, 67, 0.3), 0px 1px 3px 1px rgba(60, 64, 67, 0.15);\n",
              "      fill: #174EA6;\n",
              "    }\n",
              "\n",
              "    [theme=dark] .colab-df-convert {\n",
              "      background-color: #3B4455;\n",
              "      fill: #D2E3FC;\n",
              "    }\n",
              "\n",
              "    [theme=dark] .colab-df-convert:hover {\n",
              "      background-color: #434B5C;\n",
              "      box-shadow: 0px 1px 3px 1px rgba(0, 0, 0, 0.15);\n",
              "      filter: drop-shadow(0px 1px 2px rgba(0, 0, 0, 0.3));\n",
              "      fill: #FFFFFF;\n",
              "    }\n",
              "  </style>\n",
              "\n",
              "      <script>\n",
              "        const buttonEl =\n",
              "          document.querySelector('#df-34a7f9b9-53d2-4149-9f69-47bbf40a4758 button.colab-df-convert');\n",
              "        buttonEl.style.display =\n",
              "          google.colab.kernel.accessAllowed ? 'block' : 'none';\n",
              "\n",
              "        async function convertToInteractive(key) {\n",
              "          const element = document.querySelector('#df-34a7f9b9-53d2-4149-9f69-47bbf40a4758');\n",
              "          const dataTable =\n",
              "            await google.colab.kernel.invokeFunction('convertToInteractive',\n",
              "                                                     [key], {});\n",
              "          if (!dataTable) return;\n",
              "\n",
              "          const docLinkHtml = 'Like what you see? Visit the ' +\n",
              "            '<a target=\"_blank\" href=https://colab.research.google.com/notebooks/data_table.ipynb>data table notebook</a>'\n",
              "            + ' to learn more about interactive tables.';\n",
              "          element.innerHTML = '';\n",
              "          dataTable['output_type'] = 'display_data';\n",
              "          await google.colab.output.renderOutput(dataTable, element);\n",
              "          const docLink = document.createElement('div');\n",
              "          docLink.innerHTML = docLinkHtml;\n",
              "          element.appendChild(docLink);\n",
              "        }\n",
              "      </script>\n",
              "    </div>\n",
              "  </div>\n",
              "  "
            ]
          },
          "metadata": {},
          "execution_count": 85
        }
      ],
      "source": [
        "# train, test 정확도 결과 저장용\n",
        "train_accuracy = []; test_accuracy = []\n",
        "\n",
        "# min_samples_split\n",
        "para_leaf = [n_leaf for n_leaf in range(1,11)]\n",
        "\n",
        "for v_min_samples_leaf in para_leaf:\n",
        "    gb = GradientBoostingClassifier(min_samples_leaf = v_min_samples_leaf, max_depth = 10, n_estimators = 70, min_samples_split = 30,\n",
        "                                    learning_rate = 0.4, random_state = 100)\n",
        "    gb.fit(df_train_x, df_train_y)\n",
        "    train_accuracy.append(gb.score(df_train_x, df_train_y))\n",
        "    test_accuracy.append(gb.score(df_test_x, df_test_y))\n",
        "    \n",
        "#데이텉 테이블로 저장\n",
        "df_accuracy_leaf = pd.DataFrame()\n",
        "df_accuracy_leaf['MinSamplesLeaf'] = para_leaf\n",
        "df_accuracy_leaf['TrainAccuracy'] = train_accuracy\n",
        "df_accuracy_leaf['TestAccuracy'] = test_accuracy\n",
        "\n",
        "df_accuracy_leaf.round(3)"
      ]
    },
    {
      "cell_type": "code",
      "execution_count": 86,
      "id": "d05777c2",
      "metadata": {
        "colab": {
          "base_uri": "https://localhost:8080/",
          "height": 297
        },
        "id": "d05777c2",
        "outputId": "707d143e-96a3-4a67-b7f7-0e8d0a5d9649"
      },
      "outputs": [
        {
          "output_type": "execute_result",
          "data": {
            "text/plain": [
              "<matplotlib.legend.Legend at 0x7f52dbd75a60>"
            ]
          },
          "metadata": {},
          "execution_count": 86
        },
        {
          "output_type": "display_data",
          "data": {
            "text/plain": [
              "<Figure size 432x288 with 1 Axes>"
            ],
            "image/png": "[encoded data removed]"
          },
          "metadata": {
            "needs_background": "light"
          }
        }
      ],
      "source": [
        "#모델로 정확도 확인\n",
        "plt.plot(para_leaf, train_accuracy, linestyle = '-', label = 'Train Accuracy')\n",
        "plt.plot(para_leaf, test_accuracy, linestyle = '--', label = 'Test Accuracy')\n",
        "plt.ylabel('accuracy'); plt.xlabel('min samples leaf')\n",
        "plt.legend()"
      ]
    },
    {
      "cell_type": "code",
      "execution_count": 87,
      "id": "7b68a95e",
      "metadata": {
        "colab": {
          "base_uri": "https://localhost:8080/"
        },
        "id": "7b68a95e",
        "outputId": "1e6f11f8-4848-4448-cecb-7b43f7317788"
      },
      "outputs": [
        {
          "output_type": "stream",
          "name": "stdout",
          "text": [
            "Accuracy on training set: 1.000\n",
            "Accuracy on test set: 0.990\n",
            "\n"
          ]
        }
      ],
      "source": [
        "gb_final = GradientBoostingClassifier(min_samples_leaf=7, max_depth=10, n_estimators=700, \n",
        "                                      min_samples_split = 30, learning_rate=0.4,random_state = 100)\n",
        "gb_final.fit(df_train_x, df_train_y)\n",
        "y_pred = gb_final.predict(df_test_x)\n",
        "# train 데이터 셋 정확도\n",
        "print(\"Accuracy on training set: {:.3f}\".format(gb_final.score(df_train_x, df_train_y)))\n",
        "# test 데이터 셋 정확도\n",
        "print(\"Accuracy on test set: {:.3f}\\n\".format(gb_final.score(df_test_x, df_test_y)))"
      ]
    },
    {
      "cell_type": "code",
      "execution_count": 88,
      "id": "1ccaf6e2",
      "metadata": {
        "colab": {
          "base_uri": "https://localhost:8080/"
        },
        "id": "1ccaf6e2",
        "outputId": "b87f4670-16af-4704-e29c-1d67c3610512"
      },
      "outputs": [
        {
          "output_type": "stream",
          "name": "stdout",
          "text": [
            "Confusion matrix:\n",
            "[[186   0]\n",
            " [  3  97]]\n",
            "              precision    recall  f1-score   support\n",
            "\n",
            "           0      0.984     1.000     0.992       186\n",
            "           1      1.000     0.970     0.985       100\n",
            "\n",
            "    accuracy                          0.990       286\n",
            "   macro avg      0.992     0.985     0.988       286\n",
            "weighted avg      0.990     0.990     0.989       286\n",
            "\n"
          ]
        }
      ],
      "source": [
        "#confusion matrix\n",
        "print(\"Confusion matrix:\\n{}\".format(confusion_matrix(df_test_y, y_pred)))\n",
        "#목표변수의 빈도 불균형 : f1 score로 모델 평가\n",
        "print(classification_report(df_test_y, y_pred, digits=3))"
      ]
    },
    {
      "cell_type": "markdown",
      "id": "0b4a5fb1",
      "metadata": {
        "id": "0b4a5fb1"
      },
      "source": [
        "### Feature Importance"
      ]
    },
    {
      "cell_type": "code",
      "execution_count": 89,
      "id": "b0f8c0a7",
      "metadata": {
        "colab": {
          "base_uri": "https://localhost:8080/",
          "height": 297
        },
        "id": "b0f8c0a7",
        "outputId": "0b474a3a-554f-474c-c068-2b14b4654eff"
      },
      "outputs": [
        {
          "output_type": "execute_result",
          "data": {
            "text/plain": [
              "Text(0, 0.5, '설명변수')"
            ]
          },
          "metadata": {},
          "execution_count": 89
        },
        {
          "output_type": "display_data",
          "data": {
            "text/plain": [
              "<Figure size 432x288 with 1 Axes>"
            ],
            "image/png": "[encoded data removed]"
          },
          "metadata": {
            "needs_background": "light"
          }
        }
      ],
      "source": [
        "gb_importance = pd.DataFrame()\n",
        "\n",
        "gb_importance['Feature'] = v_feature_name\n",
        "gb_importance['Importance'] = gb_final.feature_importances_\n",
        "gb_importance.sort_values('Importance', ascending = False, inplace = True)\n",
        "gb_importance.round(3)\n",
        "\n",
        "#설명변수 중요도 그래프\n",
        "#중요도가 높은 변수를 상위에 그림\n",
        "gb_importance.sort_values(\"Importance\", ascending=True, inplace = True)\n",
        "coordinates = range(len (gb_importance))\n",
        "plt.barh(y = coordinates, width = gb_importance [\"Importance\"])\n",
        "plt.yticks(coordinates, gb_importance [\"Feature\"])\n",
        "plt.xlabel(\"설명변수 중요도\")\n",
        "plt.ylabel(\"설명변수\")"
      ]
    },
    {
      "cell_type": "markdown",
      "id": "970f4ec6",
      "metadata": {
        "id": "970f4ec6"
      },
      "source": [
        "## SVM"
      ]
    },
    {
      "cell_type": "code",
      "execution_count": 90,
      "id": "cfc0f8cd",
      "metadata": {
        "id": "cfc0f8cd"
      },
      "outputs": [],
      "source": [
        "# SVM\n",
        "from sklearn.svm import SVC"
      ]
    },
    {
      "cell_type": "code",
      "execution_count": 91,
      "id": "368c89be",
      "metadata": {
        "colab": {
          "base_uri": "https://localhost:8080/",
          "height": 270
        },
        "id": "368c89be",
        "outputId": "e820f5d9-f651-42f8-f0ff-532e70f637b8"
      },
      "outputs": [
        {
          "output_type": "execute_result",
          "data": {
            "text/plain": [
              "   STEEL_KIND  PT_THICK  PT_WIDTH  PT_LENGTH  PT_WEIGHT  FUR_HZ_TEMP  \\\n",
              "0   -0.205907  0.537573  0.588810  -1.279914  -1.043582     0.700686   \n",
              "1   -0.205907  1.999436  0.610765  -1.740969  -1.017347    -0.740713   \n",
              "2   -0.205907  2.393014 -0.157678  -1.787271  -1.036317    -1.557506   \n",
              "3   -0.205907  2.393014 -0.606768  -1.472014   0.016696    -1.413366   \n",
              "4   -0.205907  2.393014 -0.606768  -1.469619   0.020732    -1.077040   \n",
              "\n",
              "   FUR_HZ_TIME  FUR_SZ_TEMP  FUR_SZ_TIME  FUR_TIME  FUR_EXTEMP  \\\n",
              "0    -1.046094    -0.728704     0.367443 -0.823824   -0.935181   \n",
              "1     0.993903    -1.014526    -0.019666  1.254012   -0.935181   \n",
              "2    -0.237130    -1.357512    -0.578825 -0.204894   -1.328531   \n",
              "3     0.607007    -1.414676    -0.578825 -0.558568   -1.328531   \n",
              "4     0.290456    -1.414676     0.066358  0.082466   -1.159953   \n",
              "\n",
              "   ROLLING_TEMP_T5       HSB  ROLLING_DESCALING   RATE_HZ   RATE_SZ  \n",
              "0        -0.924116  0.220294          -0.201215  1.515057 -0.670587  \n",
              "1        -1.486818  0.220294          -1.437995 -1.175352 -0.327746  \n",
              "2        -2.764306  0.220294          -1.437995 -0.134249  0.350369  \n",
              "3        -1.502027  0.220294          -1.437995 -0.945149  0.346853  \n",
              "4        -1.258696  0.220294          -1.437995 -0.668237 -0.433840  "
            ],
            "text/html": [
              "\n",
              "  <div id=\"df-b87b90aa-a192-4009-bf22-7f38e277063c\">\n",
              "    <div class=\"colab-df-container\">\n",
              "      <div>\n",
              "<style scoped>\n",
              "    .dataframe tbody tr th:only-of-type {\n",
              "        vertical-align: middle;\n",
              "    }\n",
              "\n",
              "    .dataframe tbody tr th {\n",
              "        vertical-align: top;\n",
              "    }\n",
              "\n",
              "    .dataframe thead th {\n",
              "        text-align: right;\n",
              "    }\n",
              "</style>\n",
              "<table border=\"1\" class=\"dataframe\">\n",
              "  <thead>\n",
              "    <tr style=\"text-align: right;\">\n",
              "      <th></th>\n",
              "      <th>STEEL_KIND</th>\n",
              "      <th>PT_THICK</th>\n",
              "      <th>PT_WIDTH</th>\n",
              "      <th>PT_LENGTH</th>\n",
              "      <th>PT_WEIGHT</th>\n",
              "      <th>FUR_HZ_TEMP</th>\n",
              "      <th>FUR_HZ_TIME</th>\n",
              "      <th>FUR_SZ_TEMP</th>\n",
              "      <th>FUR_SZ_TIME</th>\n",
              "      <th>FUR_TIME</th>\n",
              "      <th>FUR_EXTEMP</th>\n",
              "      <th>ROLLING_TEMP_T5</th>\n",
              "      <th>HSB</th>\n",
              "      <th>ROLLING_DESCALING</th>\n",
              "      <th>RATE_HZ</th>\n",
              "      <th>RATE_SZ</th>\n",
              "    </tr>\n",
              "  </thead>\n",
              "  <tbody>\n",
              "    <tr>\n",
              "      <th>0</th>\n",
              "      <td>-0.205907</td>\n",
              "      <td>0.537573</td>\n",
              "      <td>0.588810</td>\n",
              "      <td>-1.279914</td>\n",
              "      <td>-1.043582</td>\n",
              "      <td>0.700686</td>\n",
              "      <td>-1.046094</td>\n",
              "      <td>-0.728704</td>\n",
              "      <td>0.367443</td>\n",
              "      <td>-0.823824</td>\n",
              "      <td>-0.935181</td>\n",
              "      <td>-0.924116</td>\n",
              "      <td>0.220294</td>\n",
              "      <td>-0.201215</td>\n",
              "      <td>1.515057</td>\n",
              "      <td>-0.670587</td>\n",
              "    </tr>\n",
              "    <tr>\n",
              "      <th>1</th>\n",
              "      <td>-0.205907</td>\n",
              "      <td>1.999436</td>\n",
              "      <td>0.610765</td>\n",
              "      <td>-1.740969</td>\n",
              "      <td>-1.017347</td>\n",
              "      <td>-0.740713</td>\n",
              "      <td>0.993903</td>\n",
              "      <td>-1.014526</td>\n",
              "      <td>-0.019666</td>\n",
              "      <td>1.254012</td>\n",
              "      <td>-0.935181</td>\n",
              "      <td>-1.486818</td>\n",
              "      <td>0.220294</td>\n",
              "      <td>-1.437995</td>\n",
              "      <td>-1.175352</td>\n",
              "      <td>-0.327746</td>\n",
              "    </tr>\n",
              "    <tr>\n",
              "      <th>2</th>\n",
              "      <td>-0.205907</td>\n",
              "      <td>2.393014</td>\n",
              "      <td>-0.157678</td>\n",
              "      <td>-1.787271</td>\n",
              "      <td>-1.036317</td>\n",
              "      <td>-1.557506</td>\n",
              "      <td>-0.237130</td>\n",
              "      <td>-1.357512</td>\n",
              "      <td>-0.578825</td>\n",
              "      <td>-0.204894</td>\n",
              "      <td>-1.328531</td>\n",
              "      <td>-2.764306</td>\n",
              "      <td>0.220294</td>\n",
              "      <td>-1.437995</td>\n",
              "      <td>-0.134249</td>\n",
              "      <td>0.350369</td>\n",
              "    </tr>\n",
              "    <tr>\n",
              "      <th>3</th>\n",
              "      <td>-0.205907</td>\n",
              "      <td>2.393014</td>\n",
              "      <td>-0.606768</td>\n",
              "      <td>-1.472014</td>\n",
              "      <td>0.016696</td>\n",
              "      <td>-1.413366</td>\n",
              "      <td>0.607007</td>\n",
              "      <td>-1.414676</td>\n",
              "      <td>-0.578825</td>\n",
              "      <td>-0.558568</td>\n",
              "      <td>-1.328531</td>\n",
              "      <td>-1.502027</td>\n",
              "      <td>0.220294</td>\n",
              "      <td>-1.437995</td>\n",
              "      <td>-0.945149</td>\n",
              "      <td>0.346853</td>\n",
              "    </tr>\n",
              "    <tr>\n",
              "      <th>4</th>\n",
              "      <td>-0.205907</td>\n",
              "      <td>2.393014</td>\n",
              "      <td>-0.606768</td>\n",
              "      <td>-1.469619</td>\n",
              "      <td>0.020732</td>\n",
              "      <td>-1.077040</td>\n",
              "      <td>0.290456</td>\n",
              "      <td>-1.414676</td>\n",
              "      <td>0.066358</td>\n",
              "      <td>0.082466</td>\n",
              "      <td>-1.159953</td>\n",
              "      <td>-1.258696</td>\n",
              "      <td>0.220294</td>\n",
              "      <td>-1.437995</td>\n",
              "      <td>-0.668237</td>\n",
              "      <td>-0.433840</td>\n",
              "    </tr>\n",
              "  </tbody>\n",
              "</table>\n",
              "</div>\n",
              "      <button class=\"colab-df-convert\" onclick=\"convertToInteractive('df-b87b90aa-a192-4009-bf22-7f38e277063c')\"\n",
              "              title=\"Convert this dataframe to an interactive table.\"\n",
              "              style=\"display:none;\">\n",
              "        \n",
              "  <svg xmlns=\"http://www.w3.org/2000/svg\" height=\"24px\"viewBox=\"0 0 24 24\"\n",
              "       width=\"24px\">\n",
              "    <path d=\"M0 0h24v24H0V0z\" fill=\"none\"/>\n",
              "    <path d=\"M18.56 5.44l.94 2.06.94-2.06 2.06-.94-2.06-.94-.94-2.06-.94 2.06-2.06.94zm-11 1L8.5 8.5l.94-2.06 2.06-.94-2.06-.94L8.5 2.5l-.94 2.06-2.06.94zm10 10l.94 2.06.94-2.06 2.06-.94-2.06-.94-.94-2.06-.94 2.06-2.06.94z\"/><path d=\"M17.41 7.96l-1.37-1.37c-.4-.4-.92-.59-1.43-.59-.52 0-1.04.2-1.43.59L10.3 9.45l-7.72 7.72c-.78.78-.78 2.05 0 2.83L4 21.41c.39.39.9.59 1.41.59.51 0 1.02-.2 1.41-.59l7.78-7.78 2.81-2.81c.8-.78.8-2.07 0-2.86zM5.41 20L4 18.59l7.72-7.72 1.47 1.35L5.41 20z\"/>\n",
              "  </svg>\n",
              "      </button>\n",
              "      \n",
              "  <style>\n",
              "    .colab-df-container {\n",
              "      display:flex;\n",
              "      flex-wrap:wrap;\n",
              "      gap: 12px;\n",
              "    }\n",
              "\n",
              "    .colab-df-convert {\n",
              "      background-color: #E8F0FE;\n",
              "      border: none;\n",
              "      border-radius: 50%;\n",
              "      cursor: pointer;\n",
              "      display: none;\n",
              "      fill: #1967D2;\n",
              "      height: 32px;\n",
              "      padding: 0 0 0 0;\n",
              "      width: 32px;\n",
              "    }\n",
              "\n",
              "    .colab-df-convert:hover {\n",
              "      background-color: #E2EBFA;\n",
              "      box-shadow: 0px 1px 2px rgba(60, 64, 67, 0.3), 0px 1px 3px 1px rgba(60, 64, 67, 0.15);\n",
              "      fill: #174EA6;\n",
              "    }\n",
              "\n",
              "    [theme=dark] .colab-df-convert {\n",
              "      background-color: #3B4455;\n",
              "      fill: #D2E3FC;\n",
              "    }\n",
              "\n",
              "    [theme=dark] .colab-df-convert:hover {\n",
              "      background-color: #434B5C;\n",
              "      box-shadow: 0px 1px 3px 1px rgba(0, 0, 0, 0.15);\n",
              "      filter: drop-shadow(0px 1px 2px rgba(0, 0, 0, 0.3));\n",
              "      fill: #FFFFFF;\n",
              "    }\n",
              "  </style>\n",
              "\n",
              "      <script>\n",
              "        const buttonEl =\n",
              "          document.querySelector('#df-b87b90aa-a192-4009-bf22-7f38e277063c button.colab-df-convert');\n",
              "        buttonEl.style.display =\n",
              "          google.colab.kernel.accessAllowed ? 'block' : 'none';\n",
              "\n",
              "        async function convertToInteractive(key) {\n",
              "          const element = document.querySelector('#df-b87b90aa-a192-4009-bf22-7f38e277063c');\n",
              "          const dataTable =\n",
              "            await google.colab.kernel.invokeFunction('convertToInteractive',\n",
              "                                                     [key], {});\n",
              "          if (!dataTable) return;\n",
              "\n",
              "          const docLinkHtml = 'Like what you see? Visit the ' +\n",
              "            '<a target=\"_blank\" href=https://colab.research.google.com/notebooks/data_table.ipynb>data table notebook</a>'\n",
              "            + ' to learn more about interactive tables.';\n",
              "          element.innerHTML = '';\n",
              "          dataTable['output_type'] = 'display_data';\n",
              "          await google.colab.output.renderOutput(dataTable, element);\n",
              "          const docLink = document.createElement('div');\n",
              "          docLink.innerHTML = docLinkHtml;\n",
              "          element.appendChild(docLink);\n",
              "        }\n",
              "      </script>\n",
              "    </div>\n",
              "  </div>\n",
              "  "
            ]
          },
          "metadata": {},
          "execution_count": 91
        }
      ],
      "source": [
        "scaler = StandardScaler()\n",
        "df_scaled = scaler.fit_transform(df_raw_x)\n",
        "df_scaled = pd.DataFrame(df_scaled, columns = v_feature_name)\n",
        "df_scaled.head()"
      ]
    },
    {
      "cell_type": "code",
      "execution_count": 92,
      "id": "be72d308",
      "metadata": {
        "id": "be72d308"
      },
      "outputs": [],
      "source": [
        "# Data Split\n",
        "random = 100\n",
        "df_scaled_train_x, df_scaled_test_x, df_scaled_train_y, df_scaled_test_y = train_test_split(df_scaled, df_raw_y, test_size = 0.4, random_state = random)"
      ]
    },
    {
      "cell_type": "code",
      "execution_count": 93,
      "id": "3fd2cbf2",
      "metadata": {
        "colab": {
          "base_uri": "https://localhost:8080/"
        },
        "id": "3fd2cbf2",
        "outputId": "c65fea30-f456-4515-9f92-e5903f7b5e79"
      },
      "outputs": [
        {
          "output_type": "stream",
          "name": "stdout",
          "text": [
            "best estimator model: \n",
            " SVC(C=1.7000000000000002, gamma=0.05, random_state=100)\n",
            "\n",
            " best parameter: \n",
            " {'C': 1.7000000000000002, 'gamma': 0.05}\n",
            "\n",
            " best score: \n",
            " 0.904\n"
          ]
        }
      ],
      "source": [
        "estimator = SVC(random_state=random)\n",
        "para_c = [c*0.1 for c in range(1,21)]\n",
        "para_gamma = [0.05*gamma for gamma in range(1,15)]\n",
        "param_gird = {\"C\" : para_c, \"gamma\" : para_gamma}\n",
        "\n",
        "grid_svm = GridSearchCV(estimator, param_gird, scoring=\"accuracy\", n_jobs = -1)\n",
        "grid_svm.fit(df_scaled_train_x, df_scaled_train_y)\n",
        "print(\"best estimator model: \\n {0}\".format(grid_svm.best_estimator_))\n",
        "print(\"\\n best parameter: \\n {}\".format(grid_svm.best_params_))\n",
        "print(\"\\n best score: \\n {}\".format(grid_svm.best_score_.round(3)))"
      ]
    },
    {
      "cell_type": "code",
      "execution_count": 94,
      "id": "23953362",
      "metadata": {
        "id": "23953362"
      },
      "outputs": [],
      "source": [
        "# train_acc = []\n",
        "# test_acc = []\n",
        "\n",
        "# para_c = [c*0.1 for c in range(1,21)]\n",
        "\n",
        "# for v_C in para_c:\n",
        "#     svm_c = SVC(random_state = random, C = v_C)\n",
        "#     svm_c.fit(df_train_x, df_train_y)\n",
        "#     train_acc.append(svm_c.score(df_train_x, df_train_y))\n",
        "#     test_acc.append(svm_c.score(df_test_x, df_test_y))\n",
        "\n",
        "# # 결과 저장\n",
        "# df_acc_C = pd.DataFrame()\n",
        "# df_acc_C[\"C\"] = para_c\n",
        "# df_acc_C[\"TrainScore\"] = train_acc\n",
        "# df_acc_C[\"TestScore\"] = test_acc\n",
        "\n",
        "# df_acc_C.round(3)\n",
        "\n",
        "# # 그래프\n",
        "# plt.plot(para_c, train_acc, linestyle = \"-\", label = \"TrainAccuracy\")\n",
        "# plt.plot(para_c, test_acc, linestyle = \"--\", label = \"TestAccuracy\")\n",
        "# plt.ylabel(\"ACC\")\n",
        "# plt.xlabel(\"C\")\n",
        "# plt.legend()"
      ]
    },
    {
      "cell_type": "code",
      "execution_count": 95,
      "id": "660c40a2",
      "metadata": {
        "id": "660c40a2"
      },
      "outputs": [],
      "source": [
        "# train_acc = []\n",
        "# test_acc = []\n",
        "\n",
        "# para_gamma = [0.05*gamma for gamma in range(1,15)]\n",
        "\n",
        "# for v_gamma in para_gamma:\n",
        "#     svm_gamma = SVC(random_state = random, gamma = v_gamma)\n",
        "#     svm_gamma.fit(df_train_x, df_train_y)\n",
        "#     train_acc.append(svm_gamma.score(df_train_x, df_train_y))\n",
        "#     test_acc.append(svm_gamma.score(df_test_x, df_test_y))\n",
        "\n",
        "# # 결과 저장\n",
        "# df_acc_gamma = pd.DataFrame()\n",
        "# df_acc_gamma[\"C\"] = para_gamma\n",
        "# df_acc_gamma[\"TrainScore\"] = train_acc\n",
        "# df_acc_gamma[\"TestScore\"] = test_acc\n",
        "\n",
        "# df_acc_gamma.round(3)\n",
        "\n",
        "# # 그래프\n",
        "# plt.plot(para_gamma, train_acc, linestyle = \"-\", label = \"TrainAccuracy\")\n",
        "# plt.plot(para_gamma, test_acc, linestyle = \"--\", label = \"TestAccuracy\")\n",
        "# plt.ylabel(\"ACC\")\n",
        "# plt.xlabel(\"Gamma\")\n",
        "# plt.legend()"
      ]
    },
    {
      "cell_type": "code",
      "execution_count": 96,
      "id": "34247d0f",
      "metadata": {
        "colab": {
          "base_uri": "https://localhost:8080/"
        },
        "id": "34247d0f",
        "outputId": "10c8a941-07d4-4c7a-a0f0-ddef37ebcdcc"
      },
      "outputs": [
        {
          "output_type": "stream",
          "name": "stdout",
          "text": [
            "Accuracy on train set : 0.934\n",
            "Accuracy on test set : 0.906\n"
          ]
        }
      ],
      "source": [
        "svc_final = SVC(gamma = 0.05, C = 1.7, random_state = random)\n",
        "svc_final.fit(df_scaled_train_x, df_train_y)\n",
        "y_pred = svc_final.predict(df_scaled_test_x)\n",
        "# ACC\n",
        "print(\"Accuracy on train set : {:.3f}\".format(svc_final.score(df_scaled_train_x, df_train_y)))\n",
        "print(\"Accuracy on test set : {:.3f}\".format(svc_final.score(df_scaled_test_x, df_test_y)))"
      ]
    },
    {
      "cell_type": "code",
      "execution_count": 97,
      "id": "37171057",
      "metadata": {
        "colab": {
          "base_uri": "https://localhost:8080/"
        },
        "id": "37171057",
        "outputId": "ea368392-49e2-435b-84a6-4a7e2dfc174c"
      },
      "outputs": [
        {
          "output_type": "stream",
          "name": "stdout",
          "text": [
            "Confusion matrix : \n",
            "[[180   6]\n",
            " [ 21  79]]\n",
            "              precision    recall  f1-score   support\n",
            "\n",
            "           0      0.896     0.968     0.930       186\n",
            "           1      0.929     0.790     0.854       100\n",
            "\n",
            "    accuracy                          0.906       286\n",
            "   macro avg      0.912     0.879     0.892       286\n",
            "weighted avg      0.907     0.906     0.904       286\n",
            "\n"
          ]
        }
      ],
      "source": [
        "# confusion matrix\n",
        "print(\"Confusion matrix : \\n{}\".format(confusion_matrix(df_test_y, y_pred)))\n",
        "# 목표변수의 빈도 불균형 : f1 score\n",
        "print(classification_report(df_test_y, y_pred, digits=3))"
      ]
    },
    {
      "cell_type": "markdown",
      "id": "f32f4cf2",
      "metadata": {
        "id": "f32f4cf2"
      },
      "source": [
        "## KNN"
      ]
    },
    {
      "cell_type": "code",
      "execution_count": 98,
      "id": "b2a0723f",
      "metadata": {
        "id": "b2a0723f"
      },
      "outputs": [],
      "source": [
        "# KNN\n",
        "from sklearn.neighbors import KNeighborsClassifier"
      ]
    },
    {
      "cell_type": "code",
      "execution_count": 99,
      "id": "a5e26437",
      "metadata": {
        "colab": {
          "base_uri": "https://localhost:8080/",
          "height": 896
        },
        "id": "a5e26437",
        "outputId": "b6f36c12-221f-40c7-9ef2-955b4e4cefde"
      },
      "outputs": [
        {
          "output_type": "execute_result",
          "data": {
            "text/plain": [
              "    Neighbors  TrainScore  TestScore\n",
              "0           3       0.932      0.885\n",
              "1           4       0.913      0.878\n",
              "2           5       0.909      0.888\n",
              "3           6       0.909      0.888\n",
              "4           7       0.906      0.885\n",
              "5           8       0.899      0.874\n",
              "6           9       0.902      0.874\n",
              "7          10       0.895      0.878\n",
              "8          11       0.883      0.888\n",
              "9          12       0.883      0.874\n",
              "10         13       0.878      0.881\n",
              "11         14       0.876      0.874\n",
              "12         15       0.881      0.892\n",
              "13         16       0.864      0.871\n",
              "14         17       0.864      0.878\n",
              "15         18       0.859      0.857\n",
              "16         19       0.857      0.867\n",
              "17         20       0.845      0.864\n",
              "18         21       0.852      0.871\n",
              "19         22       0.852      0.850\n",
              "20         23       0.855      0.853\n",
              "21         24       0.845      0.846\n",
              "22         25       0.850      0.850\n",
              "23         26       0.841      0.843\n",
              "24         27       0.852      0.850\n",
              "25         28       0.850      0.836\n",
              "26         29       0.845      0.843"
            ],
            "text/html": [
              "\n",
              "  <div id=\"df-1abee620-f6a4-46cb-8c71-656eb4741a0f\">\n",
              "    <div class=\"colab-df-container\">\n",
              "      <div>\n",
              "<style scoped>\n",
              "    .dataframe tbody tr th:only-of-type {\n",
              "        vertical-align: middle;\n",
              "    }\n",
              "\n",
              "    .dataframe tbody tr th {\n",
              "        vertical-align: top;\n",
              "    }\n",
              "\n",
              "    .dataframe thead th {\n",
              "        text-align: right;\n",
              "    }\n",
              "</style>\n",
              "<table border=\"1\" class=\"dataframe\">\n",
              "  <thead>\n",
              "    <tr style=\"text-align: right;\">\n",
              "      <th></th>\n",
              "      <th>Neighbors</th>\n",
              "      <th>TrainScore</th>\n",
              "      <th>TestScore</th>\n",
              "    </tr>\n",
              "  </thead>\n",
              "  <tbody>\n",
              "    <tr>\n",
              "      <th>0</th>\n",
              "      <td>3</td>\n",
              "      <td>0.932</td>\n",
              "      <td>0.885</td>\n",
              "    </tr>\n",
              "    <tr>\n",
              "      <th>1</th>\n",
              "      <td>4</td>\n",
              "      <td>0.913</td>\n",
              "      <td>0.878</td>\n",
              "    </tr>\n",
              "    <tr>\n",
              "      <th>2</th>\n",
              "      <td>5</td>\n",
              "      <td>0.909</td>\n",
              "      <td>0.888</td>\n",
              "    </tr>\n",
              "    <tr>\n",
              "      <th>3</th>\n",
              "      <td>6</td>\n",
              "      <td>0.909</td>\n",
              "      <td>0.888</td>\n",
              "    </tr>\n",
              "    <tr>\n",
              "      <th>4</th>\n",
              "      <td>7</td>\n",
              "      <td>0.906</td>\n",
              "      <td>0.885</td>\n",
              "    </tr>\n",
              "    <tr>\n",
              "      <th>5</th>\n",
              "      <td>8</td>\n",
              "      <td>0.899</td>\n",
              "      <td>0.874</td>\n",
              "    </tr>\n",
              "    <tr>\n",
              "      <th>6</th>\n",
              "      <td>9</td>\n",
              "      <td>0.902</td>\n",
              "      <td>0.874</td>\n",
              "    </tr>\n",
              "    <tr>\n",
              "      <th>7</th>\n",
              "      <td>10</td>\n",
              "      <td>0.895</td>\n",
              "      <td>0.878</td>\n",
              "    </tr>\n",
              "    <tr>\n",
              "      <th>8</th>\n",
              "      <td>11</td>\n",
              "      <td>0.883</td>\n",
              "      <td>0.888</td>\n",
              "    </tr>\n",
              "    <tr>\n",
              "      <th>9</th>\n",
              "      <td>12</td>\n",
              "      <td>0.883</td>\n",
              "      <td>0.874</td>\n",
              "    </tr>\n",
              "    <tr>\n",
              "      <th>10</th>\n",
              "      <td>13</td>\n",
              "      <td>0.878</td>\n",
              "      <td>0.881</td>\n",
              "    </tr>\n",
              "    <tr>\n",
              "      <th>11</th>\n",
              "      <td>14</td>\n",
              "      <td>0.876</td>\n",
              "      <td>0.874</td>\n",
              "    </tr>\n",
              "    <tr>\n",
              "      <th>12</th>\n",
              "      <td>15</td>\n",
              "      <td>0.881</td>\n",
              "      <td>0.892</td>\n",
              "    </tr>\n",
              "    <tr>\n",
              "      <th>13</th>\n",
              "      <td>16</td>\n",
              "      <td>0.864</td>\n",
              "      <td>0.871</td>\n",
              "    </tr>\n",
              "    <tr>\n",
              "      <th>14</th>\n",
              "      <td>17</td>\n",
              "      <td>0.864</td>\n",
              "      <td>0.878</td>\n",
              "    </tr>\n",
              "    <tr>\n",
              "      <th>15</th>\n",
              "      <td>18</td>\n",
              "      <td>0.859</td>\n",
              "      <td>0.857</td>\n",
              "    </tr>\n",
              "    <tr>\n",
              "      <th>16</th>\n",
              "      <td>19</td>\n",
              "      <td>0.857</td>\n",
              "      <td>0.867</td>\n",
              "    </tr>\n",
              "    <tr>\n",
              "      <th>17</th>\n",
              "      <td>20</td>\n",
              "      <td>0.845</td>\n",
              "      <td>0.864</td>\n",
              "    </tr>\n",
              "    <tr>\n",
              "      <th>18</th>\n",
              "      <td>21</td>\n",
              "      <td>0.852</td>\n",
              "      <td>0.871</td>\n",
              "    </tr>\n",
              "    <tr>\n",
              "      <th>19</th>\n",
              "      <td>22</td>\n",
              "      <td>0.852</td>\n",
              "      <td>0.850</td>\n",
              "    </tr>\n",
              "    <tr>\n",
              "      <th>20</th>\n",
              "      <td>23</td>\n",
              "      <td>0.855</td>\n",
              "      <td>0.853</td>\n",
              "    </tr>\n",
              "    <tr>\n",
              "      <th>21</th>\n",
              "      <td>24</td>\n",
              "      <td>0.845</td>\n",
              "      <td>0.846</td>\n",
              "    </tr>\n",
              "    <tr>\n",
              "      <th>22</th>\n",
              "      <td>25</td>\n",
              "      <td>0.850</td>\n",
              "      <td>0.850</td>\n",
              "    </tr>\n",
              "    <tr>\n",
              "      <th>23</th>\n",
              "      <td>26</td>\n",
              "      <td>0.841</td>\n",
              "      <td>0.843</td>\n",
              "    </tr>\n",
              "    <tr>\n",
              "      <th>24</th>\n",
              "      <td>27</td>\n",
              "      <td>0.852</td>\n",
              "      <td>0.850</td>\n",
              "    </tr>\n",
              "    <tr>\n",
              "      <th>25</th>\n",
              "      <td>28</td>\n",
              "      <td>0.850</td>\n",
              "      <td>0.836</td>\n",
              "    </tr>\n",
              "    <tr>\n",
              "      <th>26</th>\n",
              "      <td>29</td>\n",
              "      <td>0.845</td>\n",
              "      <td>0.843</td>\n",
              "    </tr>\n",
              "  </tbody>\n",
              "</table>\n",
              "</div>\n",
              "      <button class=\"colab-df-convert\" onclick=\"convertToInteractive('df-1abee620-f6a4-46cb-8c71-656eb4741a0f')\"\n",
              "              title=\"Convert this dataframe to an interactive table.\"\n",
              "              style=\"display:none;\">\n",
              "        \n",
              "  <svg xmlns=\"http://www.w3.org/2000/svg\" height=\"24px\"viewBox=\"0 0 24 24\"\n",
              "       width=\"24px\">\n",
              "    <path d=\"M0 0h24v24H0V0z\" fill=\"none\"/>\n",
              "    <path d=\"M18.56 5.44l.94 2.06.94-2.06 2.06-.94-2.06-.94-.94-2.06-.94 2.06-2.06.94zm-11 1L8.5 8.5l.94-2.06 2.06-.94-2.06-.94L8.5 2.5l-.94 2.06-2.06.94zm10 10l.94 2.06.94-2.06 2.06-.94-2.06-.94-.94-2.06-.94 2.06-2.06.94z\"/><path d=\"M17.41 7.96l-1.37-1.37c-.4-.4-.92-.59-1.43-.59-.52 0-1.04.2-1.43.59L10.3 9.45l-7.72 7.72c-.78.78-.78 2.05 0 2.83L4 21.41c.39.39.9.59 1.41.59.51 0 1.02-.2 1.41-.59l7.78-7.78 2.81-2.81c.8-.78.8-2.07 0-2.86zM5.41 20L4 18.59l7.72-7.72 1.47 1.35L5.41 20z\"/>\n",
              "  </svg>\n",
              "      </button>\n",
              "      \n",
              "  <style>\n",
              "    .colab-df-container {\n",
              "      display:flex;\n",
              "      flex-wrap:wrap;\n",
              "      gap: 12px;\n",
              "    }\n",
              "\n",
              "    .colab-df-convert {\n",
              "      background-color: #E8F0FE;\n",
              "      border: none;\n",
              "      border-radius: 50%;\n",
              "      cursor: pointer;\n",
              "      display: none;\n",
              "      fill: #1967D2;\n",
              "      height: 32px;\n",
              "      padding: 0 0 0 0;\n",
              "      width: 32px;\n",
              "    }\n",
              "\n",
              "    .colab-df-convert:hover {\n",
              "      background-color: #E2EBFA;\n",
              "      box-shadow: 0px 1px 2px rgba(60, 64, 67, 0.3), 0px 1px 3px 1px rgba(60, 64, 67, 0.15);\n",
              "      fill: #174EA6;\n",
              "    }\n",
              "\n",
              "    [theme=dark] .colab-df-convert {\n",
              "      background-color: #3B4455;\n",
              "      fill: #D2E3FC;\n",
              "    }\n",
              "\n",
              "    [theme=dark] .colab-df-convert:hover {\n",
              "      background-color: #434B5C;\n",
              "      box-shadow: 0px 1px 3px 1px rgba(0, 0, 0, 0.15);\n",
              "      filter: drop-shadow(0px 1px 2px rgba(0, 0, 0, 0.3));\n",
              "      fill: #FFFFFF;\n",
              "    }\n",
              "  </style>\n",
              "\n",
              "      <script>\n",
              "        const buttonEl =\n",
              "          document.querySelector('#df-1abee620-f6a4-46cb-8c71-656eb4741a0f button.colab-df-convert');\n",
              "        buttonEl.style.display =\n",
              "          google.colab.kernel.accessAllowed ? 'block' : 'none';\n",
              "\n",
              "        async function convertToInteractive(key) {\n",
              "          const element = document.querySelector('#df-1abee620-f6a4-46cb-8c71-656eb4741a0f');\n",
              "          const dataTable =\n",
              "            await google.colab.kernel.invokeFunction('convertToInteractive',\n",
              "                                                     [key], {});\n",
              "          if (!dataTable) return;\n",
              "\n",
              "          const docLinkHtml = 'Like what you see? Visit the ' +\n",
              "            '<a target=\"_blank\" href=https://colab.research.google.com/notebooks/data_table.ipynb>data table notebook</a>'\n",
              "            + ' to learn more about interactive tables.';\n",
              "          element.innerHTML = '';\n",
              "          dataTable['output_type'] = 'display_data';\n",
              "          await google.colab.output.renderOutput(dataTable, element);\n",
              "          const docLink = document.createElement('div');\n",
              "          docLink.innerHTML = docLinkHtml;\n",
              "          element.appendChild(docLink);\n",
              "        }\n",
              "      </script>\n",
              "    </div>\n",
              "  </div>\n",
              "  "
            ]
          },
          "metadata": {},
          "execution_count": 99
        }
      ],
      "source": [
        "train_acc = []\n",
        "test_acc = []\n",
        "# 0.01 ~ 100\n",
        "para_n = [n for n in range(3,30)]\n",
        "\n",
        "for v_para_n in para_n:\n",
        "    knn_c = KNeighborsClassifier(n_neighbors = v_para_n)\n",
        "    knn_c.fit(df_scaled_train_x, df_train_y)\n",
        "    train_acc.append(knn_c.score(df_scaled_train_x, df_train_y))\n",
        "    test_acc.append(knn_c.score(df_scaled_test_x, df_test_y))\n",
        "\n",
        "# 결과 저장\n",
        "df_acc_n = pd.DataFrame()\n",
        "df_acc_n[\"Neighbors\"] = para_n\n",
        "df_acc_n[\"TrainScore\"] = train_acc\n",
        "df_acc_n[\"TestScore\"] = test_acc\n",
        "\n",
        "df_acc_n.round(3)"
      ]
    },
    {
      "cell_type": "code",
      "execution_count": 100,
      "id": "eb2af340",
      "metadata": {
        "colab": {
          "base_uri": "https://localhost:8080/",
          "height": 297
        },
        "id": "eb2af340",
        "outputId": "ee19349e-8835-4306-9516-e9ae7dc7589e"
      },
      "outputs": [
        {
          "output_type": "execute_result",
          "data": {
            "text/plain": [
              "<matplotlib.legend.Legend at 0x7f52db31b340>"
            ]
          },
          "metadata": {},
          "execution_count": 100
        },
        {
          "output_type": "display_data",
          "data": {
            "text/plain": [
              "<Figure size 432x288 with 1 Axes>"
            ],
            "image/png": "[encoded data removed]"
          },
          "metadata": {
            "needs_background": "light"
          }
        }
      ],
      "source": [
        "# 그래프\n",
        "plt.plot(para_n, train_acc, linestyle = \"-\", label = \"TrainAccuracy\")\n",
        "plt.plot(para_n, test_acc, linestyle = \"--\", label = \"TestAccuracy\")\n",
        "plt.ylabel(\"ACC\")\n",
        "plt.xlabel(\"Neighbors\")\n",
        "plt.legend()"
      ]
    },
    {
      "cell_type": "code",
      "execution_count": 101,
      "id": "a22c33d8",
      "metadata": {
        "colab": {
          "base_uri": "https://localhost:8080/",
          "height": 1000
        },
        "id": "a22c33d8",
        "outputId": "6ca331aa-4904-4b72-a607-249bf4639f44"
      },
      "outputs": [
        {
          "output_type": "execute_result",
          "data": {
            "text/plain": [
              "    Neighbors   Weights  TrainScore  TestScore\n",
              "0           1   uniform       1.000      0.713\n",
              "1           2   uniform       0.867      0.699\n",
              "2           3   uniform       0.841      0.699\n",
              "3           4   uniform       0.801      0.713\n",
              "4           5   uniform       0.813      0.720\n",
              "5           6   uniform       0.775      0.692\n",
              "6           7   uniform       0.796      0.706\n",
              "7           8   uniform       0.766      0.720\n",
              "8           9   uniform       0.768      0.710\n",
              "9          10   uniform       0.740      0.710\n",
              "10         11   uniform       0.756      0.713\n",
              "11         12   uniform       0.745      0.689\n",
              "12         13   uniform       0.742      0.706\n",
              "13         14   uniform       0.733      0.696\n",
              "14         15   uniform       0.742      0.706\n",
              "15         16   uniform       0.714      0.661\n",
              "16         17   uniform       0.705      0.643\n",
              "17         18   uniform       0.721      0.643\n",
              "18         19   uniform       0.721      0.657\n",
              "19         20   uniform       0.733      0.661\n",
              "20         21   uniform       0.721      0.647\n",
              "21         22   uniform       0.735      0.643\n",
              "22         23   uniform       0.724      0.661\n",
              "23         24   uniform       0.726      0.664\n",
              "24         25   uniform       0.733      0.657\n",
              "25         26   uniform       0.719      0.675\n",
              "26         27   uniform       0.721      0.675\n",
              "27         28   uniform       0.721      0.664\n",
              "28         29   uniform       0.719      0.654\n",
              "29         30   uniform       0.717      0.668\n",
              "30          1  distance       1.000      0.713\n",
              "31          2  distance       1.000      0.713\n",
              "32          3  distance       1.000      0.738\n",
              "33          4  distance       1.000      0.738\n",
              "34          5  distance       1.000      0.727\n",
              "35          6  distance       1.000      0.738\n",
              "36          7  distance       1.000      0.734\n",
              "37          8  distance       1.000      0.738\n",
              "38          9  distance       1.000      0.731\n",
              "39         10  distance       1.000      0.724\n",
              "40         11  distance       1.000      0.724\n",
              "41         12  distance       1.000      0.717\n",
              "42         13  distance       1.000      0.731\n",
              "43         14  distance       1.000      0.727\n",
              "44         15  distance       1.000      0.720\n",
              "45         16  distance       1.000      0.710\n",
              "46         17  distance       1.000      0.710\n",
              "47         18  distance       1.000      0.717\n",
              "48         19  distance       1.000      0.710\n",
              "49         20  distance       1.000      0.706\n",
              "50         21  distance       1.000      0.696\n",
              "51         22  distance       1.000      0.724\n",
              "52         23  distance       1.000      0.710\n",
              "53         24  distance       1.000      0.713\n",
              "54         25  distance       1.000      0.713\n",
              "55         26  distance       1.000      0.717\n",
              "56         27  distance       1.000      0.713\n",
              "57         28  distance       1.000      0.710\n",
              "58         29  distance       1.000      0.710\n",
              "59         30  distance       1.000      0.710"
            ],
            "text/html": [
              "\n",
              "  <div id=\"df-2ac90d05-11a1-49b9-a613-e08d40bcba91\">\n",
              "    <div class=\"colab-df-container\">\n",
              "      <div>\n",
              "<style scoped>\n",
              "    .dataframe tbody tr th:only-of-type {\n",
              "        vertical-align: middle;\n",
              "    }\n",
              "\n",
              "    .dataframe tbody tr th {\n",
              "        vertical-align: top;\n",
              "    }\n",
              "\n",
              "    .dataframe thead th {\n",
              "        text-align: right;\n",
              "    }\n",
              "</style>\n",
              "<table border=\"1\" class=\"dataframe\">\n",
              "  <thead>\n",
              "    <tr style=\"text-align: right;\">\n",
              "      <th></th>\n",
              "      <th>Neighbors</th>\n",
              "      <th>Weights</th>\n",
              "      <th>TrainScore</th>\n",
              "      <th>TestScore</th>\n",
              "    </tr>\n",
              "  </thead>\n",
              "  <tbody>\n",
              "    <tr>\n",
              "      <th>0</th>\n",
              "      <td>1</td>\n",
              "      <td>uniform</td>\n",
              "      <td>1.000</td>\n",
              "      <td>0.713</td>\n",
              "    </tr>\n",
              "    <tr>\n",
              "      <th>1</th>\n",
              "      <td>2</td>\n",
              "      <td>uniform</td>\n",
              "      <td>0.867</td>\n",
              "      <td>0.699</td>\n",
              "    </tr>\n",
              "    <tr>\n",
              "      <th>2</th>\n",
              "      <td>3</td>\n",
              "      <td>uniform</td>\n",
              "      <td>0.841</td>\n",
              "      <td>0.699</td>\n",
              "    </tr>\n",
              "    <tr>\n",
              "      <th>3</th>\n",
              "      <td>4</td>\n",
              "      <td>uniform</td>\n",
              "      <td>0.801</td>\n",
              "      <td>0.713</td>\n",
              "    </tr>\n",
              "    <tr>\n",
              "      <th>4</th>\n",
              "      <td>5</td>\n",
              "      <td>uniform</td>\n",
              "      <td>0.813</td>\n",
              "      <td>0.720</td>\n",
              "    </tr>\n",
              "    <tr>\n",
              "      <th>5</th>\n",
              "      <td>6</td>\n",
              "      <td>uniform</td>\n",
              "      <td>0.775</td>\n",
              "      <td>0.692</td>\n",
              "    </tr>\n",
              "    <tr>\n",
              "      <th>6</th>\n",
              "      <td>7</td>\n",
              "      <td>uniform</td>\n",
              "      <td>0.796</td>\n",
              "      <td>0.706</td>\n",
              "    </tr>\n",
              "    <tr>\n",
              "      <th>7</th>\n",
              "      <td>8</td>\n",
              "      <td>uniform</td>\n",
              "      <td>0.766</td>\n",
              "      <td>0.720</td>\n",
              "    </tr>\n",
              "    <tr>\n",
              "      <th>8</th>\n",
              "      <td>9</td>\n",
              "      <td>uniform</td>\n",
              "      <td>0.768</td>\n",
              "      <td>0.710</td>\n",
              "    </tr>\n",
              "    <tr>\n",
              "      <th>9</th>\n",
              "      <td>10</td>\n",
              "      <td>uniform</td>\n",
              "      <td>0.740</td>\n",
              "      <td>0.710</td>\n",
              "    </tr>\n",
              "    <tr>\n",
              "      <th>10</th>\n",
              "      <td>11</td>\n",
              "      <td>uniform</td>\n",
              "      <td>0.756</td>\n",
              "      <td>0.713</td>\n",
              "    </tr>\n",
              "    <tr>\n",
              "      <th>11</th>\n",
              "      <td>12</td>\n",
              "      <td>uniform</td>\n",
              "      <td>0.745</td>\n",
              "      <td>0.689</td>\n",
              "    </tr>\n",
              "    <tr>\n",
              "      <th>12</th>\n",
              "      <td>13</td>\n",
              "      <td>uniform</td>\n",
              "      <td>0.742</td>\n",
              "      <td>0.706</td>\n",
              "    </tr>\n",
              "    <tr>\n",
              "      <th>13</th>\n",
              "      <td>14</td>\n",
              "      <td>uniform</td>\n",
              "      <td>0.733</td>\n",
              "      <td>0.696</td>\n",
              "    </tr>\n",
              "    <tr>\n",
              "      <th>14</th>\n",
              "      <td>15</td>\n",
              "      <td>uniform</td>\n",
              "      <td>0.742</td>\n",
              "      <td>0.706</td>\n",
              "    </tr>\n",
              "    <tr>\n",
              "      <th>15</th>\n",
              "      <td>16</td>\n",
              "      <td>uniform</td>\n",
              "      <td>0.714</td>\n",
              "      <td>0.661</td>\n",
              "    </tr>\n",
              "    <tr>\n",
              "      <th>16</th>\n",
              "      <td>17</td>\n",
              "      <td>uniform</td>\n",
              "      <td>0.705</td>\n",
              "      <td>0.643</td>\n",
              "    </tr>\n",
              "    <tr>\n",
              "      <th>17</th>\n",
              "      <td>18</td>\n",
              "      <td>uniform</td>\n",
              "      <td>0.721</td>\n",
              "      <td>0.643</td>\n",
              "    </tr>\n",
              "    <tr>\n",
              "      <th>18</th>\n",
              "      <td>19</td>\n",
              "      <td>uniform</td>\n",
              "      <td>0.721</td>\n",
              "      <td>0.657</td>\n",
              "    </tr>\n",
              "    <tr>\n",
              "      <th>19</th>\n",
              "      <td>20</td>\n",
              "      <td>uniform</td>\n",
              "      <td>0.733</td>\n",
              "      <td>0.661</td>\n",
              "    </tr>\n",
              "    <tr>\n",
              "      <th>20</th>\n",
              "      <td>21</td>\n",
              "      <td>uniform</td>\n",
              "      <td>0.721</td>\n",
              "      <td>0.647</td>\n",
              "    </tr>\n",
              "    <tr>\n",
              "      <th>21</th>\n",
              "      <td>22</td>\n",
              "      <td>uniform</td>\n",
              "      <td>0.735</td>\n",
              "      <td>0.643</td>\n",
              "    </tr>\n",
              "    <tr>\n",
              "      <th>22</th>\n",
              "      <td>23</td>\n",
              "      <td>uniform</td>\n",
              "      <td>0.724</td>\n",
              "      <td>0.661</td>\n",
              "    </tr>\n",
              "    <tr>\n",
              "      <th>23</th>\n",
              "      <td>24</td>\n",
              "      <td>uniform</td>\n",
              "      <td>0.726</td>\n",
              "      <td>0.664</td>\n",
              "    </tr>\n",
              "    <tr>\n",
              "      <th>24</th>\n",
              "      <td>25</td>\n",
              "      <td>uniform</td>\n",
              "      <td>0.733</td>\n",
              "      <td>0.657</td>\n",
              "    </tr>\n",
              "    <tr>\n",
              "      <th>25</th>\n",
              "      <td>26</td>\n",
              "      <td>uniform</td>\n",
              "      <td>0.719</td>\n",
              "      <td>0.675</td>\n",
              "    </tr>\n",
              "    <tr>\n",
              "      <th>26</th>\n",
              "      <td>27</td>\n",
              "      <td>uniform</td>\n",
              "      <td>0.721</td>\n",
              "      <td>0.675</td>\n",
              "    </tr>\n",
              "    <tr>\n",
              "      <th>27</th>\n",
              "      <td>28</td>\n",
              "      <td>uniform</td>\n",
              "      <td>0.721</td>\n",
              "      <td>0.664</td>\n",
              "    </tr>\n",
              "    <tr>\n",
              "      <th>28</th>\n",
              "      <td>29</td>\n",
              "      <td>uniform</td>\n",
              "      <td>0.719</td>\n",
              "      <td>0.654</td>\n",
              "    </tr>\n",
              "    <tr>\n",
              "      <th>29</th>\n",
              "      <td>30</td>\n",
              "      <td>uniform</td>\n",
              "      <td>0.717</td>\n",
              "      <td>0.668</td>\n",
              "    </tr>\n",
              "    <tr>\n",
              "      <th>30</th>\n",
              "      <td>1</td>\n",
              "      <td>distance</td>\n",
              "      <td>1.000</td>\n",
              "      <td>0.713</td>\n",
              "    </tr>\n",
              "    <tr>\n",
              "      <th>31</th>\n",
              "      <td>2</td>\n",
              "      <td>distance</td>\n",
              "      <td>1.000</td>\n",
              "      <td>0.713</td>\n",
              "    </tr>\n",
              "    <tr>\n",
              "      <th>32</th>\n",
              "      <td>3</td>\n",
              "      <td>distance</td>\n",
              "      <td>1.000</td>\n",
              "      <td>0.738</td>\n",
              "    </tr>\n",
              "    <tr>\n",
              "      <th>33</th>\n",
              "      <td>4</td>\n",
              "      <td>distance</td>\n",
              "      <td>1.000</td>\n",
              "      <td>0.738</td>\n",
              "    </tr>\n",
              "    <tr>\n",
              "      <th>34</th>\n",
              "      <td>5</td>\n",
              "      <td>distance</td>\n",
              "      <td>1.000</td>\n",
              "      <td>0.727</td>\n",
              "    </tr>\n",
              "    <tr>\n",
              "      <th>35</th>\n",
              "      <td>6</td>\n",
              "      <td>distance</td>\n",
              "      <td>1.000</td>\n",
              "      <td>0.738</td>\n",
              "    </tr>\n",
              "    <tr>\n",
              "      <th>36</th>\n",
              "      <td>7</td>\n",
              "      <td>distance</td>\n",
              "      <td>1.000</td>\n",
              "      <td>0.734</td>\n",
              "    </tr>\n",
              "    <tr>\n",
              "      <th>37</th>\n",
              "      <td>8</td>\n",
              "      <td>distance</td>\n",
              "      <td>1.000</td>\n",
              "      <td>0.738</td>\n",
              "    </tr>\n",
              "    <tr>\n",
              "      <th>38</th>\n",
              "      <td>9</td>\n",
              "      <td>distance</td>\n",
              "      <td>1.000</td>\n",
              "      <td>0.731</td>\n",
              "    </tr>\n",
              "    <tr>\n",
              "      <th>39</th>\n",
              "      <td>10</td>\n",
              "      <td>distance</td>\n",
              "      <td>1.000</td>\n",
              "      <td>0.724</td>\n",
              "    </tr>\n",
              "    <tr>\n",
              "      <th>40</th>\n",
              "      <td>11</td>\n",
              "      <td>distance</td>\n",
              "      <td>1.000</td>\n",
              "      <td>0.724</td>\n",
              "    </tr>\n",
              "    <tr>\n",
              "      <th>41</th>\n",
              "      <td>12</td>\n",
              "      <td>distance</td>\n",
              "      <td>1.000</td>\n",
              "      <td>0.717</td>\n",
              "    </tr>\n",
              "    <tr>\n",
              "      <th>42</th>\n",
              "      <td>13</td>\n",
              "      <td>distance</td>\n",
              "      <td>1.000</td>\n",
              "      <td>0.731</td>\n",
              "    </tr>\n",
              "    <tr>\n",
              "      <th>43</th>\n",
              "      <td>14</td>\n",
              "      <td>distance</td>\n",
              "      <td>1.000</td>\n",
              "      <td>0.727</td>\n",
              "    </tr>\n",
              "    <tr>\n",
              "      <th>44</th>\n",
              "      <td>15</td>\n",
              "      <td>distance</td>\n",
              "      <td>1.000</td>\n",
              "      <td>0.720</td>\n",
              "    </tr>\n",
              "    <tr>\n",
              "      <th>45</th>\n",
              "      <td>16</td>\n",
              "      <td>distance</td>\n",
              "      <td>1.000</td>\n",
              "      <td>0.710</td>\n",
              "    </tr>\n",
              "    <tr>\n",
              "      <th>46</th>\n",
              "      <td>17</td>\n",
              "      <td>distance</td>\n",
              "      <td>1.000</td>\n",
              "      <td>0.710</td>\n",
              "    </tr>\n",
              "    <tr>\n",
              "      <th>47</th>\n",
              "      <td>18</td>\n",
              "      <td>distance</td>\n",
              "      <td>1.000</td>\n",
              "      <td>0.717</td>\n",
              "    </tr>\n",
              "    <tr>\n",
              "      <th>48</th>\n",
              "      <td>19</td>\n",
              "      <td>distance</td>\n",
              "      <td>1.000</td>\n",
              "      <td>0.710</td>\n",
              "    </tr>\n",
              "    <tr>\n",
              "      <th>49</th>\n",
              "      <td>20</td>\n",
              "      <td>distance</td>\n",
              "      <td>1.000</td>\n",
              "      <td>0.706</td>\n",
              "    </tr>\n",
              "    <tr>\n",
              "      <th>50</th>\n",
              "      <td>21</td>\n",
              "      <td>distance</td>\n",
              "      <td>1.000</td>\n",
              "      <td>0.696</td>\n",
              "    </tr>\n",
              "    <tr>\n",
              "      <th>51</th>\n",
              "      <td>22</td>\n",
              "      <td>distance</td>\n",
              "      <td>1.000</td>\n",
              "      <td>0.724</td>\n",
              "    </tr>\n",
              "    <tr>\n",
              "      <th>52</th>\n",
              "      <td>23</td>\n",
              "      <td>distance</td>\n",
              "      <td>1.000</td>\n",
              "      <td>0.710</td>\n",
              "    </tr>\n",
              "    <tr>\n",
              "      <th>53</th>\n",
              "      <td>24</td>\n",
              "      <td>distance</td>\n",
              "      <td>1.000</td>\n",
              "      <td>0.713</td>\n",
              "    </tr>\n",
              "    <tr>\n",
              "      <th>54</th>\n",
              "      <td>25</td>\n",
              "      <td>distance</td>\n",
              "      <td>1.000</td>\n",
              "      <td>0.713</td>\n",
              "    </tr>\n",
              "    <tr>\n",
              "      <th>55</th>\n",
              "      <td>26</td>\n",
              "      <td>distance</td>\n",
              "      <td>1.000</td>\n",
              "      <td>0.717</td>\n",
              "    </tr>\n",
              "    <tr>\n",
              "      <th>56</th>\n",
              "      <td>27</td>\n",
              "      <td>distance</td>\n",
              "      <td>1.000</td>\n",
              "      <td>0.713</td>\n",
              "    </tr>\n",
              "    <tr>\n",
              "      <th>57</th>\n",
              "      <td>28</td>\n",
              "      <td>distance</td>\n",
              "      <td>1.000</td>\n",
              "      <td>0.710</td>\n",
              "    </tr>\n",
              "    <tr>\n",
              "      <th>58</th>\n",
              "      <td>29</td>\n",
              "      <td>distance</td>\n",
              "      <td>1.000</td>\n",
              "      <td>0.710</td>\n",
              "    </tr>\n",
              "    <tr>\n",
              "      <th>59</th>\n",
              "      <td>30</td>\n",
              "      <td>distance</td>\n",
              "      <td>1.000</td>\n",
              "      <td>0.710</td>\n",
              "    </tr>\n",
              "  </tbody>\n",
              "</table>\n",
              "</div>\n",
              "      <button class=\"colab-df-convert\" onclick=\"convertToInteractive('df-2ac90d05-11a1-49b9-a613-e08d40bcba91')\"\n",
              "              title=\"Convert this dataframe to an interactive table.\"\n",
              "              style=\"display:none;\">\n",
              "        \n",
              "  <svg xmlns=\"http://www.w3.org/2000/svg\" height=\"24px\"viewBox=\"0 0 24 24\"\n",
              "       width=\"24px\">\n",
              "    <path d=\"M0 0h24v24H0V0z\" fill=\"none\"/>\n",
              "    <path d=\"M18.56 5.44l.94 2.06.94-2.06 2.06-.94-2.06-.94-.94-2.06-.94 2.06-2.06.94zm-11 1L8.5 8.5l.94-2.06 2.06-.94-2.06-.94L8.5 2.5l-.94 2.06-2.06.94zm10 10l.94 2.06.94-2.06 2.06-.94-2.06-.94-.94-2.06-.94 2.06-2.06.94z\"/><path d=\"M17.41 7.96l-1.37-1.37c-.4-.4-.92-.59-1.43-.59-.52 0-1.04.2-1.43.59L10.3 9.45l-7.72 7.72c-.78.78-.78 2.05 0 2.83L4 21.41c.39.39.9.59 1.41.59.51 0 1.02-.2 1.41-.59l7.78-7.78 2.81-2.81c.8-.78.8-2.07 0-2.86zM5.41 20L4 18.59l7.72-7.72 1.47 1.35L5.41 20z\"/>\n",
              "  </svg>\n",
              "      </button>\n",
              "      \n",
              "  <style>\n",
              "    .colab-df-container {\n",
              "      display:flex;\n",
              "      flex-wrap:wrap;\n",
              "      gap: 12px;\n",
              "    }\n",
              "\n",
              "    .colab-df-convert {\n",
              "      background-color: #E8F0FE;\n",
              "      border: none;\n",
              "      border-radius: 50%;\n",
              "      cursor: pointer;\n",
              "      display: none;\n",
              "      fill: #1967D2;\n",
              "      height: 32px;\n",
              "      padding: 0 0 0 0;\n",
              "      width: 32px;\n",
              "    }\n",
              "\n",
              "    .colab-df-convert:hover {\n",
              "      background-color: #E2EBFA;\n",
              "      box-shadow: 0px 1px 2px rgba(60, 64, 67, 0.3), 0px 1px 3px 1px rgba(60, 64, 67, 0.15);\n",
              "      fill: #174EA6;\n",
              "    }\n",
              "\n",
              "    [theme=dark] .colab-df-convert {\n",
              "      background-color: #3B4455;\n",
              "      fill: #D2E3FC;\n",
              "    }\n",
              "\n",
              "    [theme=dark] .colab-df-convert:hover {\n",
              "      background-color: #434B5C;\n",
              "      box-shadow: 0px 1px 3px 1px rgba(0, 0, 0, 0.15);\n",
              "      filter: drop-shadow(0px 1px 2px rgba(0, 0, 0, 0.3));\n",
              "      fill: #FFFFFF;\n",
              "    }\n",
              "  </style>\n",
              "\n",
              "      <script>\n",
              "        const buttonEl =\n",
              "          document.querySelector('#df-2ac90d05-11a1-49b9-a613-e08d40bcba91 button.colab-df-convert');\n",
              "        buttonEl.style.display =\n",
              "          google.colab.kernel.accessAllowed ? 'block' : 'none';\n",
              "\n",
              "        async function convertToInteractive(key) {\n",
              "          const element = document.querySelector('#df-2ac90d05-11a1-49b9-a613-e08d40bcba91');\n",
              "          const dataTable =\n",
              "            await google.colab.kernel.invokeFunction('convertToInteractive',\n",
              "                                                     [key], {});\n",
              "          if (!dataTable) return;\n",
              "\n",
              "          const docLinkHtml = 'Like what you see? Visit the ' +\n",
              "            '<a target=\"_blank\" href=https://colab.research.google.com/notebooks/data_table.ipynb>data table notebook</a>'\n",
              "            + ' to learn more about interactive tables.';\n",
              "          element.innerHTML = '';\n",
              "          dataTable['output_type'] = 'display_data';\n",
              "          await google.colab.output.renderOutput(dataTable, element);\n",
              "          const docLink = document.createElement('div');\n",
              "          docLink.innerHTML = docLinkHtml;\n",
              "          element.appendChild(docLink);\n",
              "        }\n",
              "      </script>\n",
              "    </div>\n",
              "  </div>\n",
              "  "
            ]
          },
          "metadata": {},
          "execution_count": 101
        }
      ],
      "source": [
        "train_acc = []\n",
        "test_acc = []\n",
        "\n",
        "para_n = [n for n in range(1,31)]*2\n",
        "para_w = ([\"uniform\"]*30 + ([\"distance\"]*30))\n",
        "\n",
        "for [v_para_n, v_para_w] in zip(para_n, para_w):\n",
        "    knn_w = KNeighborsClassifier(n_neighbors = v_para_n, weights = v_para_w)\n",
        "    knn_w.fit(df_train_x, df_train_y)\n",
        "    train_acc.append(knn_w.score(df_train_x, df_train_y))\n",
        "    test_acc.append(knn_w.score(df_test_x, df_test_y))\n",
        "\n",
        "# 결과 저장\n",
        "df_acc_w = pd.DataFrame()\n",
        "df_acc_w[\"Neighbors\"] = para_n\n",
        "df_acc_w[\"Weights\"] = para_w\n",
        "df_acc_w[\"TrainScore\"] = train_acc\n",
        "df_acc_w[\"TestScore\"] = test_acc\n",
        "\n",
        "df_acc_w.round(3)"
      ]
    },
    {
      "cell_type": "code",
      "execution_count": 102,
      "id": "969a5b81",
      "metadata": {
        "colab": {
          "base_uri": "https://localhost:8080/",
          "height": 297
        },
        "id": "969a5b81",
        "outputId": "535b3c68-deda-4f1c-abc4-b8fb13a76226"
      },
      "outputs": [
        {
          "output_type": "execute_result",
          "data": {
            "text/plain": [
              "<AxesSubplot:xlabel='Neighbors'>"
            ]
          },
          "metadata": {},
          "execution_count": 102
        },
        {
          "output_type": "display_data",
          "data": {
            "text/plain": [
              "<Figure size 432x288 with 1 Axes>"
            ],
            "image/png": "[encoded data removed]"
          },
          "metadata": {
            "needs_background": "light"
          }
        }
      ],
      "source": [
        "# Data Pivot\n",
        "df_acc_w_pivot = df_acc_w.pivot(index=\"Neighbors\", columns='Weights', values = [\"TrainScore\",\"TestScore\"])\n",
        "df_acc_w_pivot\n",
        "# 그래프 \n",
        "level0 = df_acc_w_pivot.columns.get_level_values(0)\n",
        "level1 = df_acc_w_pivot.columns.get_level_values(1)\n",
        "df_acc_w_pivot.columns = level0 + \"_\" + level1\n",
        "df_acc_w_pivot.head()\n",
        "sns.lineplot(data = df_acc_w_pivot)"
      ]
    },
    {
      "cell_type": "code",
      "execution_count": 103,
      "id": "2124cbee",
      "metadata": {
        "scrolled": true,
        "colab": {
          "base_uri": "https://localhost:8080/",
          "height": 1000
        },
        "id": "2124cbee",
        "outputId": "e09cfb05-447b-46b9-9981-3eea1c0cb065"
      },
      "outputs": [
        {
          "output_type": "execute_result",
          "data": {
            "text/plain": [
              "    Neighbors     Metric  TrainScore  TestScore\n",
              "0           1  euclidean       1.000      0.713\n",
              "1           2  euclidean       0.867      0.699\n",
              "2           3  euclidean       0.841      0.699\n",
              "3           4  euclidean       0.801      0.713\n",
              "4           5  euclidean       0.813      0.720\n",
              "5           6  euclidean       0.775      0.692\n",
              "6           7  euclidean       0.796      0.706\n",
              "7           8  euclidean       0.766      0.720\n",
              "8           9  euclidean       0.768      0.710\n",
              "9          10  euclidean       0.740      0.710\n",
              "10         11  euclidean       0.756      0.713\n",
              "11         12  euclidean       0.745      0.689\n",
              "12         13  euclidean       0.742      0.706\n",
              "13         14  euclidean       0.733      0.696\n",
              "14         15  euclidean       0.742      0.706\n",
              "15         16  euclidean       0.714      0.661\n",
              "16         17  euclidean       0.705      0.643\n",
              "17         18  euclidean       0.721      0.643\n",
              "18         19  euclidean       0.721      0.657\n",
              "19         20  euclidean       0.733      0.661\n",
              "20         21  euclidean       0.721      0.647\n",
              "21         22  euclidean       0.735      0.643\n",
              "22         23  euclidean       0.724      0.661\n",
              "23         24  euclidean       0.726      0.664\n",
              "24         25  euclidean       0.733      0.657\n",
              "25         26  euclidean       0.719      0.675\n",
              "26         27  euclidean       0.721      0.675\n",
              "27         28  euclidean       0.721      0.664\n",
              "28         29  euclidean       0.719      0.654\n",
              "29         30  euclidean       0.717      0.668\n",
              "30          1  manhattan       1.000      0.731\n",
              "31          2  manhattan       0.874      0.731\n",
              "32          3  manhattan       0.869      0.720\n",
              "33          4  manhattan       0.820      0.713\n",
              "34          5  manhattan       0.834      0.745\n",
              "35          6  manhattan       0.792      0.713\n",
              "36          7  manhattan       0.801      0.731\n",
              "37          8  manhattan       0.778      0.720\n",
              "38          9  manhattan       0.796      0.710\n",
              "39         10  manhattan       0.775      0.734\n",
              "40         11  manhattan       0.782      0.731\n",
              "41         12  manhattan       0.773      0.696\n",
              "42         13  manhattan       0.763      0.731\n",
              "43         14  manhattan       0.763      0.724\n",
              "44         15  manhattan       0.749      0.734\n",
              "45         16  manhattan       0.733      0.692\n",
              "46         17  manhattan       0.719      0.685\n",
              "47         18  manhattan       0.731      0.668\n",
              "48         19  manhattan       0.731      0.720\n",
              "49         20  manhattan       0.717      0.675\n",
              "50         21  manhattan       0.738      0.710\n",
              "51         22  manhattan       0.740      0.720\n",
              "52         23  manhattan       0.735      0.703\n",
              "53         24  manhattan       0.740      0.710\n",
              "54         25  manhattan       0.731      0.710\n",
              "55         26  manhattan       0.740      0.682\n",
              "56         27  manhattan       0.745      0.703\n",
              "57         28  manhattan       0.740      0.668\n",
              "58         29  manhattan       0.756      0.706\n",
              "59         30  manhattan       0.735      0.710"
            ],
            "text/html": [
              "\n",
              "  <div id=\"df-70c02b1f-1bf4-4f01-b816-9c8cd2a64a7a\">\n",
              "    <div class=\"colab-df-container\">\n",
              "      <div>\n",
              "<style scoped>\n",
              "    .dataframe tbody tr th:only-of-type {\n",
              "        vertical-align: middle;\n",
              "    }\n",
              "\n",
              "    .dataframe tbody tr th {\n",
              "        vertical-align: top;\n",
              "    }\n",
              "\n",
              "    .dataframe thead th {\n",
              "        text-align: right;\n",
              "    }\n",
              "</style>\n",
              "<table border=\"1\" class=\"dataframe\">\n",
              "  <thead>\n",
              "    <tr style=\"text-align: right;\">\n",
              "      <th></th>\n",
              "      <th>Neighbors</th>\n",
              "      <th>Metric</th>\n",
              "      <th>TrainScore</th>\n",
              "      <th>TestScore</th>\n",
              "    </tr>\n",
              "  </thead>\n",
              "  <tbody>\n",
              "    <tr>\n",
              "      <th>0</th>\n",
              "      <td>1</td>\n",
              "      <td>euclidean</td>\n",
              "      <td>1.000</td>\n",
              "      <td>0.713</td>\n",
              "    </tr>\n",
              "    <tr>\n",
              "      <th>1</th>\n",
              "      <td>2</td>\n",
              "      <td>euclidean</td>\n",
              "      <td>0.867</td>\n",
              "      <td>0.699</td>\n",
              "    </tr>\n",
              "    <tr>\n",
              "      <th>2</th>\n",
              "      <td>3</td>\n",
              "      <td>euclidean</td>\n",
              "      <td>0.841</td>\n",
              "      <td>0.699</td>\n",
              "    </tr>\n",
              "    <tr>\n",
              "      <th>3</th>\n",
              "      <td>4</td>\n",
              "      <td>euclidean</td>\n",
              "      <td>0.801</td>\n",
              "      <td>0.713</td>\n",
              "    </tr>\n",
              "    <tr>\n",
              "      <th>4</th>\n",
              "      <td>5</td>\n",
              "      <td>euclidean</td>\n",
              "      <td>0.813</td>\n",
              "      <td>0.720</td>\n",
              "    </tr>\n",
              "    <tr>\n",
              "      <th>5</th>\n",
              "      <td>6</td>\n",
              "      <td>euclidean</td>\n",
              "      <td>0.775</td>\n",
              "      <td>0.692</td>\n",
              "    </tr>\n",
              "    <tr>\n",
              "      <th>6</th>\n",
              "      <td>7</td>\n",
              "      <td>euclidean</td>\n",
              "      <td>0.796</td>\n",
              "      <td>0.706</td>\n",
              "    </tr>\n",
              "    <tr>\n",
              "      <th>7</th>\n",
              "      <td>8</td>\n",
              "      <td>euclidean</td>\n",
              "      <td>0.766</td>\n",
              "      <td>0.720</td>\n",
              "    </tr>\n",
              "    <tr>\n",
              "      <th>8</th>\n",
              "      <td>9</td>\n",
              "      <td>euclidean</td>\n",
              "      <td>0.768</td>\n",
              "      <td>0.710</td>\n",
              "    </tr>\n",
              "    <tr>\n",
              "      <th>9</th>\n",
              "      <td>10</td>\n",
              "      <td>euclidean</td>\n",
              "      <td>0.740</td>\n",
              "      <td>0.710</td>\n",
              "    </tr>\n",
              "    <tr>\n",
              "      <th>10</th>\n",
              "      <td>11</td>\n",
              "      <td>euclidean</td>\n",
              "      <td>0.756</td>\n",
              "      <td>0.713</td>\n",
              "    </tr>\n",
              "    <tr>\n",
              "      <th>11</th>\n",
              "      <td>12</td>\n",
              "      <td>euclidean</td>\n",
              "      <td>0.745</td>\n",
              "      <td>0.689</td>\n",
              "    </tr>\n",
              "    <tr>\n",
              "      <th>12</th>\n",
              "      <td>13</td>\n",
              "      <td>euclidean</td>\n",
              "      <td>0.742</td>\n",
              "      <td>0.706</td>\n",
              "    </tr>\n",
              "    <tr>\n",
              "      <th>13</th>\n",
              "      <td>14</td>\n",
              "      <td>euclidean</td>\n",
              "      <td>0.733</td>\n",
              "      <td>0.696</td>\n",
              "    </tr>\n",
              "    <tr>\n",
              "      <th>14</th>\n",
              "      <td>15</td>\n",
              "      <td>euclidean</td>\n",
              "      <td>0.742</td>\n",
              "      <td>0.706</td>\n",
              "    </tr>\n",
              "    <tr>\n",
              "      <th>15</th>\n",
              "      <td>16</td>\n",
              "      <td>euclidean</td>\n",
              "      <td>0.714</td>\n",
              "      <td>0.661</td>\n",
              "    </tr>\n",
              "    <tr>\n",
              "      <th>16</th>\n",
              "      <td>17</td>\n",
              "      <td>euclidean</td>\n",
              "      <td>0.705</td>\n",
              "      <td>0.643</td>\n",
              "    </tr>\n",
              "    <tr>\n",
              "      <th>17</th>\n",
              "      <td>18</td>\n",
              "      <td>euclidean</td>\n",
              "      <td>0.721</td>\n",
              "      <td>0.643</td>\n",
              "    </tr>\n",
              "    <tr>\n",
              "      <th>18</th>\n",
              "      <td>19</td>\n",
              "      <td>euclidean</td>\n",
              "      <td>0.721</td>\n",
              "      <td>0.657</td>\n",
              "    </tr>\n",
              "    <tr>\n",
              "      <th>19</th>\n",
              "      <td>20</td>\n",
              "      <td>euclidean</td>\n",
              "      <td>0.733</td>\n",
              "      <td>0.661</td>\n",
              "    </tr>\n",
              "    <tr>\n",
              "      <th>20</th>\n",
              "      <td>21</td>\n",
              "      <td>euclidean</td>\n",
              "      <td>0.721</td>\n",
              "      <td>0.647</td>\n",
              "    </tr>\n",
              "    <tr>\n",
              "      <th>21</th>\n",
              "      <td>22</td>\n",
              "      <td>euclidean</td>\n",
              "      <td>0.735</td>\n",
              "      <td>0.643</td>\n",
              "    </tr>\n",
              "    <tr>\n",
              "      <th>22</th>\n",
              "      <td>23</td>\n",
              "      <td>euclidean</td>\n",
              "      <td>0.724</td>\n",
              "      <td>0.661</td>\n",
              "    </tr>\n",
              "    <tr>\n",
              "      <th>23</th>\n",
              "      <td>24</td>\n",
              "      <td>euclidean</td>\n",
              "      <td>0.726</td>\n",
              "      <td>0.664</td>\n",
              "    </tr>\n",
              "    <tr>\n",
              "      <th>24</th>\n",
              "      <td>25</td>\n",
              "      <td>euclidean</td>\n",
              "      <td>0.733</td>\n",
              "      <td>0.657</td>\n",
              "    </tr>\n",
              "    <tr>\n",
              "      <th>25</th>\n",
              "      <td>26</td>\n",
              "      <td>euclidean</td>\n",
              "      <td>0.719</td>\n",
              "      <td>0.675</td>\n",
              "    </tr>\n",
              "    <tr>\n",
              "      <th>26</th>\n",
              "      <td>27</td>\n",
              "      <td>euclidean</td>\n",
              "      <td>0.721</td>\n",
              "      <td>0.675</td>\n",
              "    </tr>\n",
              "    <tr>\n",
              "      <th>27</th>\n",
              "      <td>28</td>\n",
              "      <td>euclidean</td>\n",
              "      <td>0.721</td>\n",
              "      <td>0.664</td>\n",
              "    </tr>\n",
              "    <tr>\n",
              "      <th>28</th>\n",
              "      <td>29</td>\n",
              "      <td>euclidean</td>\n",
              "      <td>0.719</td>\n",
              "      <td>0.654</td>\n",
              "    </tr>\n",
              "    <tr>\n",
              "      <th>29</th>\n",
              "      <td>30</td>\n",
              "      <td>euclidean</td>\n",
              "      <td>0.717</td>\n",
              "      <td>0.668</td>\n",
              "    </tr>\n",
              "    <tr>\n",
              "      <th>30</th>\n",
              "      <td>1</td>\n",
              "      <td>manhattan</td>\n",
              "      <td>1.000</td>\n",
              "      <td>0.731</td>\n",
              "    </tr>\n",
              "    <tr>\n",
              "      <th>31</th>\n",
              "      <td>2</td>\n",
              "      <td>manhattan</td>\n",
              "      <td>0.874</td>\n",
              "      <td>0.731</td>\n",
              "    </tr>\n",
              "    <tr>\n",
              "      <th>32</th>\n",
              "      <td>3</td>\n",
              "      <td>manhattan</td>\n",
              "      <td>0.869</td>\n",
              "      <td>0.720</td>\n",
              "    </tr>\n",
              "    <tr>\n",
              "      <th>33</th>\n",
              "      <td>4</td>\n",
              "      <td>manhattan</td>\n",
              "      <td>0.820</td>\n",
              "      <td>0.713</td>\n",
              "    </tr>\n",
              "    <tr>\n",
              "      <th>34</th>\n",
              "      <td>5</td>\n",
              "      <td>manhattan</td>\n",
              "      <td>0.834</td>\n",
              "      <td>0.745</td>\n",
              "    </tr>\n",
              "    <tr>\n",
              "      <th>35</th>\n",
              "      <td>6</td>\n",
              "      <td>manhattan</td>\n",
              "      <td>0.792</td>\n",
              "      <td>0.713</td>\n",
              "    </tr>\n",
              "    <tr>\n",
              "      <th>36</th>\n",
              "      <td>7</td>\n",
              "      <td>manhattan</td>\n",
              "      <td>0.801</td>\n",
              "      <td>0.731</td>\n",
              "    </tr>\n",
              "    <tr>\n",
              "      <th>37</th>\n",
              "      <td>8</td>\n",
              "      <td>manhattan</td>\n",
              "      <td>0.778</td>\n",
              "      <td>0.720</td>\n",
              "    </tr>\n",
              "    <tr>\n",
              "      <th>38</th>\n",
              "      <td>9</td>\n",
              "      <td>manhattan</td>\n",
              "      <td>0.796</td>\n",
              "      <td>0.710</td>\n",
              "    </tr>\n",
              "    <tr>\n",
              "      <th>39</th>\n",
              "      <td>10</td>\n",
              "      <td>manhattan</td>\n",
              "      <td>0.775</td>\n",
              "      <td>0.734</td>\n",
              "    </tr>\n",
              "    <tr>\n",
              "      <th>40</th>\n",
              "      <td>11</td>\n",
              "      <td>manhattan</td>\n",
              "      <td>0.782</td>\n",
              "      <td>0.731</td>\n",
              "    </tr>\n",
              "    <tr>\n",
              "      <th>41</th>\n",
              "      <td>12</td>\n",
              "      <td>manhattan</td>\n",
              "      <td>0.773</td>\n",
              "      <td>0.696</td>\n",
              "    </tr>\n",
              "    <tr>\n",
              "      <th>42</th>\n",
              "      <td>13</td>\n",
              "      <td>manhattan</td>\n",
              "      <td>0.763</td>\n",
              "      <td>0.731</td>\n",
              "    </tr>\n",
              "    <tr>\n",
              "      <th>43</th>\n",
              "      <td>14</td>\n",
              "      <td>manhattan</td>\n",
              "      <td>0.763</td>\n",
              "      <td>0.724</td>\n",
              "    </tr>\n",
              "    <tr>\n",
              "      <th>44</th>\n",
              "      <td>15</td>\n",
              "      <td>manhattan</td>\n",
              "      <td>0.749</td>\n",
              "      <td>0.734</td>\n",
              "    </tr>\n",
              "    <tr>\n",
              "      <th>45</th>\n",
              "      <td>16</td>\n",
              "      <td>manhattan</td>\n",
              "      <td>0.733</td>\n",
              "      <td>0.692</td>\n",
              "    </tr>\n",
              "    <tr>\n",
              "      <th>46</th>\n",
              "      <td>17</td>\n",
              "      <td>manhattan</td>\n",
              "      <td>0.719</td>\n",
              "      <td>0.685</td>\n",
              "    </tr>\n",
              "    <tr>\n",
              "      <th>47</th>\n",
              "      <td>18</td>\n",
              "      <td>manhattan</td>\n",
              "      <td>0.731</td>\n",
              "      <td>0.668</td>\n",
              "    </tr>\n",
              "    <tr>\n",
              "      <th>48</th>\n",
              "      <td>19</td>\n",
              "      <td>manhattan</td>\n",
              "      <td>0.731</td>\n",
              "      <td>0.720</td>\n",
              "    </tr>\n",
              "    <tr>\n",
              "      <th>49</th>\n",
              "      <td>20</td>\n",
              "      <td>manhattan</td>\n",
              "      <td>0.717</td>\n",
              "      <td>0.675</td>\n",
              "    </tr>\n",
              "    <tr>\n",
              "      <th>50</th>\n",
              "      <td>21</td>\n",
              "      <td>manhattan</td>\n",
              "      <td>0.738</td>\n",
              "      <td>0.710</td>\n",
              "    </tr>\n",
              "    <tr>\n",
              "      <th>51</th>\n",
              "      <td>22</td>\n",
              "      <td>manhattan</td>\n",
              "      <td>0.740</td>\n",
              "      <td>0.720</td>\n",
              "    </tr>\n",
              "    <tr>\n",
              "      <th>52</th>\n",
              "      <td>23</td>\n",
              "      <td>manhattan</td>\n",
              "      <td>0.735</td>\n",
              "      <td>0.703</td>\n",
              "    </tr>\n",
              "    <tr>\n",
              "      <th>53</th>\n",
              "      <td>24</td>\n",
              "      <td>manhattan</td>\n",
              "      <td>0.740</td>\n",
              "      <td>0.710</td>\n",
              "    </tr>\n",
              "    <tr>\n",
              "      <th>54</th>\n",
              "      <td>25</td>\n",
              "      <td>manhattan</td>\n",
              "      <td>0.731</td>\n",
              "      <td>0.710</td>\n",
              "    </tr>\n",
              "    <tr>\n",
              "      <th>55</th>\n",
              "      <td>26</td>\n",
              "      <td>manhattan</td>\n",
              "      <td>0.740</td>\n",
              "      <td>0.682</td>\n",
              "    </tr>\n",
              "    <tr>\n",
              "      <th>56</th>\n",
              "      <td>27</td>\n",
              "      <td>manhattan</td>\n",
              "      <td>0.745</td>\n",
              "      <td>0.703</td>\n",
              "    </tr>\n",
              "    <tr>\n",
              "      <th>57</th>\n",
              "      <td>28</td>\n",
              "      <td>manhattan</td>\n",
              "      <td>0.740</td>\n",
              "      <td>0.668</td>\n",
              "    </tr>\n",
              "    <tr>\n",
              "      <th>58</th>\n",
              "      <td>29</td>\n",
              "      <td>manhattan</td>\n",
              "      <td>0.756</td>\n",
              "      <td>0.706</td>\n",
              "    </tr>\n",
              "    <tr>\n",
              "      <th>59</th>\n",
              "      <td>30</td>\n",
              "      <td>manhattan</td>\n",
              "      <td>0.735</td>\n",
              "      <td>0.710</td>\n",
              "    </tr>\n",
              "  </tbody>\n",
              "</table>\n",
              "</div>\n",
              "      <button class=\"colab-df-convert\" onclick=\"convertToInteractive('df-70c02b1f-1bf4-4f01-b816-9c8cd2a64a7a')\"\n",
              "              title=\"Convert this dataframe to an interactive table.\"\n",
              "              style=\"display:none;\">\n",
              "        \n",
              "  <svg xmlns=\"http://www.w3.org/2000/svg\" height=\"24px\"viewBox=\"0 0 24 24\"\n",
              "       width=\"24px\">\n",
              "    <path d=\"M0 0h24v24H0V0z\" fill=\"none\"/>\n",
              "    <path d=\"M18.56 5.44l.94 2.06.94-2.06 2.06-.94-2.06-.94-.94-2.06-.94 2.06-2.06.94zm-11 1L8.5 8.5l.94-2.06 2.06-.94-2.06-.94L8.5 2.5l-.94 2.06-2.06.94zm10 10l.94 2.06.94-2.06 2.06-.94-2.06-.94-.94-2.06-.94 2.06-2.06.94z\"/><path d=\"M17.41 7.96l-1.37-1.37c-.4-.4-.92-.59-1.43-.59-.52 0-1.04.2-1.43.59L10.3 9.45l-7.72 7.72c-.78.78-.78 2.05 0 2.83L4 21.41c.39.39.9.59 1.41.59.51 0 1.02-.2 1.41-.59l7.78-7.78 2.81-2.81c.8-.78.8-2.07 0-2.86zM5.41 20L4 18.59l7.72-7.72 1.47 1.35L5.41 20z\"/>\n",
              "  </svg>\n",
              "      </button>\n",
              "      \n",
              "  <style>\n",
              "    .colab-df-container {\n",
              "      display:flex;\n",
              "      flex-wrap:wrap;\n",
              "      gap: 12px;\n",
              "    }\n",
              "\n",
              "    .colab-df-convert {\n",
              "      background-color: #E8F0FE;\n",
              "      border: none;\n",
              "      border-radius: 50%;\n",
              "      cursor: pointer;\n",
              "      display: none;\n",
              "      fill: #1967D2;\n",
              "      height: 32px;\n",
              "      padding: 0 0 0 0;\n",
              "      width: 32px;\n",
              "    }\n",
              "\n",
              "    .colab-df-convert:hover {\n",
              "      background-color: #E2EBFA;\n",
              "      box-shadow: 0px 1px 2px rgba(60, 64, 67, 0.3), 0px 1px 3px 1px rgba(60, 64, 67, 0.15);\n",
              "      fill: #174EA6;\n",
              "    }\n",
              "\n",
              "    [theme=dark] .colab-df-convert {\n",
              "      background-color: #3B4455;\n",
              "      fill: #D2E3FC;\n",
              "    }\n",
              "\n",
              "    [theme=dark] .colab-df-convert:hover {\n",
              "      background-color: #434B5C;\n",
              "      box-shadow: 0px 1px 3px 1px rgba(0, 0, 0, 0.15);\n",
              "      filter: drop-shadow(0px 1px 2px rgba(0, 0, 0, 0.3));\n",
              "      fill: #FFFFFF;\n",
              "    }\n",
              "  </style>\n",
              "\n",
              "      <script>\n",
              "        const buttonEl =\n",
              "          document.querySelector('#df-70c02b1f-1bf4-4f01-b816-9c8cd2a64a7a button.colab-df-convert');\n",
              "        buttonEl.style.display =\n",
              "          google.colab.kernel.accessAllowed ? 'block' : 'none';\n",
              "\n",
              "        async function convertToInteractive(key) {\n",
              "          const element = document.querySelector('#df-70c02b1f-1bf4-4f01-b816-9c8cd2a64a7a');\n",
              "          const dataTable =\n",
              "            await google.colab.kernel.invokeFunction('convertToInteractive',\n",
              "                                                     [key], {});\n",
              "          if (!dataTable) return;\n",
              "\n",
              "          const docLinkHtml = 'Like what you see? Visit the ' +\n",
              "            '<a target=\"_blank\" href=https://colab.research.google.com/notebooks/data_table.ipynb>data table notebook</a>'\n",
              "            + ' to learn more about interactive tables.';\n",
              "          element.innerHTML = '';\n",
              "          dataTable['output_type'] = 'display_data';\n",
              "          await google.colab.output.renderOutput(dataTable, element);\n",
              "          const docLink = document.createElement('div');\n",
              "          docLink.innerHTML = docLinkHtml;\n",
              "          element.appendChild(docLink);\n",
              "        }\n",
              "      </script>\n",
              "    </div>\n",
              "  </div>\n",
              "  "
            ]
          },
          "metadata": {},
          "execution_count": 103
        }
      ],
      "source": [
        "train_acc = []\n",
        "test_acc = []\n",
        "\n",
        "para_n = [n for n in range(1,31)] * 2\n",
        "para_metric = ([\"euclidean\"]*30 + ([\"manhattan\"]*30))\n",
        "\n",
        "for [v_para_n, v_metric] in zip(para_n, para_metric):\n",
        "    knn_w = KNeighborsClassifier(n_neighbors = v_para_n, metric = v_metric, weights = \"uniform\")\n",
        "    knn_w.fit(df_train_x, df_train_y)\n",
        "    train_acc.append(knn_w.score(df_train_x, df_train_y))\n",
        "    test_acc.append(knn_w.score(df_test_x, df_test_y))\n",
        "\n",
        "# 결과 저장\n",
        "df_acc_m = pd.DataFrame()\n",
        "df_acc_m[\"Neighbors\"] = para_n\n",
        "df_acc_m[\"Metric\"] = para_metric\n",
        "df_acc_m[\"TrainScore\"] = train_acc\n",
        "df_acc_m[\"TestScore\"] = test_acc\n",
        "\n",
        "df_acc_m.round(3)"
      ]
    },
    {
      "cell_type": "code",
      "execution_count": 104,
      "id": "69c6f8ed",
      "metadata": {
        "colab": {
          "base_uri": "https://localhost:8080/",
          "height": 297
        },
        "id": "69c6f8ed",
        "outputId": "8779d422-f824-4f7c-f99c-c483156b5058"
      },
      "outputs": [
        {
          "output_type": "execute_result",
          "data": {
            "text/plain": [
              "<AxesSubplot:xlabel='Neighbors'>"
            ]
          },
          "metadata": {},
          "execution_count": 104
        },
        {
          "output_type": "display_data",
          "data": {
            "text/plain": [
              "<Figure size 432x288 with 1 Axes>"
            ],
            "image/png": "[encoded data removed]"
          },
          "metadata": {
            "needs_background": "light"
          }
        }
      ],
      "source": [
        "# Data Pivot\n",
        "df_acc_m_pivot = df_acc_m.pivot(index=\"Neighbors\", columns=\"Metric\", values = [\"TrainScore\",\"TestScore\"])\n",
        "level0 = df_acc_m_pivot.columns.get_level_values(0)\n",
        "level1 = df_acc_m_pivot.columns.get_level_values(1)\n",
        "df_acc_m_pivot.columns = level0 + \"_\" + level1\n",
        "df_acc_m_pivot.head()\n",
        "sns.lineplot(data = df_acc_m_pivot)"
      ]
    },
    {
      "cell_type": "code",
      "execution_count": 105,
      "id": "1e70965f",
      "metadata": {
        "colab": {
          "base_uri": "https://localhost:8080/"
        },
        "id": "1e70965f",
        "outputId": "97af0234-6fa9-4ece-b473-30b7fcf30518"
      },
      "outputs": [
        {
          "output_type": "stream",
          "name": "stdout",
          "text": [
            "Accuracy on train set : 1.000\n",
            "Accuracy on test set : 0.881\n",
            "Confusion matrix : \n",
            "[[178   8]\n",
            " [ 26  74]]\n",
            "              precision    recall  f1-score   support\n",
            "\n",
            "           0      0.873     0.957     0.913       186\n",
            "           1      0.902     0.740     0.813       100\n",
            "\n",
            "    accuracy                          0.881       286\n",
            "   macro avg      0.887     0.848     0.863       286\n",
            "weighted avg      0.883     0.881     0.878       286\n",
            "\n"
          ]
        }
      ],
      "source": [
        "knn_final = KNeighborsClassifier(n_neighbors = 10, metric = \"euclidean\", weights = \"distance\")\n",
        "knn_final.fit(df_scaled_train_x, df_train_y)\n",
        "y_pred = knn_final.predict(df_scaled_test_x)\n",
        "# ACC\n",
        "print(\"Accuracy on train set : {:.3f}\".format(knn_final.score(df_scaled_train_x, df_train_y)))\n",
        "print(\"Accuracy on test set : {:.3f}\".format(knn_final.score(df_scaled_test_x, df_test_y)))\n",
        "# confusion matrix\n",
        "print(\"Confusion matrix : \\n{}\".format(confusion_matrix(df_scaled_test_y, y_pred)))\n",
        "# 목표변수의 빈도 불균형 : f1 score\n",
        "print(classification_report(df_test_y, y_pred, digits=3))"
      ]
    },
    {
      "cell_type": "markdown",
      "id": "e1f7f27b",
      "metadata": {
        "id": "e1f7f27b"
      },
      "source": [
        "## NN"
      ]
    },
    {
      "cell_type": "code",
      "execution_count": 106,
      "id": "3988ac05",
      "metadata": {
        "id": "3988ac05"
      },
      "outputs": [],
      "source": [
        "# NN\n",
        "from sklearn.neural_network import MLPClassifier"
      ]
    },
    {
      "cell_type": "code",
      "execution_count": 107,
      "id": "ebea86f7",
      "metadata": {
        "colab": {
          "base_uri": "https://localhost:8080/"
        },
        "id": "ebea86f7",
        "outputId": "34890305-f9cd-4b90-f277-195e4ca81064"
      },
      "outputs": [
        {
          "output_type": "stream",
          "name": "stdout",
          "text": [
            "train data X size:(427, 16)\n",
            "test data X size:(286, 16)\n"
          ]
        }
      ],
      "source": [
        "scaler = StandardScaler()\n",
        "df_scaled = scaler.fit_transform(df_raw_x)\n",
        "df_scaled = pd.DataFrame(df_scaled, columns=v_feature_name)\n",
        "df_scaled.head()\n",
        "\n",
        "df_scaled_train_x, df_scaled_test_x = train_test_split(df_scaled, test_size=0.4, random_state=random)\n",
        "print('train data X size:{}'.format(df_scaled_train_x.shape))\n",
        "print('test data X size:{}'.format(df_scaled_test_x.shape))"
      ]
    },
    {
      "cell_type": "code",
      "execution_count": 108,
      "id": "53d52e24",
      "metadata": {
        "scrolled": true,
        "colab": {
          "base_uri": "https://localhost:8080/",
          "height": 1000
        },
        "id": "53d52e24",
        "outputId": "f895a115-a53f-4f16-e55f-6be99fa9c5cd"
      },
      "outputs": [
        {
          "output_type": "stream",
          "name": "stdout",
          "text": [
            "[20, 21, 22, 23, 24, 25, 26, 27, 28, 29, 30, 31, 32, 33, 34, 35, 36, 37, 38, 39, 40, 41, 42, 43, 44, 45, 46, 47, 48, 49]\n"
          ]
        },
        {
          "output_type": "execute_result",
          "data": {
            "text/plain": [
              "    HiddenLayer  TrainAccuracy  TestAccuracy\n",
              "0            20          0.927         0.902\n",
              "1            21          0.944         0.916\n",
              "2            22          0.937         0.892\n",
              "3            23          0.939         0.906\n",
              "4            24          0.939         0.899\n",
              "5            25          0.941         0.888\n",
              "6            26          0.937         0.916\n",
              "7            27          0.930         0.892\n",
              "8            28          0.946         0.899\n",
              "9            29          0.951         0.902\n",
              "10           30          0.953         0.909\n",
              "11           31          0.941         0.909\n",
              "12           32          0.953         0.888\n",
              "13           33          0.934         0.895\n",
              "14           34          0.944         0.895\n",
              "15           35          0.956         0.885\n",
              "16           36          0.958         0.885\n",
              "17           37          0.960         0.909\n",
              "18           38          0.970         0.913\n",
              "19           39          0.963         0.920\n",
              "20           40          0.972         0.899\n",
              "21           41          0.960         0.909\n",
              "22           42          0.960         0.899\n",
              "23           43          0.963         0.909\n",
              "24           44          0.967         0.895\n",
              "25           45          0.963         0.899\n",
              "26           46          0.958         0.892\n",
              "27           47          0.965         0.902\n",
              "28           48          0.965         0.920\n",
              "29           49          0.965         0.899"
            ],
            "text/html": [
              "\n",
              "  <div id=\"df-ee9b97c8-b1ef-4799-93d6-e836b73f635b\">\n",
              "    <div class=\"colab-df-container\">\n",
              "      <div>\n",
              "<style scoped>\n",
              "    .dataframe tbody tr th:only-of-type {\n",
              "        vertical-align: middle;\n",
              "    }\n",
              "\n",
              "    .dataframe tbody tr th {\n",
              "        vertical-align: top;\n",
              "    }\n",
              "\n",
              "    .dataframe thead th {\n",
              "        text-align: right;\n",
              "    }\n",
              "</style>\n",
              "<table border=\"1\" class=\"dataframe\">\n",
              "  <thead>\n",
              "    <tr style=\"text-align: right;\">\n",
              "      <th></th>\n",
              "      <th>HiddenLayer</th>\n",
              "      <th>TrainAccuracy</th>\n",
              "      <th>TestAccuracy</th>\n",
              "    </tr>\n",
              "  </thead>\n",
              "  <tbody>\n",
              "    <tr>\n",
              "      <th>0</th>\n",
              "      <td>20</td>\n",
              "      <td>0.927</td>\n",
              "      <td>0.902</td>\n",
              "    </tr>\n",
              "    <tr>\n",
              "      <th>1</th>\n",
              "      <td>21</td>\n",
              "      <td>0.944</td>\n",
              "      <td>0.916</td>\n",
              "    </tr>\n",
              "    <tr>\n",
              "      <th>2</th>\n",
              "      <td>22</td>\n",
              "      <td>0.937</td>\n",
              "      <td>0.892</td>\n",
              "    </tr>\n",
              "    <tr>\n",
              "      <th>3</th>\n",
              "      <td>23</td>\n",
              "      <td>0.939</td>\n",
              "      <td>0.906</td>\n",
              "    </tr>\n",
              "    <tr>\n",
              "      <th>4</th>\n",
              "      <td>24</td>\n",
              "      <td>0.939</td>\n",
              "      <td>0.899</td>\n",
              "    </tr>\n",
              "    <tr>\n",
              "      <th>5</th>\n",
              "      <td>25</td>\n",
              "      <td>0.941</td>\n",
              "      <td>0.888</td>\n",
              "    </tr>\n",
              "    <tr>\n",
              "      <th>6</th>\n",
              "      <td>26</td>\n",
              "      <td>0.937</td>\n",
              "      <td>0.916</td>\n",
              "    </tr>\n",
              "    <tr>\n",
              "      <th>7</th>\n",
              "      <td>27</td>\n",
              "      <td>0.930</td>\n",
              "      <td>0.892</td>\n",
              "    </tr>\n",
              "    <tr>\n",
              "      <th>8</th>\n",
              "      <td>28</td>\n",
              "      <td>0.946</td>\n",
              "      <td>0.899</td>\n",
              "    </tr>\n",
              "    <tr>\n",
              "      <th>9</th>\n",
              "      <td>29</td>\n",
              "      <td>0.951</td>\n",
              "      <td>0.902</td>\n",
              "    </tr>\n",
              "    <tr>\n",
              "      <th>10</th>\n",
              "      <td>30</td>\n",
              "      <td>0.953</td>\n",
              "      <td>0.909</td>\n",
              "    </tr>\n",
              "    <tr>\n",
              "      <th>11</th>\n",
              "      <td>31</td>\n",
              "      <td>0.941</td>\n",
              "      <td>0.909</td>\n",
              "    </tr>\n",
              "    <tr>\n",
              "      <th>12</th>\n",
              "      <td>32</td>\n",
              "      <td>0.953</td>\n",
              "      <td>0.888</td>\n",
              "    </tr>\n",
              "    <tr>\n",
              "      <th>13</th>\n",
              "      <td>33</td>\n",
              "      <td>0.934</td>\n",
              "      <td>0.895</td>\n",
              "    </tr>\n",
              "    <tr>\n",
              "      <th>14</th>\n",
              "      <td>34</td>\n",
              "      <td>0.944</td>\n",
              "      <td>0.895</td>\n",
              "    </tr>\n",
              "    <tr>\n",
              "      <th>15</th>\n",
              "      <td>35</td>\n",
              "      <td>0.956</td>\n",
              "      <td>0.885</td>\n",
              "    </tr>\n",
              "    <tr>\n",
              "      <th>16</th>\n",
              "      <td>36</td>\n",
              "      <td>0.958</td>\n",
              "      <td>0.885</td>\n",
              "    </tr>\n",
              "    <tr>\n",
              "      <th>17</th>\n",
              "      <td>37</td>\n",
              "      <td>0.960</td>\n",
              "      <td>0.909</td>\n",
              "    </tr>\n",
              "    <tr>\n",
              "      <th>18</th>\n",
              "      <td>38</td>\n",
              "      <td>0.970</td>\n",
              "      <td>0.913</td>\n",
              "    </tr>\n",
              "    <tr>\n",
              "      <th>19</th>\n",
              "      <td>39</td>\n",
              "      <td>0.963</td>\n",
              "      <td>0.920</td>\n",
              "    </tr>\n",
              "    <tr>\n",
              "      <th>20</th>\n",
              "      <td>40</td>\n",
              "      <td>0.972</td>\n",
              "      <td>0.899</td>\n",
              "    </tr>\n",
              "    <tr>\n",
              "      <th>21</th>\n",
              "      <td>41</td>\n",
              "      <td>0.960</td>\n",
              "      <td>0.909</td>\n",
              "    </tr>\n",
              "    <tr>\n",
              "      <th>22</th>\n",
              "      <td>42</td>\n",
              "      <td>0.960</td>\n",
              "      <td>0.899</td>\n",
              "    </tr>\n",
              "    <tr>\n",
              "      <th>23</th>\n",
              "      <td>43</td>\n",
              "      <td>0.963</td>\n",
              "      <td>0.909</td>\n",
              "    </tr>\n",
              "    <tr>\n",
              "      <th>24</th>\n",
              "      <td>44</td>\n",
              "      <td>0.967</td>\n",
              "      <td>0.895</td>\n",
              "    </tr>\n",
              "    <tr>\n",
              "      <th>25</th>\n",
              "      <td>45</td>\n",
              "      <td>0.963</td>\n",
              "      <td>0.899</td>\n",
              "    </tr>\n",
              "    <tr>\n",
              "      <th>26</th>\n",
              "      <td>46</td>\n",
              "      <td>0.958</td>\n",
              "      <td>0.892</td>\n",
              "    </tr>\n",
              "    <tr>\n",
              "      <th>27</th>\n",
              "      <td>47</td>\n",
              "      <td>0.965</td>\n",
              "      <td>0.902</td>\n",
              "    </tr>\n",
              "    <tr>\n",
              "      <th>28</th>\n",
              "      <td>48</td>\n",
              "      <td>0.965</td>\n",
              "      <td>0.920</td>\n",
              "    </tr>\n",
              "    <tr>\n",
              "      <th>29</th>\n",
              "      <td>49</td>\n",
              "      <td>0.965</td>\n",
              "      <td>0.899</td>\n",
              "    </tr>\n",
              "  </tbody>\n",
              "</table>\n",
              "</div>\n",
              "      <button class=\"colab-df-convert\" onclick=\"convertToInteractive('df-ee9b97c8-b1ef-4799-93d6-e836b73f635b')\"\n",
              "              title=\"Convert this dataframe to an interactive table.\"\n",
              "              style=\"display:none;\">\n",
              "        \n",
              "  <svg xmlns=\"http://www.w3.org/2000/svg\" height=\"24px\"viewBox=\"0 0 24 24\"\n",
              "       width=\"24px\">\n",
              "    <path d=\"M0 0h24v24H0V0z\" fill=\"none\"/>\n",
              "    <path d=\"M18.56 5.44l.94 2.06.94-2.06 2.06-.94-2.06-.94-.94-2.06-.94 2.06-2.06.94zm-11 1L8.5 8.5l.94-2.06 2.06-.94-2.06-.94L8.5 2.5l-.94 2.06-2.06.94zm10 10l.94 2.06.94-2.06 2.06-.94-2.06-.94-.94-2.06-.94 2.06-2.06.94z\"/><path d=\"M17.41 7.96l-1.37-1.37c-.4-.4-.92-.59-1.43-.59-.52 0-1.04.2-1.43.59L10.3 9.45l-7.72 7.72c-.78.78-.78 2.05 0 2.83L4 21.41c.39.39.9.59 1.41.59.51 0 1.02-.2 1.41-.59l7.78-7.78 2.81-2.81c.8-.78.8-2.07 0-2.86zM5.41 20L4 18.59l7.72-7.72 1.47 1.35L5.41 20z\"/>\n",
              "  </svg>\n",
              "      </button>\n",
              "      \n",
              "  <style>\n",
              "    .colab-df-container {\n",
              "      display:flex;\n",
              "      flex-wrap:wrap;\n",
              "      gap: 12px;\n",
              "    }\n",
              "\n",
              "    .colab-df-convert {\n",
              "      background-color: #E8F0FE;\n",
              "      border: none;\n",
              "      border-radius: 50%;\n",
              "      cursor: pointer;\n",
              "      display: none;\n",
              "      fill: #1967D2;\n",
              "      height: 32px;\n",
              "      padding: 0 0 0 0;\n",
              "      width: 32px;\n",
              "    }\n",
              "\n",
              "    .colab-df-convert:hover {\n",
              "      background-color: #E2EBFA;\n",
              "      box-shadow: 0px 1px 2px rgba(60, 64, 67, 0.3), 0px 1px 3px 1px rgba(60, 64, 67, 0.15);\n",
              "      fill: #174EA6;\n",
              "    }\n",
              "\n",
              "    [theme=dark] .colab-df-convert {\n",
              "      background-color: #3B4455;\n",
              "      fill: #D2E3FC;\n",
              "    }\n",
              "\n",
              "    [theme=dark] .colab-df-convert:hover {\n",
              "      background-color: #434B5C;\n",
              "      box-shadow: 0px 1px 3px 1px rgba(0, 0, 0, 0.15);\n",
              "      filter: drop-shadow(0px 1px 2px rgba(0, 0, 0, 0.3));\n",
              "      fill: #FFFFFF;\n",
              "    }\n",
              "  </style>\n",
              "\n",
              "      <script>\n",
              "        const buttonEl =\n",
              "          document.querySelector('#df-ee9b97c8-b1ef-4799-93d6-e836b73f635b button.colab-df-convert');\n",
              "        buttonEl.style.display =\n",
              "          google.colab.kernel.accessAllowed ? 'block' : 'none';\n",
              "\n",
              "        async function convertToInteractive(key) {\n",
              "          const element = document.querySelector('#df-ee9b97c8-b1ef-4799-93d6-e836b73f635b');\n",
              "          const dataTable =\n",
              "            await google.colab.kernel.invokeFunction('convertToInteractive',\n",
              "                                                     [key], {});\n",
              "          if (!dataTable) return;\n",
              "\n",
              "          const docLinkHtml = 'Like what you see? Visit the ' +\n",
              "            '<a target=\"_blank\" href=https://colab.research.google.com/notebooks/data_table.ipynb>data table notebook</a>'\n",
              "            + ' to learn more about interactive tables.';\n",
              "          element.innerHTML = '';\n",
              "          dataTable['output_type'] = 'display_data';\n",
              "          await google.colab.output.renderOutput(dataTable, element);\n",
              "          const docLink = document.createElement('div');\n",
              "          docLink.innerHTML = docLinkHtml;\n",
              "          element.appendChild(docLink);\n",
              "        }\n",
              "      </script>\n",
              "    </div>\n",
              "  </div>\n",
              "  "
            ]
          },
          "metadata": {},
          "execution_count": 108
        }
      ],
      "source": [
        "train_accuracy = []\n",
        "test_accuracy = []\n",
        "# para_hidden = [5 * hidden for hidden in range(1, 21)]\n",
        "para_hidden = [hidden for hidden in range(20, 50)]\n",
        "print(para_hidden)\n",
        "\n",
        "for v_hidden in para_hidden:\n",
        "    nn = MLPClassifier(hidden_layer_sizes=(v_hidden, v_hidden),random_state=random)\n",
        "    nn.fit(df_scaled_train_x, df_train_y)\n",
        "    train_accuracy.append(nn.score(df_scaled_train_x, df_train_y))\n",
        "    test_accuracy.append(nn.score(df_scaled_test_x, df_test_y))\n",
        "    \n",
        "df_accuracy_hidden = pd.DataFrame()\n",
        "df_accuracy_hidden['HiddenLayer'] = para_hidden\n",
        "df_accuracy_hidden['TrainAccuracy'] = train_accuracy\n",
        "df_accuracy_hidden['TestAccuracy'] = test_accuracy\n",
        "\n",
        "df_accuracy_hidden.round(3)"
      ]
    },
    {
      "cell_type": "code",
      "execution_count": 109,
      "id": "46f541a8",
      "metadata": {
        "collapsed": true,
        "colab": {
          "base_uri": "https://localhost:8080/",
          "height": 279
        },
        "id": "46f541a8",
        "outputId": "2cce8bb6-1037-4e07-fb0d-846f8e5d9e8b"
      },
      "outputs": [
        {
          "output_type": "display_data",
          "data": {
            "text/plain": [
              "<Figure size 432x288 with 1 Axes>"
            ],
            "image/png": "[encoded data removed]"
          },
          "metadata": {
            "needs_background": "light"
          }
        }
      ],
      "source": [
        "plt.plot(para_hidden, train_accuracy, linestyle='-', label='Train Accuracy')\n",
        "plt.plot(para_hidden, test_accuracy, linestyle='--', label='Test Accuracy')\n",
        "plt.ylabel('accuracy')\n",
        "plt.xlabel('Hidden Layer')\n",
        "plt.legend()\n",
        "plt.show()"
      ]
    },
    {
      "cell_type": "code",
      "execution_count": 110,
      "id": "6aa34654",
      "metadata": {
        "collapsed": true,
        "colab": {
          "base_uri": "https://localhost:8080/",
          "height": 279
        },
        "id": "6aa34654",
        "outputId": "23913386-57ca-499d-d1b3-54d74d359353"
      },
      "outputs": [
        {
          "output_type": "display_data",
          "data": {
            "text/plain": [
              "<Figure size 432x288 with 1 Axes>"
            ],
            "image/png": "[encoded data removed]"
          },
          "metadata": {
            "needs_background": "light"
          }
        }
      ],
      "source": [
        "train_accuracy = []\n",
        "test_accuracy = []\n",
        "para_function = ['logistic', 'tanh', 'relu']\n",
        "\n",
        "for v_function in para_function:\n",
        "    nn = MLPClassifier(activation=v_function, hidden_layer_sizes=(21, 21),random_state=random)\n",
        "    nn.fit(df_scaled_train_x, df_train_y)\n",
        "    train_accuracy.append(nn.score(df_scaled_train_x, df_train_y))\n",
        "    test_accuracy.append(nn.score(df_scaled_test_x, df_test_y))\n",
        "    \n",
        "df_accuracy_function = pd.DataFrame()\n",
        "df_accuracy_function['ActivationFunction'] = para_function\n",
        "df_accuracy_function['TrainAccuracy'] = train_accuracy\n",
        "df_accuracy_function['TestAccuracy'] = test_accuracy\n",
        "\n",
        "df_accuracy_function.round(3)\n",
        "\n",
        "plt.plot(para_function, train_accuracy, linestyle='-', label='Train Accuracy')\n",
        "plt.plot(para_function, test_accuracy, linestyle='--', label='Test Accuracy')\n",
        "plt.ylabel('accuracy')\n",
        "plt.xlabel('ActivationFunction')\n",
        "plt.legend()\n",
        "plt.show()"
      ]
    },
    {
      "cell_type": "code",
      "execution_count": 111,
      "id": "5be579fd",
      "metadata": {
        "collapsed": true,
        "colab": {
          "base_uri": "https://localhost:8080/",
          "height": 279
        },
        "id": "5be579fd",
        "outputId": "2d643913-f0a6-4050-88e9-12242cfee06e"
      },
      "outputs": [
        {
          "output_type": "display_data",
          "data": {
            "text/plain": [
              "<Figure size 432x288 with 1 Axes>"
            ],
            "image/png": "[encoded data removed]"
          },
          "metadata": {
            "needs_background": "light"
          }
        }
      ],
      "source": [
        "train_accuracy = []\n",
        "test_accuracy = []\n",
        "para_solver = ['lbfgs', 'sgd', 'adam']\n",
        "\n",
        "for v_solver in para_solver:\n",
        "    nn = MLPClassifier(solver=v_solver, activation='relu', hidden_layer_sizes=(21, 21),random_state=random)\n",
        "    nn.fit(df_scaled_train_x, df_train_y)\n",
        "    train_accuracy.append(nn.score(df_scaled_train_x, df_train_y))\n",
        "    test_accuracy.append(nn.score(df_scaled_test_x, df_test_y))\n",
        "    \n",
        "df_accuracy_solver = pd.DataFrame()\n",
        "df_accuracy_solver['Solver'] = para_solver\n",
        "df_accuracy_solver['TrainAccuracy'] = train_accuracy\n",
        "df_accuracy_solver['TestAccuracy'] = test_accuracy\n",
        "\n",
        "df_accuracy_solver.round(3)\n",
        "\n",
        "plt.plot(para_solver, train_accuracy, linestyle='-', label='Train Accuracy')\n",
        "plt.plot(para_solver, test_accuracy, linestyle='--', label='Test Accuracy')\n",
        "plt.ylabel('accuracy')\n",
        "plt.xlabel('Solver')\n",
        "plt.legend()\n",
        "plt.show()"
      ]
    },
    {
      "cell_type": "code",
      "execution_count": 112,
      "id": "5f8bd8fb",
      "metadata": {
        "collapsed": true,
        "colab": {
          "base_uri": "https://localhost:8080/",
          "height": 297
        },
        "id": "5f8bd8fb",
        "outputId": "e6e237d6-98e7-4c33-fd86-048c50061191"
      },
      "outputs": [
        {
          "output_type": "stream",
          "name": "stdout",
          "text": [
            "[20, 40, 60, 80, 100, 120, 140, 160, 180]\n"
          ]
        },
        {
          "output_type": "display_data",
          "data": {
            "text/plain": [
              "<Figure size 432x288 with 1 Axes>"
            ],
            "image/png": "[encoded data removed]"
          },
          "metadata": {
            "needs_background": "light"
          }
        }
      ],
      "source": [
        "train_accuracy = []\n",
        "test_accuracy = []\n",
        "para_batch = [20 * batch for batch in range(1, 10)]\n",
        "\n",
        "print(para_batch)\n",
        "\n",
        "for v_batch in para_batch:\n",
        "    nn = MLPClassifier(batch_size=v_batch, solver='lbfgs', activation='relu', hidden_layer_sizes=(21, 21), random_state=random)\n",
        "    nn.fit(df_scaled_train_x, df_train_y)\n",
        "    train_accuracy.append(nn.score(df_scaled_train_x, df_train_y))\n",
        "    test_accuracy.append(nn.score(df_scaled_test_x, df_test_y))\n",
        "    \n",
        "df_accuracy_batch = pd.DataFrame()\n",
        "df_accuracy_batch['Mini Batch'] = para_batch\n",
        "df_accuracy_batch['TrainAccuracy'] = train_accuracy\n",
        "df_accuracy_batch['TestAccuracy'] = test_accuracy\n",
        "\n",
        "df_accuracy_batch.round(3)\n",
        "\n",
        "plt.plot(para_batch, train_accuracy, linestyle='-', label='Train Accuracy')\n",
        "plt.plot(para_batch, test_accuracy, linestyle='--', label='Test Accuracy')\n",
        "plt.ylabel('accuracy')\n",
        "plt.xlabel('Batch')\n",
        "plt.legend()\n",
        "plt.show()"
      ]
    },
    {
      "cell_type": "code",
      "execution_count": 113,
      "id": "7fbf8e82",
      "metadata": {
        "colab": {
          "base_uri": "https://localhost:8080/"
        },
        "id": "7fbf8e82",
        "outputId": "a528265f-af1e-4cfb-83fa-74ca02dab0df"
      },
      "outputs": [
        {
          "output_type": "execute_result",
          "data": {
            "text/plain": [
              "100"
            ]
          },
          "metadata": {},
          "execution_count": 113
        }
      ],
      "source": [
        "random"
      ]
    },
    {
      "cell_type": "code",
      "execution_count": 114,
      "id": "33bcdcdf",
      "metadata": {
        "colab": {
          "base_uri": "https://localhost:8080/"
        },
        "id": "33bcdcdf",
        "outputId": "56960835-a4f0-422b-eea5-78e9bcd91c8c"
      },
      "outputs": [
        {
          "output_type": "stream",
          "name": "stdout",
          "text": [
            "Accuracy on training set: 1.000\n",
            "Accuracy on test set: 0.895\n",
            "Confusion matrix:\n",
            "[[174  12]\n",
            " [ 18  82]]\n",
            "              precision    recall  f1-score   support\n",
            "\n",
            "           0      0.906     0.935     0.921       186\n",
            "           1      0.872     0.820     0.845       100\n",
            "\n",
            "    accuracy                          0.895       286\n",
            "   macro avg      0.889     0.878     0.883       286\n",
            "weighted avg      0.894     0.895     0.894       286\n",
            "\n"
          ]
        }
      ],
      "source": [
        "nn_final = MLPClassifier(batch_size=50, solver='lbfgs', activation='relu', hidden_layer_sizes=(21, 21), random_state=random)\n",
        "nn_final.fit(df_scaled_train_x, df_train_y)\n",
        "y_pred = nn_final.predict(df_scaled_test_x)\n",
        "\n",
        "print('Accuracy on training set: {:.3f}'.format(nn_final.score(df_scaled_train_x, df_train_y)))\n",
        "print('Accuracy on test set: {:.3f}'.format(nn_final.score(df_scaled_test_x, df_test_y)))\n",
        "print('Confusion matrix:\\n{}'.format(confusion_matrix(df_test_y, y_pred)))\n",
        "print(classification_report(df_test_y, y_pred, digits=3))"
      ]
    },
    {
      "cell_type": "markdown",
      "source": [
        "# 시뮬레이션"
      ],
      "metadata": {
        "id": "JvjV1dM1jRw2"
      },
      "id": "JvjV1dM1jRw2"
    },
    {
      "cell_type": "code",
      "execution_count": 373,
      "id": "f65c418c",
      "metadata": {
        "id": "f65c418c"
      },
      "outputs": [],
      "source": [
        "df_raw = pd.read_csv('/content/drive/MyDrive/Colab Notebooks/SCALE불량.csv', encoding = 'euc-kr')"
      ]
    },
    {
      "cell_type": "code",
      "source": [
        "df_raw['FUR_NO_ROW'] = df_raw['FUR_NO_ROW'].astype('object')\n",
        "df_raw['WORK_GR'] = df_raw['WORK_GR'].astype('object')\n",
        "df_raw['HSB'] = df_raw['HSB'].astype('object')\n",
        "df_raw['HSB'] = np.where(df_raw['HSB'] == '적용', 1, 0) # 적용:1 미적용:0으로 변환\n",
        "df_raw['SCALE'] = np.where(df_raw['SCALE'] == '양품', 0, 1) # 불량:1 양품:0으로 변환\n",
        "df_raw['SCALE'] = df_raw['SCALE'].astype('object')"
      ],
      "metadata": {
        "id": "V_7gxWdBkBdh"
      },
      "id": "V_7gxWdBkBdh",
      "execution_count": 374,
      "outputs": []
    },
    {
      "cell_type": "code",
      "source": [
        "df_raw.sort_values(by='ROLLING_TEMP_T5', ascending=False).tail(6)\n",
        "df_raw.drop(df_raw[df_raw['ROLLING_TEMP_T5'] == 0].index, inplace=True)\n",
        "# FUR_HZ_TIME\n",
        "IQR = df_raw['ROLLING_TEMP_T5'].quantile(0.75) - df_raw['ROLLING_TEMP_T5'].quantile(0.25)\n",
        "line_down = df_raw['ROLLING_TEMP_T5'].quantile(0.25) - IQR*1.5\n",
        "line_up = df_raw['ROLLING_TEMP_T5'].quantile(0.75) + IQR*1.5\n",
        "\n",
        "winsoried = df_raw['ROLLING_TEMP_T5'].clip(line_down, line_up)\n",
        "df_raw['ROLLING_TEMP_T5'] = winsoried \n",
        "df_raw[['ROLLING_TEMP_T5']].boxplot()"
      ],
      "metadata": {
        "colab": {
          "base_uri": "https://localhost:8080/",
          "height": 284
        },
        "id": "0hsC0FYVtBUd",
        "outputId": "cbd80826-e836-4a90-fbd6-fd294bd0463b"
      },
      "id": "0hsC0FYVtBUd",
      "execution_count": 375,
      "outputs": [
        {
          "output_type": "execute_result",
          "data": {
            "text/plain": [
              "<AxesSubplot:>"
            ]
          },
          "metadata": {},
          "execution_count": 375
        },
        {
          "output_type": "display_data",
          "data": {
            "text/plain": [
              "<Figure size 432x288 with 1 Axes>"
            ],
            "image/png": "[encoded data removed]"
          },
          "metadata": {
            "needs_background": "light"
          }
        }
      ]
    },
    {
      "cell_type": "code",
      "source": [
        "df_raw[\"SCALE\"] = pd.to_numeric(df_raw[\"SCALE\"], errors = 'coerce')\n",
        "df_raw = df_raw.astype({'PT_THICK' : 'int'})"
      ],
      "metadata": {
        "id": "xIPXyi9pkD3d"
      },
      "id": "xIPXyi9pkD3d",
      "execution_count": 376,
      "outputs": []
    },
    {
      "cell_type": "markdown",
      "source": [
        "## 조건 1 : 가열대 온도, 균열대 온도, 압연 온도 최적 조건 도출"
      ],
      "metadata": {
        "id": "kAjuCJyF9gQn"
      },
      "id": "kAjuCJyF9gQn"
    },
    {
      "cell_type": "code",
      "source": [
        "# Data Split\n",
        "con1 = [\"SCALE\", \"FUR_HZ_TEMP\", \"FUR_SZ_TEMP\", \"ROLLING_TEMP_T5\"]\n",
        "con2 = [\"SCALE\", \"FUR_HZ_TEMP\", \"FUR_SZ_TEMP\", \"FUR_EXTEMP\", \"ROLLING_TEMP_T5\", \"HSB\"]\n",
        "df_raw_simul = df_raw.drop([\"PLATE_NO\",\"ROLLING_DATE\",\"SPEC\",\"STEEL_KIND\",\"FUR_NO\",\"FUR_NO_ROW\",\"WORK_GR\"], errors='ignore', axis= 1, inplace = False)\n",
        "df_raw_x = df_raw_simul[con1]\n",
        "df_raw_x = df_raw_x.drop(\"SCALE\", axis = 1, inplace = False)\n",
        "df_raw_y = df_raw[\"SCALE\"]\n",
        "print(len(list(df_raw_y)))\n",
        "print(list(df_raw_y).count(1))\n",
        "df_train_x, df_test_x, df_train_y, df_test_y = train_test_split(df_raw_x, df_raw_y, test_size = 0.3)"
      ],
      "metadata": {
        "colab": {
          "base_uri": "https://localhost:8080/"
        },
        "id": "MBQrTAqKkgAt",
        "outputId": "46b09487-58fb-45cf-fc1c-9b09a07a6f00"
      },
      "id": "MBQrTAqKkgAt",
      "execution_count": 377,
      "outputs": [
        {
          "output_type": "stream",
          "name": "stdout",
          "text": [
            "714\n",
            "231\n"
          ]
        }
      ]
    },
    {
      "cell_type": "code",
      "source": [
        "tree_final = DecisionTreeClassifier(min_samples_leaf = 8, min_samples_split = 20, max_depth = 2)\n",
        "tree_final.fit(df_train_x, df_train_y)\n",
        "y_pred = tree_final.predict(df_test_x)\n",
        "print(\"Accuracy: {0:.3f}\\n\".format(tree_final.score(df_test_x,df_test_y)))\n",
        "print(\"Confusion matrix: \\n{0}\".format(confusion_matrix(df_test_y, y_pred)))\n",
        "print(classification_report(df_test_y, y_pred, digits=3))\n",
        "\n",
        "## Visualizing Tree using Graphviz\n",
        "con1 = con1[1:]\n",
        "from sklearn import tree\n",
        "import graphviz\n",
        "\n",
        "## exporting tree in DOT format\n",
        "## refer to: https://scikit-learn.org/stable/modules/generated/sklearn.tree.export_graphviz.html\n",
        "tree_dot = tree.export_graphviz(\n",
        "    tree_final, \n",
        "    feature_names=con1, \n",
        "    class_names=['0', '1'],\n",
        "    filled=True\n",
        ")\n",
        "\n",
        "\n",
        "## draw graph using Graphviz\n",
        "dt_graph = graphviz.Source(tree_dot, format='png')\n",
        "dt_graph"
      ],
      "metadata": {
        "colab": {
          "base_uri": "https://localhost:8080/",
          "height": 696
        },
        "id": "1ySETnLOmK81",
        "outputId": "4cc7048d-b430-4049-8faf-fcb6e61ff884"
      },
      "id": "1ySETnLOmK81",
      "execution_count": 380,
      "outputs": [
        {
          "output_type": "stream",
          "name": "stdout",
          "text": [
            "Accuracy: 0.907\n",
            "\n",
            "Confusion matrix: \n",
            "[[143   0]\n",
            " [ 20  52]]\n",
            "              precision    recall  f1-score   support\n",
            "\n",
            "           0      0.877     1.000     0.935       143\n",
            "           1      1.000     0.722     0.839        72\n",
            "\n",
            "    accuracy                          0.907       215\n",
            "   macro avg      0.939     0.861     0.887       215\n",
            "weighted avg      0.918     0.907     0.903       215\n",
            "\n"
          ]
        },
        {
          "output_type": "execute_result",
          "data": {
            "text/plain": [
              "<graphviz.files.Source at 0x7f52d819f940>"
            ],
            "image/svg+xml": "<?xml version=\"1.0\" encoding=\"UTF-8\" standalone=\"no\"?>\n<!DOCTYPE svg PUBLIC \"-//W3C//DTD SVG 1.1//EN\"\n \"http://www.w3.org/Graphics/SVG/1.1/DTD/svg11.dtd\">\n<!-- Generated by graphviz version 2.43.0 (0)\n -->\n<!-- Title: Tree Pages: 1 -->\n<svg width=\"349pt\" height=\"314pt\"\n viewBox=\"0.00 0.00 348.50 314.00\" xmlns=\"http://www.w3.org/2000/svg\" xmlns:xlink=\"http://www.w3.org/1999/xlink\">\n<g id=\"graph0\" class=\"graph\" transform=\"scale(1 1) rotate(0) translate(4 310)\">\n<title>Tree</title>\n<polygon fill=\"white\" stroke=\"transparent\" points=\"-4,4 -4,-310 344.5,-310 344.5,4 -4,4\"/>\n<!-- 0 -->\n<g id=\"node1\" class=\"node\">\n<title>0</title>\n<polygon fill=\"#f1bc96\" stroke=\"black\" points=\"309.5,-306 97.5,-306 97.5,-223 309.5,-223 309.5,-306\"/>\n<text text-anchor=\"middle\" x=\"203.5\" y=\"-290.8\" font-family=\"Helvetica,sans-Serif\" font-size=\"14.00\">ROLLING_TEMP_T5 &lt;= 1000.5</text>\n<text text-anchor=\"middle\" x=\"203.5\" y=\"-275.8\" font-family=\"Helvetica,sans-Serif\" font-size=\"14.00\">gini = 0.434</text>\n<text text-anchor=\"middle\" x=\"203.5\" y=\"-260.8\" font-family=\"Helvetica,sans-Serif\" font-size=\"14.00\">samples = 499</text>\n<text text-anchor=\"middle\" x=\"203.5\" y=\"-245.8\" font-family=\"Helvetica,sans-Serif\" font-size=\"14.00\">value = [340, 159]</text>\n<text text-anchor=\"middle\" x=\"203.5\" y=\"-230.8\" font-family=\"Helvetica,sans-Serif\" font-size=\"14.00\">class = 0</text>\n</g>\n<!-- 1 -->\n<g id=\"node2\" class=\"node\">\n<title>1</title>\n<polygon fill=\"#e99558\" stroke=\"black\" points=\"212.5,-187 32.5,-187 32.5,-104 212.5,-104 212.5,-187\"/>\n<text text-anchor=\"middle\" x=\"122.5\" y=\"-171.8\" font-family=\"Helvetica,sans-Serif\" font-size=\"14.00\">FUR_SZ_TEMP &lt;= 1175.5</text>\n<text text-anchor=\"middle\" x=\"122.5\" y=\"-156.8\" font-family=\"Helvetica,sans-Serif\" font-size=\"14.00\">gini = 0.233</text>\n<text text-anchor=\"middle\" x=\"122.5\" y=\"-141.8\" font-family=\"Helvetica,sans-Serif\" font-size=\"14.00\">samples = 393</text>\n<text text-anchor=\"middle\" x=\"122.5\" y=\"-126.8\" font-family=\"Helvetica,sans-Serif\" font-size=\"14.00\">value = [340, 53]</text>\n<text text-anchor=\"middle\" x=\"122.5\" y=\"-111.8\" font-family=\"Helvetica,sans-Serif\" font-size=\"14.00\">class = 0</text>\n</g>\n<!-- 0&#45;&gt;1 -->\n<g id=\"edge1\" class=\"edge\">\n<title>0&#45;&gt;1</title>\n<path fill=\"none\" stroke=\"black\" d=\"M175.4,-222.91C169.24,-214.01 162.66,-204.51 156.31,-195.33\"/>\n<polygon fill=\"black\" stroke=\"black\" points=\"159.12,-193.25 150.55,-187.02 153.37,-197.24 159.12,-193.25\"/>\n<text text-anchor=\"middle\" x=\"146.08\" y=\"-207.92\" font-family=\"Helvetica,sans-Serif\" font-size=\"14.00\">True</text>\n</g>\n<!-- 4 -->\n<g id=\"node5\" class=\"node\">\n<title>4</title>\n<polygon fill=\"#399de5\" stroke=\"black\" points=\"340.5,-179.5 230.5,-179.5 230.5,-111.5 340.5,-111.5 340.5,-179.5\"/>\n<text text-anchor=\"middle\" x=\"285.5\" y=\"-164.3\" font-family=\"Helvetica,sans-Serif\" font-size=\"14.00\">gini = 0.0</text>\n<text text-anchor=\"middle\" x=\"285.5\" y=\"-149.3\" font-family=\"Helvetica,sans-Serif\" font-size=\"14.00\">samples = 106</text>\n<text text-anchor=\"middle\" x=\"285.5\" y=\"-134.3\" font-family=\"Helvetica,sans-Serif\" font-size=\"14.00\">value = [0, 106]</text>\n<text text-anchor=\"middle\" x=\"285.5\" y=\"-119.3\" font-family=\"Helvetica,sans-Serif\" font-size=\"14.00\">class = 1</text>\n</g>\n<!-- 0&#45;&gt;4 -->\n<g id=\"edge4\" class=\"edge\">\n<title>0&#45;&gt;4</title>\n<path fill=\"none\" stroke=\"black\" d=\"M231.95,-222.91C239.84,-211.65 248.41,-199.42 256.34,-188.11\"/>\n<polygon fill=\"black\" stroke=\"black\" points=\"259.38,-189.86 262.25,-179.67 253.65,-185.85 259.38,-189.86\"/>\n<text text-anchor=\"middle\" x=\"266.59\" y=\"-200.59\" font-family=\"Helvetica,sans-Serif\" font-size=\"14.00\">False</text>\n</g>\n<!-- 2 -->\n<g id=\"node3\" class=\"node\">\n<title>2</title>\n<polygon fill=\"#e88f4f\" stroke=\"black\" points=\"117,-68 0,-68 0,0 117,0 117,-68\"/>\n<text text-anchor=\"middle\" x=\"58.5\" y=\"-52.8\" font-family=\"Helvetica,sans-Serif\" font-size=\"14.00\">gini = 0.177</text>\n<text text-anchor=\"middle\" x=\"58.5\" y=\"-37.8\" font-family=\"Helvetica,sans-Serif\" font-size=\"14.00\">samples = 377</text>\n<text text-anchor=\"middle\" x=\"58.5\" y=\"-22.8\" font-family=\"Helvetica,sans-Serif\" font-size=\"14.00\">value = [340, 37]</text>\n<text text-anchor=\"middle\" x=\"58.5\" y=\"-7.8\" font-family=\"Helvetica,sans-Serif\" font-size=\"14.00\">class = 0</text>\n</g>\n<!-- 1&#45;&gt;2 -->\n<g id=\"edge2\" class=\"edge\">\n<title>1&#45;&gt;2</title>\n<path fill=\"none\" stroke=\"black\" d=\"M98.67,-103.73C93.6,-95.06 88.25,-85.9 83.15,-77.18\"/>\n<polygon fill=\"black\" stroke=\"black\" points=\"86.03,-75.17 77.96,-68.3 79.99,-78.7 86.03,-75.17\"/>\n</g>\n<!-- 3 -->\n<g id=\"node4\" class=\"node\">\n<title>3</title>\n<polygon fill=\"#399de5\" stroke=\"black\" points=\"237.5,-68 135.5,-68 135.5,0 237.5,0 237.5,-68\"/>\n<text text-anchor=\"middle\" x=\"186.5\" y=\"-52.8\" font-family=\"Helvetica,sans-Serif\" font-size=\"14.00\">gini = 0.0</text>\n<text text-anchor=\"middle\" x=\"186.5\" y=\"-37.8\" font-family=\"Helvetica,sans-Serif\" font-size=\"14.00\">samples = 16</text>\n<text text-anchor=\"middle\" x=\"186.5\" y=\"-22.8\" font-family=\"Helvetica,sans-Serif\" font-size=\"14.00\">value = [0, 16]</text>\n<text text-anchor=\"middle\" x=\"186.5\" y=\"-7.8\" font-family=\"Helvetica,sans-Serif\" font-size=\"14.00\">class = 1</text>\n</g>\n<!-- 1&#45;&gt;3 -->\n<g id=\"edge3\" class=\"edge\">\n<title>1&#45;&gt;3</title>\n<path fill=\"none\" stroke=\"black\" d=\"M146.33,-103.73C151.4,-95.06 156.75,-85.9 161.85,-77.18\"/>\n<polygon fill=\"black\" stroke=\"black\" points=\"165.01,-78.7 167.04,-68.3 158.97,-75.17 165.01,-78.7\"/>\n</g>\n</g>\n</svg>\n"
          },
          "metadata": {},
          "execution_count": 380
        }
      ]
    },
    {
      "cell_type": "markdown",
      "source": [
        "* 압연온도 1000.5도 이상에서 불량증가\n",
        "* 균열대 온도 1175.5도 이상에서 불량증가"
      ],
      "metadata": {
        "id": "gFDgw32YscRr"
      },
      "id": "gFDgw32YscRr"
    },
    {
      "cell_type": "markdown",
      "source": [
        "## 조건 2 : 가열대 온도, 균열대 온도, 가열로 온도, 압연온도, HSB 처리 유무"
      ],
      "metadata": {
        "id": "Y3gSmPaz9puh"
      },
      "id": "Y3gSmPaz9puh"
    },
    {
      "cell_type": "code",
      "source": [
        "# Data Split\n",
        "con1 = [\"SCALE\", \"FUR_HZ_TEMP\", \"FUR_SZ_TEMP\", \"ROLLING_TEMP_T5\"]\n",
        "con2 = [\"SCALE\", \"FUR_HZ_TEMP\", \"FUR_SZ_TEMP\", \"FUR_EXTEMP\", \"ROLLING_TEMP_T5\", \"HSB\"]\n",
        "df_raw_simul = df_raw.drop([\"PLATE_NO\",\"ROLLING_DATE\",\"SPEC\",\"STEEL_KIND\",\"FUR_NO\",\"FUR_NO_ROW\",\"WORK_GR\"], errors='ignore', axis= 1, inplace = False)\n",
        "df_raw_x = df_raw_simul[con2]\n",
        "df_raw_x = df_raw_x.drop(\"SCALE\", axis = 1, inplace = False)\n",
        "df_raw_y = df_raw[\"SCALE\"]\n",
        "print(len(list(df_raw_y)))\n",
        "print(list(df_raw_y).count(1))\n",
        "df_train_x, df_test_x, df_train_y, df_test_y = train_test_split(df_raw_x, df_raw_y, test_size = 0.3)"
      ],
      "metadata": {
        "colab": {
          "base_uri": "https://localhost:8080/"
        },
        "id": "ssLC9d5Z9qP_",
        "outputId": "438b6918-3edb-4663-9f23-326219d7418c"
      },
      "id": "ssLC9d5Z9qP_",
      "execution_count": 383,
      "outputs": [
        {
          "output_type": "stream",
          "name": "stdout",
          "text": [
            "714\n",
            "231\n"
          ]
        }
      ]
    },
    {
      "cell_type": "code",
      "source": [
        "tree_final = DecisionTreeClassifier(min_samples_leaf = 8, min_samples_split = 20, max_depth = 2)\n",
        "tree_final.fit(df_train_x, df_train_y)\n",
        "y_pred = tree_final.predict(df_test_x)\n",
        "print(\"Accuracy: {0:.3f}\\n\".format(tree_final.score(df_test_x,df_test_y)))\n",
        "print(\"Confusion matrix: \\n{0}\".format(confusion_matrix(df_test_y, y_pred)))\n",
        "print(classification_report(df_test_y, y_pred, digits=3))\n",
        "\n",
        "## Visualizing Tree using Graphviz\n",
        "con = con2[1:]\n",
        "from sklearn import tree\n",
        "import graphviz\n",
        "\n",
        "## exporting tree in DOT format\n",
        "## refer to: https://scikit-learn.org/stable/modules/generated/sklearn.tree.export_graphviz.html\n",
        "tree_dot = tree.export_graphviz(\n",
        "    tree_final, \n",
        "    feature_names=con, \n",
        "    class_names=['0', '1'],\n",
        "    filled=True\n",
        ")\n",
        "\n",
        "\n",
        "## draw graph using Graphviz\n",
        "dt_graph = graphviz.Source(tree_dot, format='png')\n",
        "dt_graph"
      ],
      "metadata": {
        "colab": {
          "base_uri": "https://localhost:8080/",
          "height": 696
        },
        "id": "iK8fEy9J93-3",
        "outputId": "72e7250d-de70-492c-c426-249909f38cdd"
      },
      "id": "iK8fEy9J93-3",
      "execution_count": 385,
      "outputs": [
        {
          "output_type": "stream",
          "name": "stdout",
          "text": [
            "Accuracy: 0.944\n",
            "\n",
            "Confusion matrix: \n",
            "[[136   0]\n",
            " [ 12  67]]\n",
            "              precision    recall  f1-score   support\n",
            "\n",
            "           0      0.919     1.000     0.958       136\n",
            "           1      1.000     0.848     0.918        79\n",
            "\n",
            "    accuracy                          0.944       215\n",
            "   macro avg      0.959     0.924     0.938       215\n",
            "weighted avg      0.949     0.944     0.943       215\n",
            "\n"
          ]
        },
        {
          "output_type": "execute_result",
          "data": {
            "text/plain": [
              "<graphviz.files.Source at 0x7f52e027c040>"
            ],
            "image/svg+xml": "<?xml version=\"1.0\" encoding=\"UTF-8\" standalone=\"no\"?>\n<!DOCTYPE svg PUBLIC \"-//W3C//DTD SVG 1.1//EN\"\n \"http://www.w3.org/Graphics/SVG/1.1/DTD/svg11.dtd\">\n<!-- Generated by graphviz version 2.43.0 (0)\n -->\n<!-- Title: Tree Pages: 1 -->\n<svg width=\"302pt\" height=\"314pt\"\n viewBox=\"0.00 0.00 302.00 314.00\" xmlns=\"http://www.w3.org/2000/svg\" xmlns:xlink=\"http://www.w3.org/1999/xlink\">\n<g id=\"graph0\" class=\"graph\" transform=\"scale(1 1) rotate(0) translate(4 310)\">\n<title>Tree</title>\n<polygon fill=\"white\" stroke=\"transparent\" points=\"-4,4 -4,-310 298,-310 298,4 -4,4\"/>\n<!-- 0 -->\n<g id=\"node1\" class=\"node\">\n<title>0</title>\n<polygon fill=\"#f0b890\" stroke=\"black\" points=\"285,-306 73,-306 73,-223 285,-223 285,-306\"/>\n<text text-anchor=\"middle\" x=\"179\" y=\"-290.8\" font-family=\"Helvetica,sans-Serif\" font-size=\"14.00\">ROLLING_TEMP_T5 &lt;= 1000.5</text>\n<text text-anchor=\"middle\" x=\"179\" y=\"-275.8\" font-family=\"Helvetica,sans-Serif\" font-size=\"14.00\">gini = 0.424</text>\n<text text-anchor=\"middle\" x=\"179\" y=\"-260.8\" font-family=\"Helvetica,sans-Serif\" font-size=\"14.00\">samples = 499</text>\n<text text-anchor=\"middle\" x=\"179\" y=\"-245.8\" font-family=\"Helvetica,sans-Serif\" font-size=\"14.00\">value = [347, 152]</text>\n<text text-anchor=\"middle\" x=\"179\" y=\"-230.8\" font-family=\"Helvetica,sans-Serif\" font-size=\"14.00\">class = 0</text>\n</g>\n<!-- 1 -->\n<g id=\"node2\" class=\"node\">\n<title>1</title>\n<polygon fill=\"#e99558\" stroke=\"black\" points=\"173.5,-187 56.5,-187 56.5,-104 173.5,-104 173.5,-187\"/>\n<text text-anchor=\"middle\" x=\"115\" y=\"-171.8\" font-family=\"Helvetica,sans-Serif\" font-size=\"14.00\">HSB &lt;= 0.5</text>\n<text text-anchor=\"middle\" x=\"115\" y=\"-156.8\" font-family=\"Helvetica,sans-Serif\" font-size=\"14.00\">gini = 0.236</text>\n<text text-anchor=\"middle\" x=\"115\" y=\"-141.8\" font-family=\"Helvetica,sans-Serif\" font-size=\"14.00\">samples = 402</text>\n<text text-anchor=\"middle\" x=\"115\" y=\"-126.8\" font-family=\"Helvetica,sans-Serif\" font-size=\"14.00\">value = [347, 55]</text>\n<text text-anchor=\"middle\" x=\"115\" y=\"-111.8\" font-family=\"Helvetica,sans-Serif\" font-size=\"14.00\">class = 0</text>\n</g>\n<!-- 0&#45;&gt;1 -->\n<g id=\"edge1\" class=\"edge\">\n<title>0&#45;&gt;1</title>\n<path fill=\"none\" stroke=\"black\" d=\"M156.8,-222.91C152.03,-214.2 146.94,-204.9 142.02,-195.89\"/>\n<polygon fill=\"black\" stroke=\"black\" points=\"145.03,-194.11 137.17,-187.02 138.89,-197.47 145.03,-194.11\"/>\n<text text-anchor=\"middle\" x=\"130.14\" y=\"-207.31\" font-family=\"Helvetica,sans-Serif\" font-size=\"14.00\">True</text>\n</g>\n<!-- 4 -->\n<g id=\"node5\" class=\"node\">\n<title>4</title>\n<polygon fill=\"#399de5\" stroke=\"black\" points=\"294,-179.5 192,-179.5 192,-111.5 294,-111.5 294,-179.5\"/>\n<text text-anchor=\"middle\" x=\"243\" y=\"-164.3\" font-family=\"Helvetica,sans-Serif\" font-size=\"14.00\">gini = 0.0</text>\n<text text-anchor=\"middle\" x=\"243\" y=\"-149.3\" font-family=\"Helvetica,sans-Serif\" font-size=\"14.00\">samples = 97</text>\n<text text-anchor=\"middle\" x=\"243\" y=\"-134.3\" font-family=\"Helvetica,sans-Serif\" font-size=\"14.00\">value = [0, 97]</text>\n<text text-anchor=\"middle\" x=\"243\" y=\"-119.3\" font-family=\"Helvetica,sans-Serif\" font-size=\"14.00\">class = 1</text>\n</g>\n<!-- 0&#45;&gt;4 -->\n<g id=\"edge4\" class=\"edge\">\n<title>0&#45;&gt;4</title>\n<path fill=\"none\" stroke=\"black\" d=\"M201.2,-222.91C207.24,-211.87 213.79,-199.9 219.88,-188.77\"/>\n<polygon fill=\"black\" stroke=\"black\" points=\"223.13,-190.12 224.86,-179.67 216.99,-186.76 223.13,-190.12\"/>\n<text text-anchor=\"middle\" x=\"231.88\" y=\"-199.96\" font-family=\"Helvetica,sans-Serif\" font-size=\"14.00\">False</text>\n</g>\n<!-- 2 -->\n<g id=\"node3\" class=\"node\">\n<title>2</title>\n<polygon fill=\"#399de5\" stroke=\"black\" points=\"102,-68 0,-68 0,0 102,0 102,-68\"/>\n<text text-anchor=\"middle\" x=\"51\" y=\"-52.8\" font-family=\"Helvetica,sans-Serif\" font-size=\"14.00\">gini = 0.0</text>\n<text text-anchor=\"middle\" x=\"51\" y=\"-37.8\" font-family=\"Helvetica,sans-Serif\" font-size=\"14.00\">samples = 19</text>\n<text text-anchor=\"middle\" x=\"51\" y=\"-22.8\" font-family=\"Helvetica,sans-Serif\" font-size=\"14.00\">value = [0, 19]</text>\n<text text-anchor=\"middle\" x=\"51\" y=\"-7.8\" font-family=\"Helvetica,sans-Serif\" font-size=\"14.00\">class = 1</text>\n</g>\n<!-- 1&#45;&gt;2 -->\n<g id=\"edge2\" class=\"edge\">\n<title>1&#45;&gt;2</title>\n<path fill=\"none\" stroke=\"black\" d=\"M91.17,-103.73C86.1,-95.06 80.75,-85.9 75.65,-77.18\"/>\n<polygon fill=\"black\" stroke=\"black\" points=\"78.53,-75.17 70.46,-68.3 72.49,-78.7 78.53,-75.17\"/>\n</g>\n<!-- 3 -->\n<g id=\"node4\" class=\"node\">\n<title>3</title>\n<polygon fill=\"#e88e4e\" stroke=\"black\" points=\"237.5,-68 120.5,-68 120.5,0 237.5,0 237.5,-68\"/>\n<text text-anchor=\"middle\" x=\"179\" y=\"-52.8\" font-family=\"Helvetica,sans-Serif\" font-size=\"14.00\">gini = 0.17</text>\n<text text-anchor=\"middle\" x=\"179\" y=\"-37.8\" font-family=\"Helvetica,sans-Serif\" font-size=\"14.00\">samples = 383</text>\n<text text-anchor=\"middle\" x=\"179\" y=\"-22.8\" font-family=\"Helvetica,sans-Serif\" font-size=\"14.00\">value = [347, 36]</text>\n<text text-anchor=\"middle\" x=\"179\" y=\"-7.8\" font-family=\"Helvetica,sans-Serif\" font-size=\"14.00\">class = 0</text>\n</g>\n<!-- 1&#45;&gt;3 -->\n<g id=\"edge3\" class=\"edge\">\n<title>1&#45;&gt;3</title>\n<path fill=\"none\" stroke=\"black\" d=\"M138.83,-103.73C143.9,-95.06 149.25,-85.9 154.35,-77.18\"/>\n<polygon fill=\"black\" stroke=\"black\" points=\"157.51,-78.7 159.54,-68.3 151.47,-75.17 157.51,-78.7\"/>\n</g>\n</g>\n</svg>\n"
          },
          "metadata": {},
          "execution_count": 385
        }
      ]
    },
    {
      "cell_type": "markdown",
      "source": [
        "* 압연온도 1000.5도 이상에서 불량 증가\n",
        "* 압연온도 1000.5도 이하에서, HSB를 실시 하지 않는 경우 불량 증가"
      ],
      "metadata": {
        "id": "ms1jbO0M9_s2"
      },
      "id": "ms1jbO0M9_s2"
    },
    {
      "cell_type": "markdown",
      "source": [
        "## 시뮬레이션 진행"
      ],
      "metadata": {
        "id": "2IbeibuM3kAA"
      },
      "id": "2IbeibuM3kAA"
    },
    {
      "cell_type": "code",
      "source": [
        "import random\n",
        "FUR_SZ_TEMP_sim = random.choices(range(1113,1175), k = 714)\n",
        "# ROLLING_TEMP_T5_sim = random.choices(range(735,1001), k = 714)\n",
        "HSB_sim = [1] * 714"
      ],
      "metadata": {
        "id": "pbkdh-1stxUS"
      },
      "id": "pbkdh-1stxUS",
      "execution_count": 392,
      "outputs": []
    },
    {
      "cell_type": "code",
      "source": [
        "df_raw[\"SCALE\"] = pd.to_numeric(df_raw[\"SCALE\"], errors = 'coerce')\n",
        "df_raw = df_raw.astype({'PT_THICK' : 'int'})"
      ],
      "metadata": {
        "id": "Ybcwijvcu5Kb"
      },
      "id": "Ybcwijvcu5Kb",
      "execution_count": 393,
      "outputs": []
    },
    {
      "cell_type": "code",
      "source": [
        "df_raw_sim = df_raw.drop([\"PLATE_NO\",\"ROLLING_DATE\",\"SPEC\",\"STEEL_KIND\",\"FUR_NO\",\"FUR_NO_ROW\",\"WORK_GR\"], errors='ignore', axis= 1, inplace = False)\n",
        "df_train_x_sim = df_raw_sim.drop(\"SCALE\", axis= 1, inplace = False)\n",
        "df_train_y_sim = df_raw_sim[\"SCALE\"]\n",
        "tree_final = DecisionTreeClassifier(min_samples_leaf = 8, min_samples_split = 20, max_depth = 2)\n",
        "tree_final.fit(df_train_x_sim, df_train_y_sim)\n",
        "print('Score on training set: {:.3f}'.format(tree_final.score(df_train_x_sim, df_train_y_sim)))"
      ],
      "metadata": {
        "colab": {
          "base_uri": "https://localhost:8080/"
        },
        "id": "Gf0eNvNK3qNR",
        "outputId": "6576d6db-b1b4-4a73-b21b-94c592a3153e"
      },
      "id": "Gf0eNvNK3qNR",
      "execution_count": 394,
      "outputs": [
        {
          "output_type": "stream",
          "name": "stdout",
          "text": [
            "Score on training set: 0.933\n"
          ]
        }
      ]
    },
    {
      "cell_type": "code",
      "source": [
        "df_test_sim = df_raw_sim\n",
        "df_test_sim[\"FUR_SZ_TEMP\"] = FUR_SZ_TEMP_sim\n",
        "# df_test_sim[\"ROLLING_TEMP_T5\"] = ROLLING_TEMP_T5_sim\n",
        "df_test_sim[\"HSB\"] = HSB_sim\n",
        "df_test_x_sim = df_test_sim.drop(\"SCALE\", axis= 1, inplace = False)\n",
        "y_pred_sim = tree_final.predict(df_test_x_sim)"
      ],
      "metadata": {
        "id": "liaDdlj7zoOm"
      },
      "id": "liaDdlj7zoOm",
      "execution_count": 395,
      "outputs": []
    },
    {
      "cell_type": "code",
      "source": [
        "list(y_pred_sim).count(1)"
      ],
      "metadata": {
        "colab": {
          "base_uri": "https://localhost:8080/"
        },
        "id": "MkrVDOIR2-bR",
        "outputId": "b061cea9-d00d-4099-d7ca-b32f06d05d42"
      },
      "id": "MkrVDOIR2-bR",
      "execution_count": 396,
      "outputs": [
        {
          "output_type": "execute_result",
          "data": {
            "text/plain": [
              "152"
            ]
          },
          "metadata": {},
          "execution_count": 396
        }
      ]
    },
    {
      "cell_type": "markdown",
      "source": [
        "* 균열도 최적조건, HSB 처리를 실시할 경우, 불량률이 32%에서 21%까지 감소한다.\n",
        "* 압연온도의 최적조건만 달성하더라도 불량률이 0%가 되는 것을 확인하였다.\n"
      ],
      "metadata": {
        "id": "-NL0uxmR-ete"
      },
      "id": "-NL0uxmR-ete"
    }
  ],
  "metadata": {
    "kernelspec": {
      "display_name": "Python 3 (ipykernel)",
      "language": "python",
      "name": "python3"
    },
    "language_info": {
      "codemirror_mode": {
        "name": "ipython",
        "version": 3
      },
      "file_extension": ".py",
      "mimetype": "text/x-python",
      "name": "python",
      "nbconvert_exporter": "python",
      "pygments_lexer": "ipython3",
      "version": "3.9.12"
    },
    "toc": {
      "base_numbering": 1,
      "nav_menu": {},
      "number_sections": true,
      "sideBar": true,
      "skip_h1_title": false,
      "title_cell": "Table of Contents",
      "title_sidebar": "Contents",
      "toc_cell": false,
      "toc_position": {
        "height": "calc(100% - 180px)",
        "left": "10px",
        "top": "150px",
        "width": "370.594px"
      },
      "toc_section_display": true,
      "toc_window_display": true
    },
    "colab": {
      "provenance": [],
      "toc_visible": true
    },
    "gpuClass": "standard"
  },
  "nbformat": 4,
  "nbformat_minor": 5
}